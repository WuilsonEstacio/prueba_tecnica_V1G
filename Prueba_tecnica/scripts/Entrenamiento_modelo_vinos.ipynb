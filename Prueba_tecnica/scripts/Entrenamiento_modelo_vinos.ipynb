{
  "cells": [
    {
      "cell_type": "markdown",
      "source": [
        "\"\"\"\n",
        "*****************************************************************************\n",
        "* MLops                                                                     *\n",
        "* OBJETIVO: Entrenar el modelo vinos                                        * \n",
        "* INPUT: TBL_ENTRENAMIENTO_MODELO_VINOS.parquet                             *\n",
        "* OUTPUT: DATA_VINOS_PREPROCESAMIENTO                                       *\n",
        "* FECHA CREACION: 05/12/2024                                                *\n",
        "* ***************************************************************************\n",
        "* MODIFICACIONES\n",
        "* NOMBRE WUILSON ESTACIO                    \n",
        "* FECHA 05/12/2024\n",
        "* VERSION 02\n",
        "* DESCRIPCION Realiza entrenamiento del modelo y empaque \n",
        "******************************************************************************\n",
        "\"\"\""
      ],
      "metadata": {
        "nteract": {
          "transient": {
            "deleting": false
          }
        }
      }
    },
    {
      "cell_type": "code",
      "source": [
        "# pip install azureml-sdk"
      ],
      "outputs": [
        {
          "output_type": "stream",
          "name": "stdout",
          "text": "Requirement already satisfied: azureml-sdk in /anaconda/envs/azureml_py310_sdkv2/lib/python3.10/site-packages (1.58.0)\nRequirement already satisfied: azureml-core~=1.58.0 in /anaconda/envs/azureml_py310_sdkv2/lib/python3.10/site-packages (from azureml-sdk) (1.58.0.post1)\nRequirement already satisfied: azureml-dataset-runtime~=1.58.0 in /anaconda/envs/azureml_py310_sdkv2/lib/python3.10/site-packages (from azureml-dataset-runtime[fuse]~=1.58.0->azureml-sdk) (1.58.0)\nRequirement already satisfied: azureml-train-core~=1.58.0 in /anaconda/envs/azureml_py310_sdkv2/lib/python3.10/site-packages (from azureml-sdk) (1.58.0)\nRequirement already satisfied: azureml-train-automl-client~=1.58.0 in /anaconda/envs/azureml_py310_sdkv2/lib/python3.10/site-packages (from azureml-sdk) (1.58.0)\nRequirement already satisfied: azureml-pipeline~=1.58.0 in /anaconda/envs/azureml_py310_sdkv2/lib/python3.10/site-packages (from azureml-sdk) (1.58.0)\nRequirement already satisfied: pytz in /anaconda/envs/azureml_py310_sdkv2/lib/python3.10/site-packages (from azureml-core~=1.58.0->azureml-sdk) (2024.2)\nRequirement already satisfied: backports.tempfile in /anaconda/envs/azureml_py310_sdkv2/lib/python3.10/site-packages (from azureml-core~=1.58.0->azureml-sdk) (1.0)\nRequirement already satisfied: pathspec<1.0.0 in /anaconda/envs/azureml_py310_sdkv2/lib/python3.10/site-packages (from azureml-core~=1.58.0->azureml-sdk) (0.12.1)\nRequirement already satisfied: requests<3.0.0,>=2.19.1 in /anaconda/envs/azureml_py310_sdkv2/lib/python3.10/site-packages (from requests[socks]<3.0.0,>=2.19.1->azureml-core~=1.58.0->azureml-sdk) (2.32.3)\nRequirement already satisfied: msal<2.0.0,>=1.15.0 in /anaconda/envs/azureml_py310_sdkv2/lib/python3.10/site-packages (from azureml-core~=1.58.0->azureml-sdk) (1.31.0)\nRequirement already satisfied: msal-extensions<=2.0.0,>=0.3.0 in /anaconda/envs/azureml_py310_sdkv2/lib/python3.10/site-packages (from azureml-core~=1.58.0->azureml-sdk) (1.2.0)\nRequirement already satisfied: knack<0.13.0 in /anaconda/envs/azureml_py310_sdkv2/lib/python3.10/site-packages (from azureml-core~=1.58.0->azureml-sdk) (0.11.0)\nRequirement already satisfied: azure-core<2.0.0 in /anaconda/envs/azureml_py310_sdkv2/lib/python3.10/site-packages (from azureml-core~=1.58.0->azureml-sdk) (1.31.0)\nRequirement already satisfied: pkginfo in /anaconda/envs/azureml_py310_sdkv2/lib/python3.10/site-packages (from azureml-core~=1.58.0->azureml-sdk) (1.11.1)\nRequirement already satisfied: argcomplete<4 in /anaconda/envs/azureml_py310_sdkv2/lib/python3.10/site-packages (from azureml-core~=1.58.0->azureml-sdk) (3.5.0)\nRequirement already satisfied: humanfriendly<11.0,>=4.7 in /anaconda/envs/azureml_py310_sdkv2/lib/python3.10/site-packages (from azureml-core~=1.58.0->azureml-sdk) (10.0)\nRequirement already satisfied: paramiko<4.0.0,>=2.0.8 in /anaconda/envs/azureml_py310_sdkv2/lib/python3.10/site-packages (from azureml-core~=1.58.0->azureml-sdk) (3.5.0)\nRequirement already satisfied: azure-mgmt-resource<=24.0.0,>=15.0.0 in /anaconda/envs/azureml_py310_sdkv2/lib/python3.10/site-packages (from azureml-core~=1.58.0->azureml-sdk) (23.1.1)\nRequirement already satisfied: azure-mgmt-containerregistry<11,>=8.2.0 in /anaconda/envs/azureml_py310_sdkv2/lib/python3.10/site-packages (from azureml-core~=1.58.0->azureml-sdk) (10.3.0)\nRequirement already satisfied: azure-mgmt-storage<=22.0.0,>=16.0.0 in /anaconda/envs/azureml_py310_sdkv2/lib/python3.10/site-packages (from azureml-core~=1.58.0->azureml-sdk) (21.2.1)\nRequirement already satisfied: azure-mgmt-keyvault<11.0.0,>=0.40.0 in /anaconda/envs/azureml_py310_sdkv2/lib/python3.10/site-packages (from azureml-core~=1.58.0->azureml-sdk) (10.3.1)\nRequirement already satisfied: azure-mgmt-authorization<5,>=0.40.0 in /anaconda/envs/azureml_py310_sdkv2/lib/python3.10/site-packages (from azureml-core~=1.58.0->azureml-sdk) (4.0.0)\nRequirement already satisfied: azure-mgmt-network<=28.0.0 in /anaconda/envs/azureml_py310_sdkv2/lib/python3.10/site-packages (from azureml-core~=1.58.0->azureml-sdk) (26.0.0)\nRequirement already satisfied: azure-graphrbac<1.0.0,>=0.40.0 in /anaconda/envs/azureml_py310_sdkv2/lib/python3.10/site-packages (from azureml-core~=1.58.0->azureml-sdk) (0.61.1)\nRequirement already satisfied: azure-common<2.0.0,>=1.1.12 in /anaconda/envs/azureml_py310_sdkv2/lib/python3.10/site-packages (from azureml-core~=1.58.0->azureml-sdk) (1.1.28)\nRequirement already satisfied: msrest<=0.7.1,>=0.5.1 in /anaconda/envs/azureml_py310_sdkv2/lib/python3.10/site-packages (from azureml-core~=1.58.0->azureml-sdk) (0.7.1)\nRequirement already satisfied: msrestazure<=0.7,>=0.4.33 in /anaconda/envs/azureml_py310_sdkv2/lib/python3.10/site-packages (from azureml-core~=1.58.0->azureml-sdk) (0.6.4.post1)\nRequirement already satisfied: urllib3<3.0.0,>1.26.17 in /anaconda/envs/azureml_py310_sdkv2/lib/python3.10/site-packages (from azureml-core~=1.58.0->azureml-sdk) (2.2.3)\nRequirement already satisfied: packaging<=25.0,>=20.0 in /anaconda/envs/azureml_py310_sdkv2/lib/python3.10/site-packages (from azureml-core~=1.58.0->azureml-sdk) (24.1)\nRequirement already satisfied: python-dateutil<3.0.0,>=2.7.3 in /anaconda/envs/azureml_py310_sdkv2/lib/python3.10/site-packages (from azureml-core~=1.58.0->azureml-sdk) (2.9.0)\nRequirement already satisfied: ndg-httpsclient<=0.5.1 in /anaconda/envs/azureml_py310_sdkv2/lib/python3.10/site-packages (from azureml-core~=1.58.0->azureml-sdk) (0.5.1)\nRequirement already satisfied: SecretStorage<4.0.0 in /anaconda/envs/azureml_py310_sdkv2/lib/python3.10/site-packages (from azureml-core~=1.58.0->azureml-sdk) (3.3.3)\nRequirement already satisfied: jsonpickle<4.0.0 in /anaconda/envs/azureml_py310_sdkv2/lib/python3.10/site-packages (from azureml-core~=1.58.0->azureml-sdk) (3.3.0)\nRequirement already satisfied: contextlib2<22.0.0 in /anaconda/envs/azureml_py310_sdkv2/lib/python3.10/site-packages (from azureml-core~=1.58.0->azureml-sdk) (21.6.0)\nRequirement already satisfied: docker<8.0.0 in /anaconda/envs/azureml_py310_sdkv2/lib/python3.10/site-packages (from azureml-core~=1.58.0->azureml-sdk) (7.1.0)\nRequirement already satisfied: PyJWT<3.0.0 in /anaconda/envs/azureml_py310_sdkv2/lib/python3.10/site-packages (from azureml-core~=1.58.0->azureml-sdk) (2.9.0)\nRequirement already satisfied: adal<=1.2.7,>=1.2.0 in /anaconda/envs/azureml_py310_sdkv2/lib/python3.10/site-packages (from azureml-core~=1.58.0->azureml-sdk) (1.2.7)\nRequirement already satisfied: pyopenssl<25.0.0 in /anaconda/envs/azureml_py310_sdkv2/lib/python3.10/site-packages (from azureml-core~=1.58.0->azureml-sdk) (24.2.1)\nRequirement already satisfied: jmespath<2.0.0 in /anaconda/envs/azureml_py310_sdkv2/lib/python3.10/site-packages (from azureml-core~=1.58.0->azureml-sdk) (1.0.1)\nRequirement already satisfied: azureml-dataprep<5.2.0a,>=5.1.0a in /anaconda/envs/azureml_py310_sdkv2/lib/python3.10/site-packages (from azureml-dataset-runtime~=1.58.0->azureml-dataset-runtime[fuse]~=1.58.0->azureml-sdk) (5.1.6)\nRequirement already satisfied: pyarrow>=0.17.0 in /anaconda/envs/azureml_py310_sdkv2/lib/python3.10/site-packages (from azureml-dataset-runtime~=1.58.0->azureml-dataset-runtime[fuse]~=1.58.0->azureml-sdk) (17.0.0)\nRequirement already satisfied: numpy!=1.19.3,<1.24 in /anaconda/envs/azureml_py310_sdkv2/lib/python3.10/site-packages (from azureml-dataset-runtime~=1.58.0->azureml-dataset-runtime[fuse]~=1.58.0->azureml-sdk) (1.23.5)\nRequirement already satisfied: fusepy<4.0.0,>=3.0.1 in /anaconda/envs/azureml_py310_sdkv2/lib/python3.10/site-packages (from azureml-dataset-runtime[fuse]~=1.58.0->azureml-sdk) (3.0.1)\nRequirement already satisfied: azureml-pipeline-core~=1.58.0 in /anaconda/envs/azureml_py310_sdkv2/lib/python3.10/site-packages (from azureml-pipeline~=1.58.0->azureml-sdk) (1.58.0)\nRequirement already satisfied: azureml-pipeline-steps~=1.58.0 in /anaconda/envs/azureml_py310_sdkv2/lib/python3.10/site-packages (from azureml-pipeline~=1.58.0->azureml-sdk) (1.58.0)\nRequirement already satisfied: azureml-automl-core~=1.58.0 in /anaconda/envs/azureml_py310_sdkv2/lib/python3.10/site-packages (from azureml-train-automl-client~=1.58.0->azureml-sdk) (1.58.0)\nRequirement already satisfied: azureml-telemetry~=1.58.0 in /anaconda/envs/azureml_py310_sdkv2/lib/python3.10/site-packages (from azureml-train-automl-client~=1.58.0->azureml-sdk) (1.58.0)\nRequirement already satisfied: azureml-train-restclients-hyperdrive~=1.58.0 in /anaconda/envs/azureml_py310_sdkv2/lib/python3.10/site-packages (from azureml-train-core~=1.58.0->azureml-sdk) (1.58.0)\nRequirement already satisfied: cryptography>=1.1.0 in /anaconda/envs/azureml_py310_sdkv2/lib/python3.10/site-packages (from adal<=1.2.7,>=1.2.0->azureml-core~=1.58.0->azureml-sdk) (43.0.1)\nRequirement already satisfied: six>=1.11.0 in /anaconda/envs/azureml_py310_sdkv2/lib/python3.10/site-packages (from azure-core<2.0.0->azureml-core~=1.58.0->azureml-sdk) (1.16.0)\nRequirement already satisfied: typing-extensions>=4.6.0 in /anaconda/envs/azureml_py310_sdkv2/lib/python3.10/site-packages (from azure-core<2.0.0->azureml-core~=1.58.0->azureml-sdk) (4.12.2)\nRequirement already satisfied: isodate<1.0.0,>=0.6.1 in /anaconda/envs/azureml_py310_sdkv2/lib/python3.10/site-packages (from azure-mgmt-authorization<5,>=0.40.0->azureml-core~=1.58.0->azureml-sdk) (0.6.1)\nRequirement already satisfied: azure-mgmt-core<2.0.0,>=1.3.2 in /anaconda/envs/azureml_py310_sdkv2/lib/python3.10/site-packages (from azure-mgmt-authorization<5,>=0.40.0->azureml-core~=1.58.0->azureml-sdk) (1.4.0)\nRequirement already satisfied: importlib-metadata<=8.2.0 in /anaconda/envs/azureml_py310_sdkv2/lib/python3.10/site-packages (from azureml-automl-core~=1.58.0->azureml-train-automl-client~=1.58.0->azureml-sdk) (8.2.0)\nRequirement already satisfied: importlib-resources<=6.4.0 in /anaconda/envs/azureml_py310_sdkv2/lib/python3.10/site-packages (from azureml-automl-core~=1.58.0->azureml-train-automl-client~=1.58.0->azureml-sdk) (6.4.0)\nRequirement already satisfied: azureml-dataprep-native<42.0.0,>=41.0.0 in /anaconda/envs/azureml_py310_sdkv2/lib/python3.10/site-packages (from azureml-dataprep<5.2.0a,>=5.1.0a->azureml-dataset-runtime~=1.58.0->azureml-dataset-runtime[fuse]~=1.58.0->azureml-sdk) (41.0.0)\nRequirement already satisfied: azureml-dataprep-rslex~=2.22.2dev0 in /anaconda/envs/azureml_py310_sdkv2/lib/python3.10/site-packages (from azureml-dataprep<5.2.0a,>=5.1.0a->azureml-dataset-runtime~=1.58.0->azureml-dataset-runtime[fuse]~=1.58.0->azureml-sdk) (2.22.4)\nRequirement already satisfied: cloudpickle<3.0.0,>=1.1.0 in /anaconda/envs/azureml_py310_sdkv2/lib/python3.10/site-packages (from azureml-dataprep<5.2.0a,>=5.1.0a->azureml-dataset-runtime~=1.58.0->azureml-dataset-runtime[fuse]~=1.58.0->azureml-sdk) (2.2.1)\nRequirement already satisfied: azure-identity>=1.7.0 in /anaconda/envs/azureml_py310_sdkv2/lib/python3.10/site-packages (from azureml-dataprep<5.2.0a,>=5.1.0a->azureml-dataset-runtime~=1.58.0->azureml-dataset-runtime[fuse]~=1.58.0->azureml-sdk) (1.18.0)\nRequirement already satisfied: jsonschema in /anaconda/envs/azureml_py310_sdkv2/lib/python3.10/site-packages (from azureml-dataprep<5.2.0a,>=5.1.0a->azureml-dataset-runtime~=1.58.0->azureml-dataset-runtime[fuse]~=1.58.0->azureml-sdk) (4.23.0)\nRequirement already satisfied: pyyaml<7.0.0,>=5.1.0 in /anaconda/envs/azureml_py310_sdkv2/lib/python3.10/site-packages (from azureml-dataprep<5.2.0a,>=5.1.0a->azureml-dataset-runtime~=1.58.0->azureml-dataset-runtime[fuse]~=1.58.0->azureml-sdk) (6.0.2)\nRequirement already satisfied: applicationinsights in /anaconda/envs/azureml_py310_sdkv2/lib/python3.10/site-packages (from azureml-telemetry~=1.58.0->azureml-train-automl-client~=1.58.0->azureml-sdk) (0.11.10)\nRequirement already satisfied: pygments in /anaconda/envs/azureml_py310_sdkv2/lib/python3.10/site-packages (from knack<0.13.0->azureml-core~=1.58.0->azureml-sdk) (2.18.0)\nRequirement already satisfied: tabulate in /anaconda/envs/azureml_py310_sdkv2/lib/python3.10/site-packages (from knack<0.13.0->azureml-core~=1.58.0->azureml-sdk) (0.9.0)\nRequirement already satisfied: portalocker<3,>=1.4 in /anaconda/envs/azureml_py310_sdkv2/lib/python3.10/site-packages (from msal-extensions<=2.0.0,>=0.3.0->azureml-core~=1.58.0->azureml-sdk) (2.10.1)\nRequirement already satisfied: certifi>=2017.4.17 in /anaconda/envs/azureml_py310_sdkv2/lib/python3.10/site-packages (from msrest<=0.7.1,>=0.5.1->azureml-core~=1.58.0->azureml-sdk) (2024.8.30)\nRequirement already satisfied: requests-oauthlib>=0.5.0 in /anaconda/envs/azureml_py310_sdkv2/lib/python3.10/site-packages (from msrest<=0.7.1,>=0.5.1->azureml-core~=1.58.0->azureml-sdk) (2.0.0)\nRequirement already satisfied: pyasn1>=0.1.1 in /anaconda/envs/azureml_py310_sdkv2/lib/python3.10/site-packages (from ndg-httpsclient<=0.5.1->azureml-core~=1.58.0->azureml-sdk) (0.6.1)\nRequirement already satisfied: bcrypt>=3.2 in /anaconda/envs/azureml_py310_sdkv2/lib/python3.10/site-packages (from paramiko<4.0.0,>=2.0.8->azureml-core~=1.58.0->azureml-sdk) (4.2.0)\nRequirement already satisfied: pynacl>=1.5 in /anaconda/envs/azureml_py310_sdkv2/lib/python3.10/site-packages (from paramiko<4.0.0,>=2.0.8->azureml-core~=1.58.0->azureml-sdk) (1.5.0)\nRequirement already satisfied: charset-normalizer<4,>=2 in /anaconda/envs/azureml_py310_sdkv2/lib/python3.10/site-packages (from requests<3.0.0,>=2.19.1->requests[socks]<3.0.0,>=2.19.1->azureml-core~=1.58.0->azureml-sdk) (3.3.2)\nRequirement already satisfied: idna<4,>=2.5 in /anaconda/envs/azureml_py310_sdkv2/lib/python3.10/site-packages (from requests<3.0.0,>=2.19.1->requests[socks]<3.0.0,>=2.19.1->azureml-core~=1.58.0->azureml-sdk) (3.10)\nRequirement already satisfied: PySocks!=1.5.7,>=1.5.6 in /anaconda/envs/azureml_py310_sdkv2/lib/python3.10/site-packages (from requests[socks]<3.0.0,>=2.19.1->azureml-core~=1.58.0->azureml-sdk) (1.7.1)\nRequirement already satisfied: jeepney>=0.6 in /anaconda/envs/azureml_py310_sdkv2/lib/python3.10/site-packages (from SecretStorage<4.0.0->azureml-core~=1.58.0->azureml-sdk) (0.8.0)\nRequirement already satisfied: backports.weakref in /anaconda/envs/azureml_py310_sdkv2/lib/python3.10/site-packages (from backports.tempfile->azureml-core~=1.58.0->azureml-sdk) (1.0.post1)\nRequirement already satisfied: cffi>=1.12 in /anaconda/envs/azureml_py310_sdkv2/lib/python3.10/site-packages (from cryptography>=1.1.0->adal<=1.2.7,>=1.2.0->azureml-core~=1.58.0->azureml-sdk) (1.17.1)\nRequirement already satisfied: zipp>=0.5 in /anaconda/envs/azureml_py310_sdkv2/lib/python3.10/site-packages (from importlib-metadata<=8.2.0->azureml-automl-core~=1.58.0->azureml-train-automl-client~=1.58.0->azureml-sdk) (3.20.2)\nRequirement already satisfied: oauthlib>=3.0.0 in /anaconda/envs/azureml_py310_sdkv2/lib/python3.10/site-packages (from requests-oauthlib>=0.5.0->msrest<=0.7.1,>=0.5.1->azureml-core~=1.58.0->azureml-sdk) (3.2.2)\nRequirement already satisfied: attrs>=22.2.0 in /anaconda/envs/azureml_py310_sdkv2/lib/python3.10/site-packages (from jsonschema->azureml-dataprep<5.2.0a,>=5.1.0a->azureml-dataset-runtime~=1.58.0->azureml-dataset-runtime[fuse]~=1.58.0->azureml-sdk) (24.2.0)\nRequirement already satisfied: jsonschema-specifications>=2023.03.6 in /anaconda/envs/azureml_py310_sdkv2/lib/python3.10/site-packages (from jsonschema->azureml-dataprep<5.2.0a,>=5.1.0a->azureml-dataset-runtime~=1.58.0->azureml-dataset-runtime[fuse]~=1.58.0->azureml-sdk) (2023.12.1)\nRequirement already satisfied: referencing>=0.28.4 in /anaconda/envs/azureml_py310_sdkv2/lib/python3.10/site-packages (from jsonschema->azureml-dataprep<5.2.0a,>=5.1.0a->azureml-dataset-runtime~=1.58.0->azureml-dataset-runtime[fuse]~=1.58.0->azureml-sdk) (0.35.1)\nRequirement already satisfied: rpds-py>=0.7.1 in /anaconda/envs/azureml_py310_sdkv2/lib/python3.10/site-packages (from jsonschema->azureml-dataprep<5.2.0a,>=5.1.0a->azureml-dataset-runtime~=1.58.0->azureml-dataset-runtime[fuse]~=1.58.0->azureml-sdk) (0.20.0)\nRequirement already satisfied: pycparser in /anaconda/envs/azureml_py310_sdkv2/lib/python3.10/site-packages (from cffi>=1.12->cryptography>=1.1.0->adal<=1.2.7,>=1.2.0->azureml-core~=1.58.0->azureml-sdk) (2.22)\nNote: you may need to restart the kernel to use updated packages.\n"
        }
      ],
      "execution_count": 1,
      "metadata": {
        "jupyter": {
          "source_hidden": false,
          "outputs_hidden": false
        },
        "nteract": {
          "transient": {
            "deleting": false
          }
        },
        "gather": {
          "logged": 1733518119193
        }
      }
    },
    {
      "cell_type": "markdown",
      "source": [
        "### Intalacion librerias"
      ],
      "metadata": {
        "nteract": {
          "transient": {
            "deleting": false
          }
        }
      }
    },
    {
      "cell_type": "code",
      "source": [
        "# Instalar librerias\n",
        "import subprocess\n",
        "\n",
        "# Lista de librerías a instalar\n",
        "librerias = ['pyspark','findspark','openpyxl','plotly','yellowbrick','jedi','seaborn','azureml-sdk']\n",
        "\n",
        "# Iterar sobre la lista de librerías y ejecutar el comando de instalación para cada una\n",
        "for libreria in librerias:\n",
        "    subprocess.run(['pip', 'install', libreria])"
      ],
      "outputs": [
        {
          "output_type": "stream",
          "name": "stdout",
          "text": "Requirement already satisfied: pyspark in /anaconda/envs/azureml_py38/lib/python3.10/site-packages (3.3.1)\nRequirement already satisfied: py4j==0.10.9.5 in /anaconda/envs/azureml_py38/lib/python3.10/site-packages (from pyspark) (0.10.9.5)\nRequirement already satisfied: findspark in /anaconda/envs/azureml_py38/lib/python3.10/site-packages (2.0.1)\nRequirement already satisfied: openpyxl in /anaconda/envs/azureml_py38/lib/python3.10/site-packages (3.1.5)\nRequirement already satisfied: et-xmlfile in /anaconda/envs/azureml_py38/lib/python3.10/site-packages (from openpyxl) (2.0.0)\nRequirement already satisfied: plotly in /anaconda/envs/azureml_py38/lib/python3.10/site-packages (5.24.1)\nRequirement already satisfied: tenacity>=6.2.0 in /anaconda/envs/azureml_py38/lib/python3.10/site-packages (from plotly) (9.0.0)\nRequirement already satisfied: packaging in /anaconda/envs/azureml_py38/lib/python3.10/site-packages (from plotly) (24.1)\nRequirement already satisfied: yellowbrick in /anaconda/envs/azureml_py38/lib/python3.10/site-packages (1.5)\nRequirement already satisfied: scipy>=1.0.0 in /anaconda/envs/azureml_py38/lib/python3.10/site-packages (from yellowbrick) (1.10.1)\nRequirement already satisfied: numpy>=1.16.0 in /anaconda/envs/azureml_py38/lib/python3.10/site-packages (from yellowbrick) (1.23.5)\nRequirement already satisfied: matplotlib!=3.0.0,>=2.0.2 in /anaconda/envs/azureml_py38/lib/python3.10/site-packages (from yellowbrick) (3.6.3)\nRequirement already satisfied: cycler>=0.10.0 in /anaconda/envs/azureml_py38/lib/python3.10/site-packages (from yellowbrick) (0.12.1)\nRequirement already satisfied: scikit-learn>=1.0.0 in /anaconda/envs/azureml_py38/lib/python3.10/site-packages (from yellowbrick) (1.5.1)\nRequirement already satisfied: python-dateutil>=2.7 in /anaconda/envs/azureml_py38/lib/python3.10/site-packages (from matplotlib!=3.0.0,>=2.0.2->yellowbrick) (2.9.0.post0)\nRequirement already satisfied: packaging>=20.0 in /anaconda/envs/azureml_py38/lib/python3.10/site-packages (from matplotlib!=3.0.0,>=2.0.2->yellowbrick) (24.1)\nRequirement already satisfied: kiwisolver>=1.0.1 in /anaconda/envs/azureml_py38/lib/python3.10/site-packages (from matplotlib!=3.0.0,>=2.0.2->yellowbrick) (1.4.5)\nRequirement already satisfied: fonttools>=4.22.0 in /anaconda/envs/azureml_py38/lib/python3.10/site-packages (from matplotlib!=3.0.0,>=2.0.2->yellowbrick) (4.51.0)\nRequirement already satisfied: pillow>=6.2.0 in /anaconda/envs/azureml_py38/lib/python3.10/site-packages (from matplotlib!=3.0.0,>=2.0.2->yellowbrick) (9.2.0)\nRequirement already satisfied: pyparsing>=2.2.1 in /anaconda/envs/azureml_py38/lib/python3.10/site-packages (from matplotlib!=3.0.0,>=2.0.2->yellowbrick) (3.1.2)\nRequirement already satisfied: contourpy>=1.0.1 in /anaconda/envs/azureml_py38/lib/python3.10/site-packages (from matplotlib!=3.0.0,>=2.0.2->yellowbrick) (1.2.1)\nRequirement already satisfied: threadpoolctl>=3.1.0 in /anaconda/envs/azureml_py38/lib/python3.10/site-packages (from scikit-learn>=1.0.0->yellowbrick) (3.5.0)\nRequirement already satisfied: joblib>=1.2.0 in /anaconda/envs/azureml_py38/lib/python3.10/site-packages (from scikit-learn>=1.0.0->yellowbrick) (1.2.0)\nRequirement already satisfied: six>=1.5 in /anaconda/envs/azureml_py38/lib/python3.10/site-packages (from python-dateutil>=2.7->matplotlib!=3.0.0,>=2.0.2->yellowbrick) (1.16.0)\nRequirement already satisfied: jedi in /anaconda/envs/azureml_py38/lib/python3.10/site-packages (0.18.0)\nRequirement already satisfied: parso<0.9.0,>=0.8.0 in /anaconda/envs/azureml_py38/lib/python3.10/site-packages (from jedi) (0.8.4)\nRequirement already satisfied: seaborn in /anaconda/envs/azureml_py38/lib/python3.10/site-packages (0.13.2)\nRequirement already satisfied: numpy!=1.24.0,>=1.20 in /anaconda/envs/azureml_py38/lib/python3.10/site-packages (from seaborn) (1.23.5)\nRequirement already satisfied: pandas>=1.2 in /anaconda/envs/azureml_py38/lib/python3.10/site-packages (from seaborn) (1.3.5)\nRequirement already satisfied: matplotlib!=3.6.1,>=3.4 in /anaconda/envs/azureml_py38/lib/python3.10/site-packages (from seaborn) (3.6.3)\nRequirement already satisfied: packaging>=20.0 in /anaconda/envs/azureml_py38/lib/python3.10/site-packages (from matplotlib!=3.6.1,>=3.4->seaborn) (24.1)\nRequirement already satisfied: kiwisolver>=1.0.1 in /anaconda/envs/azureml_py38/lib/python3.10/site-packages (from matplotlib!=3.6.1,>=3.4->seaborn) (1.4.5)\nRequirement already satisfied: pyparsing>=2.2.1 in /anaconda/envs/azureml_py38/lib/python3.10/site-packages (from matplotlib!=3.6.1,>=3.4->seaborn) (3.1.2)\nRequirement already satisfied: python-dateutil>=2.7 in /anaconda/envs/azureml_py38/lib/python3.10/site-packages (from matplotlib!=3.6.1,>=3.4->seaborn) (2.9.0.post0)\nRequirement already satisfied: cycler>=0.10 in /anaconda/envs/azureml_py38/lib/python3.10/site-packages (from matplotlib!=3.6.1,>=3.4->seaborn) (0.12.1)\nRequirement already satisfied: pillow>=6.2.0 in /anaconda/envs/azureml_py38/lib/python3.10/site-packages (from matplotlib!=3.6.1,>=3.4->seaborn) (9.2.0)\nRequirement already satisfied: fonttools>=4.22.0 in /anaconda/envs/azureml_py38/lib/python3.10/site-packages (from matplotlib!=3.6.1,>=3.4->seaborn) (4.51.0)\nRequirement already satisfied: contourpy>=1.0.1 in /anaconda/envs/azureml_py38/lib/python3.10/site-packages (from matplotlib!=3.6.1,>=3.4->seaborn) (1.2.1)\nRequirement already satisfied: pytz>=2017.3 in /anaconda/envs/azureml_py38/lib/python3.10/site-packages (from pandas>=1.2->seaborn) (2022.5)\nRequirement already satisfied: six>=1.5 in /anaconda/envs/azureml_py38/lib/python3.10/site-packages (from python-dateutil>=2.7->matplotlib!=3.6.1,>=3.4->seaborn) (1.16.0)\nRequirement already satisfied: azureml-sdk in /anaconda/envs/azureml_py38/lib/python3.10/site-packages (1.57.0)\nRequirement already satisfied: azureml-dataset-runtime[fuse]~=1.57.0 in /anaconda/envs/azureml_py38/lib/python3.10/site-packages (from azureml-sdk) (1.57.0)\nRequirement already satisfied: azureml-train-automl-client~=1.57.0 in /anaconda/envs/azureml_py38/lib/python3.10/site-packages (from azureml-sdk) (1.57.0)\nRequirement already satisfied: azureml-train-core~=1.57.0 in /anaconda/envs/azureml_py38/lib/python3.10/site-packages (from azureml-sdk) (1.57.0)\nRequirement already satisfied: azureml-pipeline~=1.57.0 in /anaconda/envs/azureml_py38/lib/python3.10/site-packages (from azureml-sdk) (1.57.0)\nRequirement already satisfied: azureml-core~=1.57.0 in /anaconda/envs/azureml_py38/lib/python3.10/site-packages (from azureml-sdk) (1.57.0)\nRequirement already satisfied: argcomplete<4 in /anaconda/envs/azureml_py38/lib/python3.10/site-packages (from azureml-core~=1.57.0->azureml-sdk) (3.3.0)\nRequirement already satisfied: humanfriendly<11.0,>=4.7 in /anaconda/envs/azureml_py38/lib/python3.10/site-packages (from azureml-core~=1.57.0->azureml-sdk) (10.0)\nRequirement already satisfied: requests[socks]<3.0.0,>=2.19.1 in /anaconda/envs/azureml_py38/lib/python3.10/site-packages (from azureml-core~=1.57.0->azureml-sdk) (2.32.3)\nRequirement already satisfied: jmespath<2.0.0 in /anaconda/envs/azureml_py38/lib/python3.10/site-packages (from azureml-core~=1.57.0->azureml-sdk) (0.10.0)\nRequirement already satisfied: azure-mgmt-containerregistry<11,>=8.2.0 in /anaconda/envs/azureml_py38/lib/python3.10/site-packages (from azureml-core~=1.57.0->azureml-sdk) (10.3.0)\nRequirement already satisfied: packaging<=25.0,>=20.0 in /anaconda/envs/azureml_py38/lib/python3.10/site-packages (from azureml-core~=1.57.0->azureml-sdk) (24.1)\nRequirement already satisfied: pyopenssl<25.0.0 in /anaconda/envs/azureml_py38/lib/python3.10/site-packages (from azureml-core~=1.57.0->azureml-sdk) (23.0.0)\nRequirement already satisfied: msal-extensions<=2.0.0,>=0.3.0 in /anaconda/envs/azureml_py38/lib/python3.10/site-packages (from azureml-core~=1.57.0->azureml-sdk) (1.2.0)\nRequirement already satisfied: adal<=1.2.7,>=1.2.0 in /anaconda/envs/azureml_py38/lib/python3.10/site-packages (from azureml-core~=1.57.0->azureml-sdk) (1.2.7)\nRequirement already satisfied: ndg-httpsclient<=0.5.1 in /anaconda/envs/azureml_py38/lib/python3.10/site-packages (from azureml-core~=1.57.0->azureml-sdk) (0.5.1)\nRequirement already satisfied: azure-mgmt-storage<=22.0.0,>=16.0.0 in /anaconda/envs/azureml_py38/lib/python3.10/site-packages (from azureml-core~=1.57.0->azureml-sdk) (21.2.0)\nRequirement already satisfied: urllib3<3.0.0,>1.26.17 in /anaconda/envs/azureml_py38/lib/python3.10/site-packages (from azureml-core~=1.57.0->azureml-sdk) (1.26.19)\nRequirement already satisfied: msal<2.0.0,>=1.15.0 in /anaconda/envs/azureml_py38/lib/python3.10/site-packages (from azureml-core~=1.57.0->azureml-sdk) (1.30.0)\nRequirement already satisfied: azure-graphrbac<1.0.0,>=0.40.0 in /anaconda/envs/azureml_py38/lib/python3.10/site-packages (from azureml-core~=1.57.0->azureml-sdk) (0.60.0)\nRequirement already satisfied: SecretStorage<4.0.0 in /anaconda/envs/azureml_py38/lib/python3.10/site-packages (from azureml-core~=1.57.0->azureml-sdk) (3.3.3)\nRequirement already satisfied: msrestazure<=0.7,>=0.4.33 in /anaconda/envs/azureml_py38/lib/python3.10/site-packages (from azureml-core~=1.57.0->azureml-sdk) (0.6.4.post1)\nRequirement already satisfied: python-dateutil<3.0.0,>=2.7.3 in /anaconda/envs/azureml_py38/lib/python3.10/site-packages (from azureml-core~=1.57.0->azureml-sdk) (2.9.0.post0)\nRequirement already satisfied: msrest<=0.7.1,>=0.5.1 in /anaconda/envs/azureml_py38/lib/python3.10/site-packages (from azureml-core~=1.57.0->azureml-sdk) (0.7.1)\nRequirement already satisfied: PyJWT<3.0.0 in /anaconda/envs/azureml_py38/lib/python3.10/site-packages (from azureml-core~=1.57.0->azureml-sdk) (2.4.0)\nRequirement already satisfied: backports.tempfile in /anaconda/envs/azureml_py38/lib/python3.10/site-packages (from azureml-core~=1.57.0->azureml-sdk) (1.0)\nRequirement already satisfied: jsonpickle<4.0.0 in /anaconda/envs/azureml_py38/lib/python3.10/site-packages (from azureml-core~=1.57.0->azureml-sdk) (3.2.2)\nRequirement already satisfied: paramiko<4.0.0,>=2.0.8 in /anaconda/envs/azureml_py38/lib/python3.10/site-packages (from azureml-core~=1.57.0->azureml-sdk) (3.4.0)\nRequirement already satisfied: contextlib2<22.0.0 in /anaconda/envs/azureml_py38/lib/python3.10/site-packages (from azureml-core~=1.57.0->azureml-sdk) (21.6.0)\nRequirement already satisfied: pytz in /anaconda/envs/azureml_py38/lib/python3.10/site-packages (from azureml-core~=1.57.0->azureml-sdk) (2022.5)\nRequirement already satisfied: azure-common<2.0.0,>=1.1.12 in /anaconda/envs/azureml_py38/lib/python3.10/site-packages (from azureml-core~=1.57.0->azureml-sdk) (1.1.28)\nRequirement already satisfied: azure-mgmt-resource<=24.0.0,>=15.0.0 in /anaconda/envs/azureml_py38/lib/python3.10/site-packages (from azureml-core~=1.57.0->azureml-sdk) (23.1.1)\nRequirement already satisfied: azure-mgmt-network<=26.0.0 in /anaconda/envs/azureml_py38/lib/python3.10/site-packages (from azureml-core~=1.57.0->azureml-sdk) (25.1.0)\nRequirement already satisfied: azure-core<2.0.0 in /anaconda/envs/azureml_py38/lib/python3.10/site-packages (from azureml-core~=1.57.0->azureml-sdk) (1.30.2)\nRequirement already satisfied: knack<0.12.0 in /anaconda/envs/azureml_py38/lib/python3.10/site-packages (from azureml-core~=1.57.0->azureml-sdk) (0.11.0)\nRequirement already satisfied: pathspec<1.0.0 in /anaconda/envs/azureml_py38/lib/python3.10/site-packages (from azureml-core~=1.57.0->azureml-sdk) (0.12.1)\nRequirement already satisfied: pkginfo in /anaconda/envs/azureml_py38/lib/python3.10/site-packages (from azureml-core~=1.57.0->azureml-sdk) (1.11.1)\nRequirement already satisfied: docker<8.0.0 in /anaconda/envs/azureml_py38/lib/python3.10/site-packages (from azureml-core~=1.57.0->azureml-sdk) (7.1.0)\nRequirement already satisfied: azure-mgmt-keyvault<11.0.0,>=0.40.0 in /anaconda/envs/azureml_py38/lib/python3.10/site-packages (from azureml-core~=1.57.0->azureml-sdk) (10.3.0)\nRequirement already satisfied: azure-mgmt-authorization<5,>=0.40.0 in /anaconda/envs/azureml_py38/lib/python3.10/site-packages (from azureml-core~=1.57.0->azureml-sdk) (4.0.0)\nRequirement already satisfied: azureml-dataprep<5.2.0a,>=5.1.0a in /anaconda/envs/azureml_py38/lib/python3.10/site-packages (from azureml-dataset-runtime[fuse]~=1.57.0->azureml-sdk) (5.1.6)\nRequirement already satisfied: pyarrow>=0.17.0 in /anaconda/envs/azureml_py38/lib/python3.10/site-packages (from azureml-dataset-runtime[fuse]~=1.57.0->azureml-sdk) (14.0.2)\nRequirement already satisfied: numpy!=1.19.3,<1.24 in /anaconda/envs/azureml_py38/lib/python3.10/site-packages (from azureml-dataset-runtime[fuse]~=1.57.0->azureml-sdk) (1.23.5)\nRequirement already satisfied: fusepy<4.0.0,>=3.0.1 in /anaconda/envs/azureml_py38/lib/python3.10/site-packages (from azureml-dataset-runtime[fuse]~=1.57.0->azureml-sdk) (3.0.1)\nRequirement already satisfied: azureml-pipeline-steps~=1.57.0 in /anaconda/envs/azureml_py38/lib/python3.10/site-packages (from azureml-pipeline~=1.57.0->azureml-sdk) (1.57.0)\nRequirement already satisfied: azureml-pipeline-core~=1.57.0 in /anaconda/envs/azureml_py38/lib/python3.10/site-packages (from azureml-pipeline~=1.57.0->azureml-sdk) (1.57.0)\nRequirement already satisfied: azureml-telemetry~=1.57.0 in /anaconda/envs/azureml_py38/lib/python3.10/site-packages (from azureml-train-automl-client~=1.57.0->azureml-sdk) (1.57.0)\nRequirement already satisfied: azureml-automl-core~=1.57.0 in /anaconda/envs/azureml_py38/lib/python3.10/site-packages (from azureml-train-automl-client~=1.57.0->azureml-sdk) (1.57.0)\nRequirement already satisfied: azureml-train-restclients-hyperdrive~=1.57.0 in /anaconda/envs/azureml_py38/lib/python3.10/site-packages (from azureml-train-core~=1.57.0->azureml-sdk) (1.57.0)\nRequirement already satisfied: cryptography>=1.1.0 in /anaconda/envs/azureml_py38/lib/python3.10/site-packages (from adal<=1.2.7,>=1.2.0->azureml-core~=1.57.0->azureml-sdk) (38.0.4)\nRequirement already satisfied: six>=1.11.0 in /anaconda/envs/azureml_py38/lib/python3.10/site-packages (from azure-core<2.0.0->azureml-core~=1.57.0->azureml-sdk) (1.16.0)\nRequirement already satisfied: typing-extensions>=4.6.0 in /anaconda/envs/azureml_py38/lib/python3.10/site-packages (from azure-core<2.0.0->azureml-core~=1.57.0->azureml-sdk) (4.12.2)\nRequirement already satisfied: isodate<1.0.0,>=0.6.1 in /anaconda/envs/azureml_py38/lib/python3.10/site-packages (from azure-mgmt-authorization<5,>=0.40.0->azureml-core~=1.57.0->azureml-sdk) (0.6.1)\nRequirement already satisfied: azure-mgmt-core<2.0.0,>=1.3.2 in /anaconda/envs/azureml_py38/lib/python3.10/site-packages (from azure-mgmt-authorization<5,>=0.40.0->azureml-core~=1.57.0->azureml-sdk) (1.4.0)\nRequirement already satisfied: importlib-metadata<=8.2.0 in /anaconda/envs/azureml_py38/lib/python3.10/site-packages (from azureml-automl-core~=1.57.0->azureml-train-automl-client~=1.57.0->azureml-sdk) (8.2.0)\nRequirement already satisfied: importlib-resources<=6.4.0 in /anaconda/envs/azureml_py38/lib/python3.10/site-packages (from azureml-automl-core~=1.57.0->azureml-train-automl-client~=1.57.0->azureml-sdk) (6.4.0)\nRequirement already satisfied: azureml-dataprep-rslex~=2.22.2dev0 in /anaconda/envs/azureml_py38/lib/python3.10/site-packages (from azureml-dataprep<5.2.0a,>=5.1.0a->azureml-dataset-runtime[fuse]~=1.57.0->azureml-sdk) (2.22.2)\nRequirement already satisfied: pyyaml<7.0.0,>=5.1.0 in /anaconda/envs/azureml_py38/lib/python3.10/site-packages (from azureml-dataprep<5.2.0a,>=5.1.0a->azureml-dataset-runtime[fuse]~=1.57.0->azureml-sdk) (6.0.1)\nRequirement already satisfied: cloudpickle<3.0.0,>=1.1.0 in /anaconda/envs/azureml_py38/lib/python3.10/site-packages (from azureml-dataprep<5.2.0a,>=5.1.0a->azureml-dataset-runtime[fuse]~=1.57.0->azureml-sdk) (2.2.1)\nRequirement already satisfied: azureml-dataprep-native<42.0.0,>=41.0.0 in /anaconda/envs/azureml_py38/lib/python3.10/site-packages (from azureml-dataprep<5.2.0a,>=5.1.0a->azureml-dataset-runtime[fuse]~=1.57.0->azureml-sdk) (41.0.0)\nRequirement already satisfied: jsonschema in /anaconda/envs/azureml_py38/lib/python3.10/site-packages (from azureml-dataprep<5.2.0a,>=5.1.0a->azureml-dataset-runtime[fuse]~=1.57.0->azureml-sdk) (4.23.0)\nRequirement already satisfied: azure-identity>=1.7.0 in /anaconda/envs/azureml_py38/lib/python3.10/site-packages (from azureml-dataprep<5.2.0a,>=5.1.0a->azureml-dataset-runtime[fuse]~=1.57.0->azureml-sdk) (1.17.1)\nRequirement already satisfied: applicationinsights in /anaconda/envs/azureml_py38/lib/python3.10/site-packages (from azureml-telemetry~=1.57.0->azureml-train-automl-client~=1.57.0->azureml-sdk) (0.11.10)\nRequirement already satisfied: pygments in /anaconda/envs/azureml_py38/lib/python3.10/site-packages (from knack<0.12.0->azureml-core~=1.57.0->azureml-sdk) (2.18.0)\nRequirement already satisfied: tabulate in /anaconda/envs/azureml_py38/lib/python3.10/site-packages (from knack<0.12.0->azureml-core~=1.57.0->azureml-sdk) (0.9.0)\nRequirement already satisfied: portalocker<3,>=1.4 in /anaconda/envs/azureml_py38/lib/python3.10/site-packages (from msal-extensions<=2.0.0,>=0.3.0->azureml-core~=1.57.0->azureml-sdk) (2.10.1)\nRequirement already satisfied: requests-oauthlib>=0.5.0 in /anaconda/envs/azureml_py38/lib/python3.10/site-packages (from msrest<=0.7.1,>=0.5.1->azureml-core~=1.57.0->azureml-sdk) (2.0.0)\nRequirement already satisfied: certifi>=2017.4.17 in /anaconda/envs/azureml_py38/lib/python3.10/site-packages (from msrest<=0.7.1,>=0.5.1->azureml-core~=1.57.0->azureml-sdk) (2024.8.30)\nRequirement already satisfied: pyasn1>=0.1.1 in /anaconda/envs/azureml_py38/lib/python3.10/site-packages (from ndg-httpsclient<=0.5.1->azureml-core~=1.57.0->azureml-sdk) (0.6.0)\nRequirement already satisfied: bcrypt>=3.2 in /anaconda/envs/azureml_py38/lib/python3.10/site-packages (from paramiko<4.0.0,>=2.0.8->azureml-core~=1.57.0->azureml-sdk) (4.2.0)\nRequirement already satisfied: pynacl>=1.5 in /anaconda/envs/azureml_py38/lib/python3.10/site-packages (from paramiko<4.0.0,>=2.0.8->azureml-core~=1.57.0->azureml-sdk) (1.5.0)\nRequirement already satisfied: charset-normalizer<4,>=2 in /anaconda/envs/azureml_py38/lib/python3.10/site-packages (from requests[socks]<3.0.0,>=2.19.1->azureml-core~=1.57.0->azureml-sdk) (3.3.2)\nRequirement already satisfied: idna<4,>=2.5 in /anaconda/envs/azureml_py38/lib/python3.10/site-packages (from requests[socks]<3.0.0,>=2.19.1->azureml-core~=1.57.0->azureml-sdk) (3.7)\nRequirement already satisfied: PySocks!=1.5.7,>=1.5.6 in /anaconda/envs/azureml_py38/lib/python3.10/site-packages (from requests[socks]<3.0.0,>=2.19.1->azureml-core~=1.57.0->azureml-sdk) (1.7.1)\nRequirement already satisfied: jeepney>=0.6 in /anaconda/envs/azureml_py38/lib/python3.10/site-packages (from SecretStorage<4.0.0->azureml-core~=1.57.0->azureml-sdk) (0.8.0)\nRequirement already satisfied: backports.weakref in /anaconda/envs/azureml_py38/lib/python3.10/site-packages (from backports.tempfile->azureml-core~=1.57.0->azureml-sdk) (1.0.post1)\nRequirement already satisfied: cffi>=1.12 in /anaconda/envs/azureml_py38/lib/python3.10/site-packages (from cryptography>=1.1.0->adal<=1.2.7,>=1.2.0->azureml-core~=1.57.0->azureml-sdk) (1.16.0)\nRequirement already satisfied: zipp>=0.5 in /anaconda/envs/azureml_py38/lib/python3.10/site-packages (from importlib-metadata<=8.2.0->azureml-automl-core~=1.57.0->azureml-train-automl-client~=1.57.0->azureml-sdk) (3.19.2)\nRequirement already satisfied: oauthlib>=3.0.0 in /anaconda/envs/azureml_py38/lib/python3.10/site-packages (from requests-oauthlib>=0.5.0->msrest<=0.7.1,>=0.5.1->azureml-core~=1.57.0->azureml-sdk) (3.2.2)\nRequirement already satisfied: rpds-py>=0.7.1 in /anaconda/envs/azureml_py38/lib/python3.10/site-packages (from jsonschema->azureml-dataprep<5.2.0a,>=5.1.0a->azureml-dataset-runtime[fuse]~=1.57.0->azureml-sdk) (0.19.1)\nRequirement already satisfied: attrs>=22.2.0 in /anaconda/envs/azureml_py38/lib/python3.10/site-packages (from jsonschema->azureml-dataprep<5.2.0a,>=5.1.0a->azureml-dataset-runtime[fuse]~=1.57.0->azureml-sdk) (24.2.0)\nRequirement already satisfied: jsonschema-specifications>=2023.03.6 in /anaconda/envs/azureml_py38/lib/python3.10/site-packages (from jsonschema->azureml-dataprep<5.2.0a,>=5.1.0a->azureml-dataset-runtime[fuse]~=1.57.0->azureml-sdk) (2023.12.1)\nRequirement already satisfied: referencing>=0.28.4 in /anaconda/envs/azureml_py38/lib/python3.10/site-packages (from jsonschema->azureml-dataprep<5.2.0a,>=5.1.0a->azureml-dataset-runtime[fuse]~=1.57.0->azureml-sdk) (0.35.1)\nRequirement already satisfied: pycparser in /anaconda/envs/azureml_py38/lib/python3.10/site-packages (from cffi>=1.12->cryptography>=1.1.0->adal<=1.2.7,>=1.2.0->azureml-core~=1.57.0->azureml-sdk) (2.22)\n"
        }
      ],
      "execution_count": 33,
      "metadata": {
        "jupyter": {
          "source_hidden": false,
          "outputs_hidden": false
        },
        "nteract": {
          "transient": {
            "deleting": false
          }
        },
        "gather": {
          "logged": 1733520407269
        }
      }
    },
    {
      "cell_type": "code",
      "source": [
        "%config IPCompleter.greedy=True"
      ],
      "outputs": [],
      "execution_count": 4,
      "metadata": {
        "jupyter": {
          "source_hidden": false,
          "outputs_hidden": false
        },
        "nteract": {
          "transient": {
            "deleting": false
          }
        }
      }
    },
    {
      "cell_type": "markdown",
      "source": [
        "### Librerias"
      ],
      "metadata": {
        "nteract": {
          "transient": {
            "deleting": false
          }
        }
      }
    },
    {
      "cell_type": "code",
      "source": [
        "from azureml.core import Workspace\n",
        "from mlflow.tracking import MlflowClient\n",
        "\n",
        "# Conecta al workspace (ajusta los parámetros si usas un archivo config.json)\n",
        "workspace = Workspace.from_config()"
      ],
      "outputs": [],
      "execution_count": null,
      "metadata": {
        "jupyter": {
          "source_hidden": false,
          "outputs_hidden": false
        },
        "nteract": {
          "transient": {
            "deleting": false
          }
        }
      }
    },
    {
      "cell_type": "code",
      "source": [
        "import seaborn as sns\n",
        "import pandas as pd\n",
        "import seaborn as sns\n",
        "import matplotlib.pyplot as plt\n",
        "from sklearn.metrics import confusion_matrix\n",
        "from azureml.core.model import Model\n",
        "import sys\n",
        "import mlflow\n",
        "import mlflow.sklearn\n",
        "from pyspark.sql import SparkSession\n",
        "from pyspark.sql.functions import lit\n",
        "from pyspark.sql import functions as F\n",
        "from pyspark.sql.window import Window\n",
        "from pyspark.sql.functions import col, when, expr, asc, count, countDistinct, max, collect_list, sum, isnan, isnull, last\n",
        "from pyspark.sql.functions import col as col_null\n",
        "from pyspark.sql.types import StructType, StructField, IntegerType, DoubleType, StringType, DateType\n",
        "# Importar bibliotecas para normalización \n",
        "from sklearn.preprocessing import LabelEncoder\n",
        "from sklearn.preprocessing import StandardScaler\n",
        "# Importar bibliotecas para Modelos\n",
        "from pyspark.ml.classification import GBTClassifier, OneVsRest\n",
        "from pyspark.ml.classification import RandomForestClassifier\n",
        "from pyspark.ml.feature import VectorAssembler, StringIndexer\n",
        "from pyspark.ml.linalg import Vectors\n",
        "from mlflow.tracking import MlflowClient\n",
        "\n",
        "\n",
        "from pyspark.ml.classification import LogisticRegression\n",
        "from pyspark.ml.tuning import TrainValidationSplit, ParamGridBuilder, CrossValidator\n",
        "from pyspark.ml.evaluation import MulticlassClassificationEvaluator\n",
        "from pyspark.sql.functions import pow\n",
        "from pyspark.sql.functions import mean\n",
        "from math import sqrt\n",
        "from azureml.core import Workspace\n",
        "import tempfile\n",
        "from sklearn.metrics import confusion_matrix\n",
        "import os"
      ],
      "outputs": [],
      "execution_count": 5,
      "metadata": {
        "jupyter": {
          "source_hidden": false,
          "outputs_hidden": false
        },
        "nteract": {
          "transient": {
            "deleting": false
          }
        },
        "gather": {
          "logged": 1733518153932
        }
      }
    },
    {
      "cell_type": "code",
      "source": [
        "# Importar bibliotecas visialización\n",
        "import matplotlib.pyplot as plt\n",
        "from matplotlib import colors\n",
        "import seaborn as sns\n",
        "import matplotlib"
      ],
      "outputs": [],
      "execution_count": 6,
      "metadata": {
        "jupyter": {
          "source_hidden": false,
          "outputs_hidden": false
        },
        "nteract": {
          "transient": {
            "deleting": false
          }
        },
        "gather": {
          "logged": 1733518154160
        }
      }
    },
    {
      "cell_type": "code",
      "source": [
        "# Crear una sesión de Spark\n",
        "spark = SparkSession.builder \\\n",
        "    .appName(\"MiAplicacion\") \\\n",
        "    .getOrCreate()"
      ],
      "outputs": [
        {
          "output_type": "stream",
          "name": "stderr",
          "text": "24/12/06 20:49:14 WARN Utils: Your hostname, cluster-ml-wilson resolves to a loopback address: 127.0.0.1; using 10.0.0.4 instead (on interface eth0)\n24/12/06 20:49:14 WARN Utils: Set SPARK_LOCAL_IP if you need to bind to another address\nSetting default log level to \"WARN\".\nTo adjust logging level use sc.setLogLevel(newLevel). For SparkR, use setLogLevel(newLevel).\n24/12/06 20:49:15 WARN NativeCodeLoader: Unable to load native-hadoop library for your platform... using builtin-java classes where applicable\n24/12/06 20:49:15 WARN Utils: Service 'SparkUI' could not bind on port 4040. Attempting port 4041.\n"
        }
      ],
      "execution_count": 7,
      "metadata": {
        "jupyter": {
          "source_hidden": false,
          "outputs_hidden": false
        },
        "nteract": {
          "transient": {
            "deleting": false
          }
        },
        "gather": {
          "logged": 1733518157369
        }
      }
    },
    {
      "cell_type": "code",
      "source": [
        "# Obtener la ruta absoluta del directorio actual\n",
        "directorio_actual = os.path.abspath(os.getcwd())\n",
        "\n",
        "ruta_funciones = '/mnt/batch/tasks/shared/LS_root/mounts/clusters/cluster-ml-wilson/code/Users/wadolfoe/Funciones'\n",
        "sys.path.append(ruta_funciones)\n",
        "print(ruta_funciones)\n",
        "\n",
        "# Importar las funciones desde FN_01_ENTRENAMIENTO_ADQUISICION.py\n",
        "from FN_01_ENTRENAMIENTO_ADQUISICION import FN_EVALUACION_METRICAS, FN_ENTRENAR_MODELOS_ADQUISICION, FN_EXTRACT_PROBA"
      ],
      "outputs": [
        {
          "output_type": "stream",
          "name": "stdout",
          "text": "/mnt/batch/tasks/shared/LS_root/mounts/clusters/cluster-ml-wilson/code/Users/wadolfoe/Funciones\n"
        }
      ],
      "execution_count": 8,
      "metadata": {
        "jupyter": {
          "source_hidden": false,
          "outputs_hidden": false
        },
        "nteract": {
          "transient": {
            "deleting": false
          }
        },
        "gather": {
          "logged": 1733518158391
        }
      }
    },
    {
      "cell_type": "code",
      "source": [
        "# Configurar Matplotlib para usar una fuente genérica\n",
        "matplotlib.rcParams['font.family'] = 'DejaVu Sans'  # DejaVu Sans es una fuente comúnmente disponible en muchos entornos"
      ],
      "outputs": [],
      "execution_count": 9,
      "metadata": {
        "jupyter": {
          "source_hidden": false,
          "outputs_hidden": false
        },
        "nteract": {
          "transient": {
            "deleting": false
          }
        },
        "gather": {
          "logged": 1733518158689
        }
      }
    },
    {
      "cell_type": "markdown",
      "source": [
        "### Lectura data"
      ],
      "metadata": {
        "nteract": {
          "transient": {
            "deleting": false
          }
        }
      }
    },
    {
      "cell_type": "code",
      "source": [
        "# Ruta del archivo Parquet\n",
        "output_path = \"DATA_VINOS_PREPROCESAMIENTO.parquet\"\n",
        "\n",
        "# output_path = \"Users/wadolfoe/Procesos/output_data/DATA_VINOS_PREPROCESAMIENTO.parquet\"\n",
        "# Leer el archivo Parquet\n",
        "df_ml = spark.read.parquet(output_path)"
      ],
      "outputs": [],
      "execution_count": 10,
      "metadata": {
        "jupyter": {
          "source_hidden": false,
          "outputs_hidden": false
        },
        "nteract": {
          "transient": {
            "deleting": false
          }
        },
        "gather": {
          "logged": 1733518160976
        }
      }
    },
    {
      "cell_type": "code",
      "source": [
        "df_ml.select('Target','features').tail(10)"
      ],
      "outputs": [
        {
          "output_type": "execute_result",
          "execution_count": 11,
          "data": {
            "text/plain": "[Row(Target=3, features=DenseVector([-0.2856, 1.035, 0.0744, -0.8751, -1.2752, -1.4026, 0.3475, -1.0947, 2.4496, -1.1043, -1.233, -0.2339])),\n Row(Target=3, features=DenseVector([0.6676, 0.2658, 1.7362, 0.5041, -1.1645, -1.2194, 0.2643, -0.0073, 1.7076, -1.0114, -1.1625, -0.0335])),\n Row(Target=3, features=DenseVector([0.4418, 2.2326, 1.9023, 1.0721, -0.4843, -1.0972, -0.7342, -0.8276, 1.6333, -1.3366, -0.9931, -0.4036])),\n Row(Target=3, features=DenseVector([-1.0633, 0.7039, -0.0918, -0.226, -1.639, -1.5757, 0.3475, -1.5525, 0.2419, -1.383, -1.1201, -0.7736])),\n Row(Target=3, features=DenseVector([-0.3484, 0.0808, 0.0744, -1.0374, -1.4176, -1.5553, 1.0131, -1.7242, -2.309, -1.8011, -1.4024, -0.897])),\n Row(Target=3, features=DenseVector([1.3951, 0.1976, 0.2406, -0.6317, -0.9588, -1.3619, 0.6803, -0.5796, 2.1899, -1.5689, -1.2895, -0.311])),\n Row(Target=3, features=DenseVector([0.4418, 1.5608, 1.2376, 0.2607, -0.769, -1.311, 0.5971, -0.2553, 1.0768, -1.1972, -1.5011, -0.0335])),\n Row(Target=3, features=DenseVector([0.2788, 1.921, 0.2406, 1.7211, -1.1012, -1.3721, 0.5971, -0.3698, 2.4218, -1.7082, -1.5011, 0.2287])),\n Row(Target=3, features=DenseVector([0.1534, 0.2755, 0.2406, 1.7211, -1.0063, -1.3823, 1.4292, -0.1599, 2.0044, -1.6618, -1.4165, 0.2441])),\n Row(Target=3, features=DenseVector([1.3575, 1.7458, 1.7362, -0.226, -0.3736, -1.3008, 1.6788, -0.3698, 1.958, -1.6153, -1.4447, -0.6194]))]"
          },
          "metadata": {}
        }
      ],
      "execution_count": 11,
      "metadata": {
        "jupyter": {
          "source_hidden": false,
          "outputs_hidden": false
        },
        "nteract": {
          "transient": {
            "deleting": false
          }
        },
        "gather": {
          "logged": 1733518162276
        }
      }
    },
    {
      "cell_type": "code",
      "source": [
        "df_ml=df_ml.select('Target','features')\n",
        "df_ml.show()"
      ],
      "outputs": [
        {
          "output_type": "stream",
          "name": "stdout",
          "text": "+------+--------------------+\n|Target|            features|\n+------+--------------------+\n|     1|[1.48291614279008...|\n|     1|[0.19098521021889...|\n|     1|[0.14081313516758...|\n|     1|[1.65851840546966...|\n|     1|[0.24115728527020...|\n|     1|[1.44528708650160...|\n|     1|[1.68360444299532...|\n|     1|[1.26968482382202...|\n|     1|[2.23549726855971...|\n|     1|[1.01882444856548...|\n|     1|[1.31985689887333...|\n|     1|[1.34494293639898...|\n|     1|[0.88085124217438...|\n|     1|[2.13515311845709...|\n|     1|[1.67106142423249...|\n|     1|[0.73033501702046...|\n|     1|[1.57071727412987...|\n|     1|[0.98119539227700...|\n|     1|[1.43274406773877...|\n|     1|[0.74287803578328...|\n+------+--------------------+\nonly showing top 20 rows\n\n"
        }
      ],
      "execution_count": 12,
      "metadata": {
        "jupyter": {
          "source_hidden": false,
          "outputs_hidden": false
        },
        "nteract": {
          "transient": {
            "deleting": false
          }
        },
        "gather": {
          "logged": 1733518163459
        }
      }
    },
    {
      "cell_type": "code",
      "source": [
        "# Establecer el usuario para el entrenamiento \n",
        "# user = dbutils.notebook.entry_point.getDbutils().notebook().getContext().userName().get()\n",
        "user= \"wadolfoegmail.onmicrosoft.com\""
      ],
      "outputs": [],
      "execution_count": 13,
      "metadata": {
        "jupyter": {
          "source_hidden": false,
          "outputs_hidden": false
        },
        "nteract": {
          "transient": {
            "deleting": false
          }
        },
        "gather": {
          "logged": 1733518163721
        }
      }
    },
    {
      "cell_type": "code",
      "source": [
        "# Llamar a la función para entrenar y registrar run_ids y mejores_modelos\n",
        "# run_ids, mejores_modelos = FN_ENTRENAR_MODELOS_ADQUISICION(df_ml, \"MD_01_MODELO_EXPERIMENTO_CLASIFICACION_ADQUISICION\",user,register_model=True)"
      ],
      "outputs": [],
      "execution_count": 14,
      "metadata": {
        "jupyter": {
          "source_hidden": false,
          "outputs_hidden": false
        },
        "nteract": {
          "transient": {
            "deleting": false
          }
        },
        "gather": {
          "logged": 1733518164001
        }
      }
    },
    {
      "cell_type": "code",
      "source": [
        "df_ml.show()"
      ],
      "outputs": [
        {
          "output_type": "stream",
          "name": "stdout",
          "text": "+------+--------------------+\n|Target|            features|\n+------+--------------------+\n|     1|[1.48291614279008...|\n|     1|[0.19098521021889...|\n|     1|[0.14081313516758...|\n|     1|[1.65851840546966...|\n|     1|[0.24115728527020...|\n|     1|[1.44528708650160...|\n|     1|[1.68360444299532...|\n|     1|[1.26968482382202...|\n|     1|[2.23549726855971...|\n|     1|[1.01882444856548...|\n|     1|[1.31985689887333...|\n|     1|[1.34494293639898...|\n|     1|[0.88085124217438...|\n|     1|[2.13515311845709...|\n|     1|[1.67106142423249...|\n|     1|[0.73033501702046...|\n|     1|[1.57071727412987...|\n|     1|[0.98119539227700...|\n|     1|[1.43274406773877...|\n|     1|[0.74287803578328...|\n+------+--------------------+\nonly showing top 20 rows\n\n"
        }
      ],
      "execution_count": 15,
      "metadata": {
        "jupyter": {
          "source_hidden": false,
          "outputs_hidden": false
        },
        "nteract": {
          "transient": {
            "deleting": false
          }
        },
        "gather": {
          "logged": 1733518164316
        }
      }
    },
    {
      "cell_type": "code",
      "source": [
        "df_ml.head()"
      ],
      "outputs": [
        {
          "output_type": "execute_result",
          "execution_count": 16,
          "data": {
            "text/plain": "Row(Target=1, features=DenseVector([1.4829, -0.5813, -1.2218, 2.2891, 0.8128, 1.0408, -0.651, 1.4234, 0.3069, 0.3823, 1.8292, 0.938]))"
          },
          "metadata": {}
        }
      ],
      "execution_count": 16,
      "metadata": {
        "jupyter": {
          "source_hidden": false,
          "outputs_hidden": false
        },
        "nteract": {
          "transient": {
            "deleting": false
          }
        },
        "gather": {
          "logged": 1733518164638
        }
      }
    },
    {
      "cell_type": "markdown",
      "source": [
        "### LogisticRegression_Model"
      ],
      "metadata": {
        "nteract": {
          "transient": {
            "deleting": false
          }
        }
      }
    },
    {
      "cell_type": "code",
      "source": [
        "## Final LogisticRegression_Model\n",
        "from pyspark.ml.classification import LogisticRegression\n",
        "\n",
        "# Dividir los datos en entrenamiento (70%), validación (15%) y prueba (15%)\n",
        "train_data, val_data, test_data = df_ml.randomSplit([0.7, 0.15, 0.15], seed=42)\n",
        "\n",
        "# Definir nombres de modelo y dataset para MLflow\n",
        "model_name = \"LogisticRegression_Model\"\n",
        "dataset_name = \"Wine_Data\"\n",
        "\n",
        "with mlflow.start_run(run_name=\"Modelo_Vinos_LogisticRegression\") as run:\n",
        "    # Crear el modelo base de LogisticRegression\n",
        "    lr_v1 = LogisticRegression(labelCol=\"Target\", featuresCol=\"features\", maxIter=100)\n",
        "\n",
        "    # Construir la grilla de hiperparámetros para LogisticRegression\n",
        "    paramGrid = ParamGridBuilder() \\\n",
        "        .addGrid(lr_v1.regParam, [0.01, 0.1, 1.0]) \\\n",
        "        .addGrid(lr_v1.elasticNetParam, [0.0, 0.5, 1.0]) \\\n",
        "        .addGrid(lr_v1.maxIter, [50, 100, 200]) \\\n",
        "        .build()\n",
        "\n",
        "    # Evaluador para clasificación multiclase\n",
        "    evaluator = MulticlassClassificationEvaluator(labelCol=\"Target\", predictionCol=\"prediction\", metricName=\"accuracy\")\n",
        "\n",
        "    # Configurar la validación cruzada\n",
        "    # crossval = CrossValidator(estimator=lr_v1, \n",
        "    #                            estimatorParamMaps=paramGrid, \n",
        "    #                            evaluator=evaluator, \n",
        "    #                            numFolds=3)\n",
        "\n",
        "    crossval = TrainValidationSplit(estimator=lr_v1, \n",
        "                                estimatorParamMaps=paramGrid, \n",
        "                                evaluator=evaluator, \n",
        "                                trainRatio=0.9)\n",
        "\n",
        "    # Ajustar el modelo con la validación cruzada\n",
        "    cvModel = crossval.fit(train_data)\n",
        "\n",
        "    # Obtener el mejor modelo\n",
        "    bestModel = cvModel.bestModel\n",
        "\n",
        "        # Registrar hiperparámetros en MLflow\n",
        "    mlflow.log_param(\"regParam\", bestModel.getRegParam())\n",
        "    mlflow.log_param(\"elasticNetParam\", bestModel.getElasticNetParam())\n",
        "    mlflow.log_param(\"maxIter\", bestModel.getMaxIter())\n",
        "\n",
        "    # Evaluar en val_data\n",
        "    val_predictions = bestModel.transform(val_data)\n",
        "    val_accuracy = evaluator.evaluate(val_predictions)\n",
        "    print(f\"Precisión en validación: {val_accuracy:.2f}\")\n",
        "\n",
        "    # Registrar precisión de validación en MLflow\n",
        "    mlflow.log_metric(f\"{model_name}_val_accuracy\", val_accuracy)\n",
        "\n",
        "    # Evaluar el modelo final con test_data\n",
        "    predictions = bestModel.transform(test_data)\n",
        "    test_accuracy = evaluator.evaluate(predictions)\n",
        "    print(f\"Precisión en prueba: {test_accuracy:.2f}\")\n",
        "\n",
        "    # Registrar métricas generales en MLflow\n",
        "    mlflow.log_metric(f\"{model_name}_{dataset_name}_test_accuracy\", test_accuracy)\n",
        "\n",
        "    # Calcular métricas por clase\n",
        "    classes = predictions.select(\"Target\").distinct().collect()\n",
        "    for c in classes:\n",
        "        class_label = c[0]\n",
        "        tp = predictions.filter((col(\"Target\") == class_label) & (col(\"prediction\") == class_label)).count()\n",
        "        fp = predictions.filter((col(\"Target\") != class_label) & (col(\"prediction\") == class_label)).count()\n",
        "        fn = predictions.filter((col(\"Target\") == class_label) & (col(\"prediction\") != class_label)).count()\n",
        "\n",
        "        # Precision, Recall, F1\n",
        "        precision = tp / (tp + fp) if (tp + fp) > 0 else 0\n",
        "        recall = tp / (tp + fn) if (tp + fn) > 0 else 0\n",
        "        f1_class = 2 * (precision * recall) / (precision + recall) if (precision + recall) > 0 else 0\n",
        "\n",
        "        print(f\"Class {class_label} - Precision: {precision:.2f}, Recall: {recall:.2f}, F1: {f1_class:.2f}\")\n",
        "\n",
        "        # Registrar métricas por clase\n",
        "        mlflow.log_metric(f\"{model_name}_class_{class_label}_precision\", precision)\n",
        "        mlflow.log_metric(f\"{model_name}_class_{class_label}_recall\", recall)\n",
        "        mlflow.log_metric(f\"{model_name}_class_{class_label}_f1\", f1_class)\n",
        "\n",
        "    # Registrar el modelo en MLflow\n",
        "    artifact_path = \"model_logistic_regression\"\n",
        "    mlflow.spark.log_model(bestModel, artifact_path=artifact_path)\n",
        "\n",
        "    # Convertir las predicciones a un Pandas DataFrame para usar en la matriz de confusión\n",
        "    predictions_pd = predictions.select(\"Target\", \"prediction\").toPandas()\n",
        "\n",
        "    # Calcular la matriz de confusión usando sklearn\n",
        "    cm = confusion_matrix(predictions_pd[\"Target\"], predictions_pd[\"prediction\"])\n",
        "\n",
        "    # Crear el gráfico de la matriz de confusión\n",
        "    plt.figure(figsize=(8, 6))\n",
        "    sns.heatmap(cm, annot=True, fmt=\"d\", cmap=\"Blues\", xticklabels=[str(c[0]) for c in classes], yticklabels=[str(c[0]) for c in classes])\n",
        "    plt.title(f'Matriz de Confusión ({dataset_name}) - {model_name}')\n",
        "    plt.xlabel(\"Predicción\")\n",
        "    plt.ylabel(\"Real\")\n",
        "\n",
        "    # Guardar la matriz de confusión en un archivo temporal antes de mostrarla\n",
        "    temp_file_path = os.path.join(tempfile.gettempdir(), f'confusion_matrix_{dataset_name}_{model_name}.png')\n",
        "    plt.savefig(temp_file_path)\n",
        "    plt.close()\n",
        "\n",
        "    # Registrar la gráfica en MLflow\n",
        "    mlflow.log_artifact(temp_file_path)\n",
        "\n",
        "    # generar  el modelo en MLflow esto es el pk\n",
        "    # mlflow.spark.log_model(bestModel, \"LogisticRegression_Model\")\n",
        "\n",
        "    # ## esto es registro del modelo\n",
        "    # model_registry_name = \"model_logistic_regression\"\n",
        "    # run_id = run.info.run_id\n",
        "    # model_uri = f\"runs:/{run_id}/model\"\n",
        "    # mlflow.register_model(model_uri, model_registry_name)\n",
        "    # print(f\"Modelo registrado en el Model Registry con el nombre: {model_registry_name}\")\n",
        "    \n",
        "    # Configurar Azure ML Workspace\n",
        "    ws = Workspace.from_config()\n",
        "    mlflow.set_tracking_uri(ws.get_mlflow_tracking_uri())\n",
        "\n",
        "    # Guardar el modelo en MLflow como artefacto\n",
        "    artifact_path = \"LogisticRegression_Model\"\n",
        "    mlflow.spark.log_model(bestModel, artifact_path=artifact_path)\n",
        "\n",
        "    # Verificar artefactos del run actual\n",
        "    client = MlflowClient()\n",
        "    artifacts = client.list_artifacts(run.info.run_id)\n",
        "    print(\"Artefactos en el run:\")\n",
        "    for artifact in artifacts:\n",
        "        print(f\"Artifact path: {artifact.path}\")\n",
        "\n",
        "    # Registrar el modelo en el Model Registry\n",
        "    run_id = run.info.run_id\n",
        "    model_uri = f\"runs:/{run_id}/{artifact_path}\"\n",
        "    model_registry_name = \"LogisticRegression_Model\"\n",
        "\n",
        "    registered_model = mlflow.register_model(model_uri=model_uri, name=model_registry_name)\n",
        "\n",
        "    print(f\"Modelo registrado: {registered_model.name}, versión: {registered_model.version}\")"
      ],
      "outputs": [
        {
          "output_type": "stream",
          "name": "stderr",
          "text": "24/12/06 20:49:27 WARN InstanceBuilder: Failed to load implementation from:dev.ludovic.netlib.blas.JNIBLAS\n24/12/06 20:50:52 ERROR Instrumentation: org.apache.hadoop.fs.UnsupportedFileSystemException: No FileSystem for scheme \"azureml\"\n\tat org.apache.hadoop.fs.FileSystem.getFileSystemClass(FileSystem.java:3443)\n\tat org.apache.hadoop.fs.FileSystem.createFileSystem(FileSystem.java:3466)\n\tat org.apache.hadoop.fs.FileSystem.access$300(FileSystem.java:174)\n\tat org.apache.hadoop.fs.FileSystem$Cache.getInternal(FileSystem.java:3574)\n\tat org.apache.hadoop.fs.FileSystem$Cache.get(FileSystem.java:3521)\n\tat org.apache.hadoop.fs.FileSystem.get(FileSystem.java:540)\n\tat org.apache.hadoop.fs.Path.getFileSystem(Path.java:365)\n\tat org.apache.spark.ml.util.FileSystemOverwrite.handleOverwrite(ReadWrite.scala:673)\n\tat org.apache.spark.ml.util.MLWriter.save(ReadWrite.scala:167)\n\tat org.apache.spark.ml.PipelineModel$PipelineModelWriter.super$save(Pipeline.scala:344)\n\tat org.apache.spark.ml.PipelineModel$PipelineModelWriter.$anonfun$save$4(Pipeline.scala:344)\n\tat org.apache.spark.ml.MLEvents.withSaveInstanceEvent(events.scala:174)\n\tat org.apache.spark.ml.MLEvents.withSaveInstanceEvent$(events.scala:169)\n\tat org.apache.spark.ml.util.Instrumentation.withSaveInstanceEvent(Instrumentation.scala:42)\n\tat org.apache.spark.ml.PipelineModel$PipelineModelWriter.$anonfun$save$3(Pipeline.scala:344)\n\tat org.apache.spark.ml.PipelineModel$PipelineModelWriter.$anonfun$save$3$adapted(Pipeline.scala:344)\n\tat org.apache.spark.ml.util.Instrumentation$.$anonfun$instrumented$1(Instrumentation.scala:191)\n\tat scala.util.Try$.apply(Try.scala:213)\n\tat org.apache.spark.ml.util.Instrumentation$.instrumented(Instrumentation.scala:191)\n\tat org.apache.spark.ml.PipelineModel$PipelineModelWriter.save(Pipeline.scala:344)\n\tat java.base/jdk.internal.reflect.NativeMethodAccessorImpl.invoke0(Native Method)\n\tat java.base/jdk.internal.reflect.NativeMethodAccessorImpl.invoke(NativeMethodAccessorImpl.java:62)\n\tat java.base/jdk.internal.reflect.DelegatingMethodAccessorImpl.invoke(DelegatingMethodAccessorImpl.java:43)\n\tat java.base/java.lang.reflect.Method.invoke(Method.java:566)\n\tat py4j.reflection.MethodInvoker.invoke(MethodInvoker.java:244)\n\tat py4j.reflection.ReflectionEngine.invoke(ReflectionEngine.java:374)\n\tat py4j.Gateway.invoke(Gateway.java:282)\n\tat py4j.commands.AbstractCommand.invokeMethod(AbstractCommand.java:132)\n\tat py4j.commands.CallCommand.execute(CallCommand.java:79)\n\tat py4j.ClientServerConnection.waitForCommands(ClientServerConnection.java:182)\n\tat py4j.ClientServerConnection.run(ClientServerConnection.java:106)\n\tat java.base/java.lang.Thread.run(Thread.java:829)\n\n2024/12/06 20:51:09 WARNING mlflow.models.model: Model logged without a signature and input example. Please set `input_example` parameter when logging the model to auto infer the model signature.\n24/12/06 20:51:13 ERROR Instrumentation: org.apache.hadoop.fs.UnsupportedFileSystemException: No FileSystem for scheme \"azureml\"\n\tat org.apache.hadoop.fs.FileSystem.getFileSystemClass(FileSystem.java:3443)\n\tat org.apache.hadoop.fs.FileSystem.createFileSystem(FileSystem.java:3466)\n\tat org.apache.hadoop.fs.FileSystem.access$300(FileSystem.java:174)\n\tat org.apache.hadoop.fs.FileSystem$Cache.getInternal(FileSystem.java:3574)\n\tat org.apache.hadoop.fs.FileSystem$Cache.get(FileSystem.java:3521)\n\tat org.apache.hadoop.fs.FileSystem.get(FileSystem.java:540)\n\tat org.apache.hadoop.fs.Path.getFileSystem(Path.java:365)\n\tat org.apache.spark.ml.util.FileSystemOverwrite.handleOverwrite(ReadWrite.scala:673)\n\tat org.apache.spark.ml.util.MLWriter.save(ReadWrite.scala:167)\n\tat org.apache.spark.ml.PipelineModel$PipelineModelWriter.super$save(Pipeline.scala:344)\n\tat org.apache.spark.ml.PipelineModel$PipelineModelWriter.$anonfun$save$4(Pipeline.scala:344)\n\tat org.apache.spark.ml.MLEvents.withSaveInstanceEvent(events.scala:174)\n\tat org.apache.spark.ml.MLEvents.withSaveInstanceEvent$(events.scala:169)\n\tat org.apache.spark.ml.util.Instrumentation.withSaveInstanceEvent(Instrumentation.scala:42)\n\tat org.apache.spark.ml.PipelineModel$PipelineModelWriter.$anonfun$save$3(Pipeline.scala:344)\n\tat org.apache.spark.ml.PipelineModel$PipelineModelWriter.$anonfun$save$3$adapted(Pipeline.scala:344)\n\tat org.apache.spark.ml.util.Instrumentation$.$anonfun$instrumented$1(Instrumentation.scala:191)\n\tat scala.util.Try$.apply(Try.scala:213)\n\tat org.apache.spark.ml.util.Instrumentation$.instrumented(Instrumentation.scala:191)\n\tat org.apache.spark.ml.PipelineModel$PipelineModelWriter.save(Pipeline.scala:344)\n\tat java.base/jdk.internal.reflect.NativeMethodAccessorImpl.invoke0(Native Method)\n\tat java.base/jdk.internal.reflect.NativeMethodAccessorImpl.invoke(NativeMethodAccessorImpl.java:62)\n\tat java.base/jdk.internal.reflect.DelegatingMethodAccessorImpl.invoke(DelegatingMethodAccessorImpl.java:43)\n\tat java.base/java.lang.reflect.Method.invoke(Method.java:566)\n\tat py4j.reflection.MethodInvoker.invoke(MethodInvoker.java:244)\n\tat py4j.reflection.ReflectionEngine.invoke(ReflectionEngine.java:374)\n\tat py4j.Gateway.invoke(Gateway.java:282)\n\tat py4j.commands.AbstractCommand.invokeMethod(AbstractCommand.java:132)\n\tat py4j.commands.CallCommand.execute(CallCommand.java:79)\n\tat py4j.ClientServerConnection.waitForCommands(ClientServerConnection.java:182)\n\tat py4j.ClientServerConnection.run(ClientServerConnection.java:106)\n\tat java.base/java.lang.Thread.run(Thread.java:829)\n\n2024/12/06 20:51:30 WARNING mlflow.models.model: Model logged without a signature and input example. Please set `input_example` parameter when logging the model to auto infer the model signature.\nRegistered model 'LogisticRegression_Model' already exists. Creating a new version of this model...\n2024/12/06 20:51:32 INFO mlflow.store.model_registry.abstract_store: Waiting up to 300 seconds for model version to finish creation. Model name: LogisticRegression_Model, version 8\n2024/12/06 20:51:32 INFO mlflow.tracking._tracking_service.client: 🏃 View run Modelo_Vinos_LogisticRegression at: https://eastus.api.azureml.ms/mlflow/v2.0/subscriptions/e2fce082-d0f5-42e6-892d-078f098b0d47/resourceGroups/war-2025/providers/Microsoft.MachineLearningServices/workspaces/dbricksspace-war-123/#/experiments/40f998b9-9217-41d5-9b70-80491338add0/runs/ff37ab3d-cf7e-4119-b5df-d6c707a4de8f.\n2024/12/06 20:51:32 INFO mlflow.tracking._tracking_service.client: 🧪 View experiment at: https://eastus.api.azureml.ms/mlflow/v2.0/subscriptions/e2fce082-d0f5-42e6-892d-078f098b0d47/resourceGroups/war-2025/providers/Microsoft.MachineLearningServices/workspaces/dbricksspace-war-123/#/experiments/40f998b9-9217-41d5-9b70-80491338add0.\n"
        },
        {
          "output_type": "stream",
          "name": "stdout",
          "text": "Precisión en validación: 0.94\nPrecisión en prueba: 0.95\nClass 1 - Precision: 1.00, Recall: 1.00, F1: 1.00\nClass 2 - Precision: 1.00, Recall: 0.88, F1: 0.93\nClass 3 - Precision: 0.83, Recall: 1.00, F1: 0.91\n"
        }
      ],
      "execution_count": 17,
      "metadata": {
        "jupyter": {
          "source_hidden": false,
          "outputs_hidden": false
        },
        "nteract": {
          "transient": {
            "deleting": false
          }
        },
        "gather": {
          "logged": 1733518294238
        }
      }
    },
    {
      "cell_type": "markdown",
      "source": [
        "### RandomForest_Model"
      ],
      "metadata": {
        "nteract": {
          "transient": {
            "deleting": false
          }
        }
      }
    },
    {
      "cell_type": "code",
      "source": [
        "## Final RandomForest_Model\n",
        "\n",
        "# Dividir los datos en entrenamiento (70%), validación (15%) y prueba (15%)\n",
        "train_data, val_data, test_data = df_ml.randomSplit([0.7, 0.15, 0.15], seed=42)\n",
        "\n",
        "# Definir nombres de modelo y dataset para MLflow\n",
        "model_name = \"RandomForest_Model\"\n",
        "dataset_name = \"Wine_Data\"\n",
        "\n",
        "with mlflow.start_run(run_name=\"Modelo_Vinos_RandomForest\") as run:\n",
        "    # Crear el modelo base de RandomForestClassifier\n",
        "    rf_v2 = RandomForestClassifier(labelCol=\"Target\", featuresCol=\"features\")\n",
        "\n",
        "    # Construir la grilla de hiperparámetros para RandomForest\n",
        "    paramGrid = ParamGridBuilder() \\\n",
        "        .addGrid(rf_v2.numTrees, [10, 50, 100]) \\\n",
        "        .addGrid(rf_v2.maxDepth, [5, 10, 20]) \\\n",
        "        .addGrid(rf_v2.maxBins, [32, 64]) \\\n",
        "        .build()\n",
        "\n",
        "    # Evaluador para clasificación multiclase\n",
        "    evaluator = MulticlassClassificationEvaluator(labelCol=\"Target\", predictionCol=\"prediction\", metricName=\"accuracy\")\n",
        "\n",
        "    # Configurar TrainValidationSplit\n",
        "    tvs = TrainValidationSplit(estimator=rf_v2, \n",
        "                                estimatorParamMaps=paramGrid, \n",
        "                                evaluator=evaluator, \n",
        "                                trainRatio=0.9)  # Usa 90% de train_data para entrenar y valida con el resto\n",
        "    \n",
        "    # Ajustar el modelo usando train_data\n",
        "    tvs_model = tvs.fit(train_data)\n",
        "\n",
        "    # Obtener el mejor modelo\n",
        "    bestModel = tvs_model.bestModel\n",
        "\n",
        "    # Registrar hiperparámetros en MLflow\n",
        "    mlflow.log_param(\"numTrees\", bestModel.getNumTrees)\n",
        "    mlflow.log_param(\"maxDepth\", bestModel.getMaxDepth)\n",
        "    mlflow.log_param(\"maxBins\", bestModel.getMaxBins)\n",
        "\n",
        "    # Evaluar en val_data\n",
        "    val_predictions = bestModel.transform(val_data)\n",
        "    val_accuracy = evaluator.evaluate(val_predictions)\n",
        "    print(f\"Precisión en validación: {val_accuracy:.2f}\")\n",
        "\n",
        "    # Registrar precisión de validación en MLflow\n",
        "    mlflow.log_metric(f\"{model_name}_val_accuracy\", val_accuracy)\n",
        "\n",
        "    # Evaluar el modelo final con test_data\n",
        "    predictions = bestModel.transform(test_data)\n",
        "    test_accuracy = evaluator.evaluate(predictions)\n",
        "    print(f\"Precisión en prueba: {test_accuracy:.2f}\")\n",
        "\n",
        "    # Registrar métricas generales en MLflow\n",
        "    mlflow.log_metric(f\"{model_name}_{dataset_name}_test_accuracy\", test_accuracy)\n",
        "\n",
        "    # Calcular métricas por clase\n",
        "    classes = predictions.select(\"Target\").distinct().collect()\n",
        "    for c in classes:\n",
        "        class_label = c[0]\n",
        "        tp = predictions.filter((col(\"Target\") == class_label) & (col(\"prediction\") == class_label)).count()\n",
        "        fp = predictions.filter((col(\"Target\") != class_label) & (col(\"prediction\") == class_label)).count()\n",
        "        fn = predictions.filter((col(\"Target\") == class_label) & (col(\"prediction\") != class_label)).count()\n",
        "\n",
        "        # Precision, Recall, F1\n",
        "        precision = tp / (tp + fp) if (tp + fp) > 0 else 0\n",
        "        recall = tp / (tp + fn) if (tp + fn) > 0 else 0\n",
        "        f1_class = 2 * (precision * recall) / (precision + recall) if (precision + recall) > 0 else 0\n",
        "\n",
        "        print(f\"Class {class_label} - Precision: {precision:.2f}, Recall: {recall:.2f}, F1: {f1_class:.2f}\")\n",
        "\n",
        "        # Registrar métricas por clase\n",
        "        mlflow.log_metric(f\"{model_name}_class_{class_label}_precision\", precision)\n",
        "        mlflow.log_metric(f\"{model_name}_class_{class_label}_recall\", recall)\n",
        "        mlflow.log_metric(f\"{model_name}_class_{class_label}_f1\", f1_class)\n",
        "\n",
        "    # Registrar el modelo en MLflow\n",
        "    artifact_path = \"model_randomforest\"\n",
        "    mlflow.spark.log_model(bestModel, artifact_path=artifact_path)\n",
        "\n",
        "    # Convertir las predicciones a un Pandas DataFrame para usar en la matriz de confusión\n",
        "    predictions_pd = predictions.select(\"Target\", \"prediction\").toPandas()\n",
        "\n",
        "    # Calcular la matriz de confusión usando sklearn\n",
        "    cm = confusion_matrix(predictions_pd[\"Target\"], predictions_pd[\"prediction\"])\n",
        "\n",
        "    # Crear el gráfico de la matriz de confusión\n",
        "    plt.figure(figsize=(8, 6))\n",
        "    sns.heatmap(cm, annot=True, fmt=\"d\", cmap=\"Blues\", xticklabels=[str(c[0]) for c in classes], yticklabels=[str(c[0]) for c in classes])\n",
        "    plt.title(f'Matriz de Confusión ({dataset_name}) - {model_name}')\n",
        "    plt.xlabel(\"Predicción\")\n",
        "    plt.ylabel(\"Real\")\n",
        "\n",
        "    # Guardar la matriz de confusión en un archivo temporal antes de mostrarla\n",
        "    temp_file_path = os.path.join(tempfile.gettempdir(), f'confusion_matrix_{dataset_name}_{model_name}.png')\n",
        "    plt.savefig(temp_file_path)\n",
        "    plt.close()\n",
        "\n",
        "    # Registrar la gráfica en MLflow\n",
        "    mlflow.log_artifact(temp_file_path)\n",
        "\n",
        "    # Configurar Azure ML Workspace\n",
        "    ws = Workspace.from_config()\n",
        "    mlflow.set_tracking_uri(ws.get_mlflow_tracking_uri())\n",
        "\n",
        "\n",
        "    # Guardar el modelo en MLflow como artefacto\n",
        "    artifact_path = \"RandomForest_Model\"\n",
        "    mlflow.spark.log_model(bestModel, artifact_path=artifact_path)\n",
        "\n",
        "    # Verificar artefactos del run actual\n",
        "    client = MlflowClient()\n",
        "    artifacts = client.list_artifacts(run.info.run_id)\n",
        "    print(\"Artefactos en el run:\")\n",
        "    for artifact in artifacts:\n",
        "        print(f\"Artifact path: {artifact.path}\")\n",
        "    \n",
        "    # Registrar el modelo en el Model Registry\n",
        "    run_id = run.info.run_id\n",
        "    model_uri = f\"runs:/{run_id}/{artifact_path}\"\n",
        "    model_registry_name = \"RandomForest_Model\"\n",
        "\n",
        "    registered_model = mlflow.register_model(model_uri=model_uri, name=model_registry_name)\n",
        "\n",
        "    print(f\"Modelo registrado: {registered_model.name}, versión: {registered_model.version}\")\n",
        "\n",
        "    # # Guardar el modelo en una ubicación temporal\n",
        "    # temp_model_path = os.path.join(tempfile.gettempdir(), f\"{model_name}\")\n",
        "    # bestModel.write().overwrite().save(temp_model_path)\n",
        "\n",
        "    # # Registrar el modelo como un artefacto genérico\n",
        "    # mlflow.log_artifact(temp_model_path, artifact_path=\"RandomForest_Model\")\n",
        "\n",
        "    # print(f\"Modelo guardado exitosamente en la ubicación temporal: {temp_model_path}\")\n",
        "\n",
        "    # # Configurar Azure ML Workspace\n",
        "    # ws = Workspace.from_config()\n",
        "    # mlflow.set_tracking_uri(ws.get_mlflow_tracking_uri())\n",
        "\n",
        "    # # Registrar el modelo en el Model Registry\n",
        "    # model_uri = f\"runs:/{run.info.run_id}/RandomForest_Model\"\n",
        "    # registered_model = mlflow.register_model(model_uri=model_uri, name=model_name)\n",
        "    # print(f\"Modelo registrado: {registered_model.name}, versión: {registered_model.version}\")"
      ],
      "outputs": [
        {
          "output_type": "stream",
          "name": "stdout",
          "text": "Precisión en validación: 0.94\nPrecisión en prueba: 0.95\nClass 1 - Precision: 1.00, Recall: 1.00, F1: 1.00\nClass 2 - Precision: 1.00, Recall: 0.88, F1: 0.93\nClass 3 - Precision: 0.83, Recall: 1.00, F1: 0.91\nArtefactos en el run:\nArtifact path: RandomForest_Model\nArtifact path: confusion_matrix_Wine_Data_RandomForest_Model.png\nArtifact path: model_randomforest\n"
        },
        {
          "output_type": "stream",
          "name": "stderr",
          "text": "24/12/06 20:51:59 ERROR Instrumentation: org.apache.hadoop.fs.UnsupportedFileSystemException: No FileSystem for scheme \"azureml\"\n\tat org.apache.hadoop.fs.FileSystem.getFileSystemClass(FileSystem.java:3443)\n\tat org.apache.hadoop.fs.FileSystem.createFileSystem(FileSystem.java:3466)\n\tat org.apache.hadoop.fs.FileSystem.access$300(FileSystem.java:174)\n\tat org.apache.hadoop.fs.FileSystem$Cache.getInternal(FileSystem.java:3574)\n\tat org.apache.hadoop.fs.FileSystem$Cache.get(FileSystem.java:3521)\n\tat org.apache.hadoop.fs.FileSystem.get(FileSystem.java:540)\n\tat org.apache.hadoop.fs.Path.getFileSystem(Path.java:365)\n\tat org.apache.spark.ml.util.FileSystemOverwrite.handleOverwrite(ReadWrite.scala:673)\n\tat org.apache.spark.ml.util.MLWriter.save(ReadWrite.scala:167)\n\tat org.apache.spark.ml.PipelineModel$PipelineModelWriter.super$save(Pipeline.scala:344)\n\tat org.apache.spark.ml.PipelineModel$PipelineModelWriter.$anonfun$save$4(Pipeline.scala:344)\n\tat org.apache.spark.ml.MLEvents.withSaveInstanceEvent(events.scala:174)\n\tat org.apache.spark.ml.MLEvents.withSaveInstanceEvent$(events.scala:169)\n\tat org.apache.spark.ml.util.Instrumentation.withSaveInstanceEvent(Instrumentation.scala:42)\n\tat org.apache.spark.ml.PipelineModel$PipelineModelWriter.$anonfun$save$3(Pipeline.scala:344)\n\tat org.apache.spark.ml.PipelineModel$PipelineModelWriter.$anonfun$save$3$adapted(Pipeline.scala:344)\n\tat org.apache.spark.ml.util.Instrumentation$.$anonfun$instrumented$1(Instrumentation.scala:191)\n\tat scala.util.Try$.apply(Try.scala:213)\n\tat org.apache.spark.ml.util.Instrumentation$.instrumented(Instrumentation.scala:191)\n\tat org.apache.spark.ml.PipelineModel$PipelineModelWriter.save(Pipeline.scala:344)\n\tat java.base/jdk.internal.reflect.NativeMethodAccessorImpl.invoke0(Native Method)\n\tat java.base/jdk.internal.reflect.NativeMethodAccessorImpl.invoke(NativeMethodAccessorImpl.java:62)\n\tat java.base/jdk.internal.reflect.DelegatingMethodAccessorImpl.invoke(DelegatingMethodAccessorImpl.java:43)\n\tat java.base/java.lang.reflect.Method.invoke(Method.java:566)\n\tat py4j.reflection.MethodInvoker.invoke(MethodInvoker.java:244)\n\tat py4j.reflection.ReflectionEngine.invoke(ReflectionEngine.java:374)\n\tat py4j.Gateway.invoke(Gateway.java:282)\n\tat py4j.commands.AbstractCommand.invokeMethod(AbstractCommand.java:132)\n\tat py4j.commands.CallCommand.execute(CallCommand.java:79)\n\tat py4j.ClientServerConnection.waitForCommands(ClientServerConnection.java:182)\n\tat py4j.ClientServerConnection.run(ClientServerConnection.java:106)\n\tat java.base/java.lang.Thread.run(Thread.java:829)\n\n2024/12/06 20:52:17 WARNING mlflow.models.model: Model logged without a signature and input example. Please set `input_example` parameter when logging the model to auto infer the model signature.\n24/12/06 20:52:20 ERROR Instrumentation: org.apache.hadoop.fs.UnsupportedFileSystemException: No FileSystem for scheme \"azureml\"\n\tat org.apache.hadoop.fs.FileSystem.getFileSystemClass(FileSystem.java:3443)\n\tat org.apache.hadoop.fs.FileSystem.createFileSystem(FileSystem.java:3466)\n\tat org.apache.hadoop.fs.FileSystem.access$300(FileSystem.java:174)\n\tat org.apache.hadoop.fs.FileSystem$Cache.getInternal(FileSystem.java:3574)\n\tat org.apache.hadoop.fs.FileSystem$Cache.get(FileSystem.java:3521)\n\tat org.apache.hadoop.fs.FileSystem.get(FileSystem.java:540)\n\tat org.apache.hadoop.fs.Path.getFileSystem(Path.java:365)\n\tat org.apache.spark.ml.util.FileSystemOverwrite.handleOverwrite(ReadWrite.scala:673)\n\tat org.apache.spark.ml.util.MLWriter.save(ReadWrite.scala:167)\n\tat org.apache.spark.ml.PipelineModel$PipelineModelWriter.super$save(Pipeline.scala:344)\n\tat org.apache.spark.ml.PipelineModel$PipelineModelWriter.$anonfun$save$4(Pipeline.scala:344)\n\tat org.apache.spark.ml.MLEvents.withSaveInstanceEvent(events.scala:174)\n\tat org.apache.spark.ml.MLEvents.withSaveInstanceEvent$(events.scala:169)\n\tat org.apache.spark.ml.util.Instrumentation.withSaveInstanceEvent(Instrumentation.scala:42)\n\tat org.apache.spark.ml.PipelineModel$PipelineModelWriter.$anonfun$save$3(Pipeline.scala:344)\n\tat org.apache.spark.ml.PipelineModel$PipelineModelWriter.$anonfun$save$3$adapted(Pipeline.scala:344)\n\tat org.apache.spark.ml.util.Instrumentation$.$anonfun$instrumented$1(Instrumentation.scala:191)\n\tat scala.util.Try$.apply(Try.scala:213)\n\tat org.apache.spark.ml.util.Instrumentation$.instrumented(Instrumentation.scala:191)\n\tat org.apache.spark.ml.PipelineModel$PipelineModelWriter.save(Pipeline.scala:344)\n\tat java.base/jdk.internal.reflect.NativeMethodAccessorImpl.invoke0(Native Method)\n\tat java.base/jdk.internal.reflect.NativeMethodAccessorImpl.invoke(NativeMethodAccessorImpl.java:62)\n\tat java.base/jdk.internal.reflect.DelegatingMethodAccessorImpl.invoke(DelegatingMethodAccessorImpl.java:43)\n\tat java.base/java.lang.reflect.Method.invoke(Method.java:566)\n\tat py4j.reflection.MethodInvoker.invoke(MethodInvoker.java:244)\n\tat py4j.reflection.ReflectionEngine.invoke(ReflectionEngine.java:374)\n\tat py4j.Gateway.invoke(Gateway.java:282)\n\tat py4j.commands.AbstractCommand.invokeMethod(AbstractCommand.java:132)\n\tat py4j.commands.CallCommand.execute(CallCommand.java:79)\n\tat py4j.ClientServerConnection.waitForCommands(ClientServerConnection.java:182)\n\tat py4j.ClientServerConnection.run(ClientServerConnection.java:106)\n\tat java.base/java.lang.Thread.run(Thread.java:829)\n\n2024/12/06 20:52:38 WARNING mlflow.models.model: Model logged without a signature and input example. Please set `input_example` parameter when logging the model to auto infer the model signature.\nRegistered model 'RandomForest_Model' already exists. Creating a new version of this model...\n2024/12/06 20:52:41 INFO mlflow.store.model_registry.abstract_store: Waiting up to 300 seconds for model version to finish creation. Model name: RandomForest_Model, version 8\n2024/12/06 20:52:41 INFO mlflow.tracking._tracking_service.client: 🏃 View run Modelo_Vinos_RandomForest at: https://eastus.api.azureml.ms/mlflow/v2.0/subscriptions/e2fce082-d0f5-42e6-892d-078f098b0d47/resourceGroups/war-2025/providers/Microsoft.MachineLearningServices/workspaces/dbricksspace-war-123/#/experiments/40f998b9-9217-41d5-9b70-80491338add0/runs/398ed832-d9a2-428b-9fd6-2b3108e44b61.\n2024/12/06 20:52:41 INFO mlflow.tracking._tracking_service.client: 🧪 View experiment at: https://eastus.api.azureml.ms/mlflow/v2.0/subscriptions/e2fce082-d0f5-42e6-892d-078f098b0d47/resourceGroups/war-2025/providers/Microsoft.MachineLearningServices/workspaces/dbricksspace-war-123/#/experiments/40f998b9-9217-41d5-9b70-80491338add0.\n"
        }
      ],
      "execution_count": 18,
      "metadata": {
        "jupyter": {
          "source_hidden": false,
          "outputs_hidden": false
        },
        "nteract": {
          "transient": {
            "deleting": false
          }
        },
        "gather": {
          "logged": 1733518363036
        }
      }
    },
    {
      "cell_type": "markdown",
      "source": [
        "### GBT_Model_OvR"
      ],
      "metadata": {
        "nteract": {
          "transient": {
            "deleting": false
          }
        }
      }
    },
    {
      "cell_type": "code",
      "source": [
        "## Final GBT_Model_OvR\n",
        "\n",
        "# Configurar Azure ML Workspace y MLflow\n",
        "ws = Workspace.from_config()\n",
        "mlflow.set_tracking_uri(ws.get_mlflow_tracking_uri())\n",
        "\n",
        "# Dividir los datos en entrenamiento (80%), validación (10%) y prueba (10%)\n",
        "train_data, val_data, test_data = df_ml.randomSplit([0.8, 0.1, 0.1], seed=42)\n",
        "\n",
        "# Definir nombres de modelo y dataset para MLflow\n",
        "model_name = \"GBT_Model_OvR\"\n",
        "dataset_name = \"Wine_Data\"\n",
        "\n",
        "with mlflow.start_run(run_name=\"Modelo_Vinos_GBT_OvR\") as run:\n",
        "    # Crear el modelo base de GBTClassifier\n",
        "    gbt = GBTClassifier(labelCol=\"Target\", featuresCol=\"features\", maxIter=10)\n",
        "\n",
        "    # Configurar One-vs-Rest para multiclase\n",
        "    ovr = OneVsRest(classifier=gbt, labelCol=\"Target\", featuresCol=\"features\")\n",
        "\n",
        "    # Construir la grilla de hiperparámetros para GBT\n",
        "    paramGrid = ParamGridBuilder() \\\n",
        "        .addGrid(gbt.maxDepth, [5, 10]) \\\n",
        "        .addGrid(gbt.maxBins, [32, 64]) \\\n",
        "        .build()\n",
        "\n",
        "    # Evaluador para clasificación multiclase\n",
        "    evaluator = MulticlassClassificationEvaluator(labelCol=\"Target\", predictionCol=\"prediction\", metricName=\"accuracy\")\n",
        "\n",
        "    # Configurar TrainValidationSplit\n",
        "    tvs = TrainValidationSplit(estimator=ovr,\n",
        "                               estimatorParamMaps=paramGrid,\n",
        "                               evaluator=evaluator,\n",
        "                               trainRatio=0.9)  # Usa el 90% del conjunto de entrenamiento para entrenar el modelo\n",
        "\n",
        "    # Ajustar el modelo usando train_data\n",
        "    tvs_model = tvs.fit(train_data)\n",
        "\n",
        "    # Evaluar en val_data\n",
        "    val_predictions = tvs_model.transform(val_data)\n",
        "    val_accuracy = evaluator.evaluate(val_predictions)\n",
        "    print(f\"Precisión en validación: {val_accuracy:.2f}\")\n",
        "\n",
        "    # Registrar precisión de validación en MLflow\n",
        "    mlflow.log_metric(f\"{model_name}_val_accuracy\", val_accuracy)\n",
        "\n",
        "    # Evaluar el modelo final con test_data\n",
        "    predictions = tvs_model.transform(test_data)\n",
        "    test_accuracy = evaluator.evaluate(predictions)\n",
        "    weightedPrecision = evaluator.evaluate(predictions, {evaluator.metricName: \"weightedPrecision\"})\n",
        "    weightedRecall = evaluator.evaluate(predictions, {evaluator.metricName: \"weightedRecall\"})\n",
        "    f1 = evaluator.evaluate(predictions, {evaluator.metricName: \"f1\"})\n",
        "\n",
        "    print(f\"Precisión en prueba: {test_accuracy:.2f}\")\n",
        "    print(f\"Weighted Precision: {weightedPrecision:.2f}\")\n",
        "    print(f\"Weighted Recall: {weightedRecall:.2f}\")\n",
        "    print(f\"F1 Score: {f1:.2f}\")\n",
        "\n",
        "    # Registrar métricas generales en MLflow\n",
        "    mlflow.log_metric(f\"{model_name}_{dataset_name}_test_accuracy\", test_accuracy)\n",
        "    mlflow.log_metric(f\"{model_name}_{dataset_name}_weightedPrecision\", weightedPrecision)\n",
        "    mlflow.log_metric(f\"{model_name}_{dataset_name}_weightedRecall\", weightedRecall)\n",
        "    mlflow.log_metric(f\"{model_name}_{dataset_name}_f1\", f1)\n",
        "\n",
        "    # Calcular y registrar métricas por clase\n",
        "    classes = predictions.select(\"Target\").distinct().collect()\n",
        "    for c in classes:\n",
        "        class_label = c[0]\n",
        "        tp = predictions.filter((col(\"Target\") == class_label) & (col(\"prediction\") == class_label)).count()\n",
        "        fp = predictions.filter((col(\"Target\") != class_label) & (col(\"prediction\") == class_label)).count()\n",
        "        fn = predictions.filter((col(\"Target\") == class_label) & (col(\"prediction\") != class_label)).count()\n",
        "\n",
        "        # Precision, Recall, F1\n",
        "        precision = tp / (tp + fp) if (tp + fp) > 0 else 0\n",
        "        recall = tp / (tp + fn) if (tp + fn) > 0 else 0\n",
        "        f1_class = 2 * (precision * recall) / (precision + recall) if (precision + recall) > 0 else 0\n",
        "\n",
        "        print(f\"Class {class_label} - Precision: {precision:.2f}, Recall: {recall:.2f}, F1: {f1_class:.2f}\")\n",
        "\n",
        "        # Registrar métricas por clase\n",
        "        mlflow.log_metric(f\"{model_name}_class_{class_label}_precision\", precision)\n",
        "        mlflow.log_metric(f\"{model_name}_class_{class_label}_recall\", recall)\n",
        "        mlflow.log_metric(f\"{model_name}_class_{class_label}_f1\", f1_class)\n",
        "\n",
        "    # Convertir las predicciones a un Pandas DataFrame para usar en la matriz de confusión\n",
        "    predictions_pd = predictions.select(\"Target\", \"prediction\").toPandas()\n",
        "\n",
        "    # Calcular la matriz de confusión usando sklearn\n",
        "    cm = confusion_matrix(predictions_pd[\"Target\"], predictions_pd[\"prediction\"])\n",
        "\n",
        "    # Crear el gráfico de la matriz de confusión\n",
        "    plt.figure(figsize=(8, 6))\n",
        "    sns.heatmap(cm, annot=True, fmt=\"d\", cmap=\"Blues\", xticklabels=sorted(predictions_pd[\"Target\"].unique()), yticklabels=sorted(predictions_pd[\"Target\"].unique()))\n",
        "    plt.title(f'Matriz de Confusión ({dataset_name}) - {model_name}')\n",
        "    plt.xlabel(\"Predicción\")\n",
        "    plt.ylabel(\"Real\")\n",
        "\n",
        "    # Guardar la matriz de confusión en un archivo temporal\n",
        "    temp_file_path = os.path.join(tempfile.gettempdir(), f'confusion_matrix_{dataset_name}_{model_name}.png')\n",
        "    plt.savefig(temp_file_path)\n",
        "    plt.close()\n",
        "\n",
        "    # Registrar la gráfica en MLflow\n",
        "    mlflow.log_artifact(temp_file_path)\n",
        "\n",
        "    # Registrar el modelo en MLflow\n",
        "    artifact_path = \"model_gbt_ovr\"\n",
        "    mlflow.spark.log_model(tvs_model.bestModel, artifact_path=artifact_path)\n",
        "\n",
        "    # Registrar el modelo en el Model Registry\n",
        "    model_uri = f\"runs:/{run.info.run_id}/{artifact_path}\"\n",
        "    registered_model = mlflow.register_model(model_uri=model_uri, name=model_name)\n",
        "    print(f\"Modelo registrado: {registered_model.name}, versión: {registered_model.version}\")"
      ],
      "outputs": [
        {
          "output_type": "stream",
          "name": "stderr",
          "text": "2024/12/06 20:54:07 WARNING mlflow.models.model: Model logged without a signature and input example. Please set `input_example` parameter when logging the model to auto infer the model signature.\nRegistered model 'GBT_Model_OvR' already exists. Creating a new version of this model...\n"
        },
        {
          "output_type": "stream",
          "name": "stdout",
          "text": "Precisión en validación: 0.86\nPrecisión en prueba: 0.92\nWeighted Precision: 0.93\nWeighted Recall: 0.92\nF1 Score: 0.91\nClass 1 - Precision: 0.80, Recall: 1.00, F1: 0.89\nClass 2 - Precision: 1.00, Recall: 0.67, F1: 0.80\nClass 3 - Precision: 1.00, Recall: 1.00, F1: 1.00\nModelo registrado: GBT_Model_OvR, versión: 6\n"
        }
      ],
      "execution_count": 19,
      "metadata": {
        "jupyter": {
          "source_hidden": false,
          "outputs_hidden": false
        },
        "nteract": {
          "transient": {
            "deleting": false
          }
        },
        "gather": {
          "logged": 1733518455677
        }
      }
    },
    {
      "cell_type": "markdown",
      "source": [
        "### Validacion de Guardado"
      ],
      "metadata": {
        "nteract": {
          "transient": {
            "deleting": false
          }
        }
      }
    },
    {
      "cell_type": "code",
      "source": [
        "from mlflow.tracking import MlflowClient\n",
        "\n",
        "client = MlflowClient()\n",
        "\n",
        "# Listar versiones del modelo\n",
        "model_versions = client.search_model_versions(f\"name='GBT_Model_OvR'\")\n",
        "for version in model_versions:\n",
        "    print(f\"Version: {version.version}, Run ID: {version.run_id}, Status: {version.current_stage}\")"
      ],
      "outputs": [
        {
          "output_type": "stream",
          "name": "stdout",
          "text": "Version: 6, Run ID: 0c695504-857e-4462-b525-3eef0b8a1771, Status: None\n"
        }
      ],
      "execution_count": 20,
      "metadata": {
        "jupyter": {
          "source_hidden": false,
          "outputs_hidden": false
        },
        "nteract": {
          "transient": {
            "deleting": false
          }
        },
        "gather": {
          "logged": 1733518502419
        }
      }
    },
    {
      "cell_type": "code",
      "source": [
        "from mlflow.tracking import MlflowClient\n",
        "\n",
        "# Conectar con el cliente de MLflow\n",
        "client = MlflowClient()\n",
        "\n",
        "# Definir los modelos y versiones que quieres comparar\n",
        "models = [\n",
        "    {\"model_name\": \"GBT_Model_OvR\", \"version\": 6},\n",
        "    {\"model_name\": \"RandomForest_Model\", \"version\": 8},\n",
        "    {\"model_name\": \"LogisticRegression_Model\", \"version\": 8}\n",
        "]\n",
        "\n",
        "# Crear listas para almacenar las métricas de precisión (accuracy)\n",
        "accuracies = []\n",
        "model_names = []\n",
        "\n",
        "# Recuperar las métricas de precisión (accuracy) de cada modelo\n",
        "for model in models:\n",
        "    model_name = model[\"model_name\"]\n",
        "    version = model[\"version\"]\n",
        "    \n",
        "    # Obtener el 'run_id' de la versión del modelo\n",
        "    model_version = client.get_model_version(name=model_name, version=version)\n",
        "    run_id = model_version.run_id\n",
        "\n",
        "    # Obtener las métricas de la ejecución asociada\n",
        "    metrics = client.get_run(run_id).data.metrics\n",
        "    accuracy = metrics.get('accuracy', None)  # Reemplaza 'accuracy' si tienes otro nombre para la métrica\n",
        "\n",
        "    # Agregar las métricas a las listas\n",
        "    model_names.append(f\"{model_name} V{version}\")\n",
        "    accuracies.append(accuracy)\n",
        "\n",
        "# Verificar las métricas\n",
        "print(\"Modelos:\", model_names)\n",
        "print(\"Accuracies:\", accuracies)"
      ],
      "outputs": [
        {
          "output_type": "stream",
          "name": "stdout",
          "text": "Modelos: ['GBT_Model_OvR V6', 'RandomForest_Model V8', 'LogisticRegression_Model V8']\nAccuracies: [None, None, None]\n"
        }
      ],
      "execution_count": 22,
      "metadata": {
        "jupyter": {
          "source_hidden": false,
          "outputs_hidden": false
        },
        "nteract": {
          "transient": {
            "deleting": false
          }
        },
        "gather": {
          "logged": 1733518526103
        }
      }
    },
    {
      "cell_type": "code",
      "source": [
        "# Obtener las métricas de la ejecución asociada y mostrar todas las métricas disponibles\n",
        "for model in models:\n",
        "    model_name = model[\"model_name\"]\n",
        "    version = model[\"version\"]\n",
        "    \n",
        "    # Obtener el 'run_id' de la versión del modelo\n",
        "    model_version = client.get_model_version(name=model_name, version=version)\n",
        "    run_id = model_version.run_id\n",
        "\n",
        "    # Obtener todas las métricas de la ejecución asociada\n",
        "    metrics = client.get_run(run_id).data.metrics\n",
        "    print(f\"Métricas para {model_name} V{version}: {metrics}\")"
      ],
      "outputs": [
        {
          "output_type": "stream",
          "name": "stdout",
          "text": "Métricas para GBT_Model_OvR V6: {'GBT_Model_OvR_val_accuracy': 0.8571428571428571, 'GBT_Model_OvR_Wine_Data_test_accuracy': 0.9166666666666666, 'GBT_Model_OvR_Wine_Data_weightedPrecision': 0.9333333333333333, 'GBT_Model_OvR_Wine_Data_weightedRecall': 0.9166666666666667, 'GBT_Model_OvR_Wine_Data_f1': 0.912962962962963, 'GBT_Model_OvR_class_1_precision': 0.8, 'GBT_Model_OvR_class_1_recall': 1.0, 'GBT_Model_OvR_class_1_f1': 0.888888888888889, 'GBT_Model_OvR_class_2_precision': 1.0, 'GBT_Model_OvR_class_2_recall': 0.6666666666666666, 'GBT_Model_OvR_class_2_f1': 0.8, 'GBT_Model_OvR_class_3_precision': 1.0, 'GBT_Model_OvR_class_3_recall': 1.0, 'GBT_Model_OvR_class_3_f1': 1.0}\nMétricas para RandomForest_Model V8: {'RandomForest_Model_val_accuracy': 0.9444444444444444, 'RandomForest_Model_Wine_Data_test_accuracy': 0.9545454545454546, 'RandomForest_Model_class_1_precision': 1.0, 'RandomForest_Model_class_1_recall': 1.0, 'RandomForest_Model_class_1_f1': 1.0, 'RandomForest_Model_class_2_precision': 1.0, 'RandomForest_Model_class_2_recall': 0.875, 'RandomForest_Model_class_2_f1': 0.9333333333333333, 'RandomForest_Model_class_3_precision': 0.8333333333333334, 'RandomForest_Model_class_3_recall': 1.0, 'RandomForest_Model_class_3_f1': 0.9090909090909091}\nMétricas para LogisticRegression_Model V8: {'LogisticRegression_Model_val_accuracy': 0.9444444444444444, 'LogisticRegression_Model_Wine_Data_test_accuracy': 0.9545454545454546, 'LogisticRegression_Model_class_1_precision': 1.0, 'LogisticRegression_Model_class_1_recall': 1.0, 'LogisticRegression_Model_class_1_f1': 1.0, 'LogisticRegression_Model_class_2_precision': 1.0, 'LogisticRegression_Model_class_2_recall': 0.875, 'LogisticRegression_Model_class_2_f1': 0.9333333333333333, 'LogisticRegression_Model_class_3_precision': 0.8333333333333334, 'LogisticRegression_Model_class_3_recall': 1.0, 'LogisticRegression_Model_class_3_f1': 0.9090909090909091}\n"
        }
      ],
      "execution_count": 23,
      "metadata": {
        "jupyter": {
          "source_hidden": false,
          "outputs_hidden": false
        },
        "nteract": {
          "transient": {
            "deleting": false
          }
        },
        "gather": {
          "logged": 1733518535215
        }
      }
    },
    {
      "cell_type": "code",
      "source": [
        "# Datos de precisión de los modelos\n",
        "metrics_data = {\n",
        "    \"Modelo\": [\"GBT_Model_OvR V6\", \"RandomForest_Model V8\", \"LogisticRegression_Model V8\"],\n",
        "    \"Precisión (Accuracy)\": [0.9166666666666666, 0.9523809523809523, 0.9545454545454546]\n",
        "}\n",
        "\n",
        "# Crear el gráfico\n",
        "plt.figure(figsize=(10, 6))\n",
        "plt.bar(metrics_data[\"Modelo\"], metrics_data[\"Precisión (Accuracy)\"], color='skyblue')\n",
        "\n",
        "# Etiquetas y título\n",
        "plt.title(\"Comparación de Precisión entre Modelos\")\n",
        "plt.ylabel(\"Precisión (Accuracy)\")\n",
        "plt.xlabel(\"Modelo\")\n",
        "\n",
        "# Mostrar el gráfico\n",
        "plt.show()"
      ],
      "outputs": [
        {
          "output_type": "display_data",
          "data": {
            "text/plain": "<Figure size 1000x600 with 1 Axes>",
            "image/png": "[encoded data removed]"
          },
          "metadata": {}
        }
      ],
      "execution_count": 26,
      "metadata": {
        "jupyter": {
          "source_hidden": false,
          "outputs_hidden": false
        },
        "nteract": {
          "transient": {
            "deleting": false
          }
        },
        "gather": {
          "logged": 1733518619555
        }
      }
    },
    {
      "cell_type": "markdown",
      "source": [
        "## Seleccion de Modelo Ganador"
      ],
      "metadata": {
        "nteract": {
          "transient": {
            "deleting": false
          }
        }
      }
    },
    {
      "cell_type": "code",
      "source": [
        "# Definir los modelos y versiones que quieres comparar\n",
        "models = [\n",
        "    {\"model_name\": \"GBT_Model_OvR\", \"version\": 6},\n",
        "    {\"model_name\": \"RandomForest_Model\", \"version\": 8},\n",
        "    {\"model_name\": \"LogisticRegression_Model\", \"version\": 8}\n",
        "]"
      ],
      "outputs": [],
      "execution_count": 28,
      "metadata": {
        "jupyter": {
          "source_hidden": false,
          "outputs_hidden": false
        },
        "nteract": {
          "transient": {
            "deleting": false
          }
        },
        "gather": {
          "logged": 1733518709534
        }
      }
    },
    {
      "cell_type": "code",
      "source": [
        "import matplotlib.pyplot as plt\n",
        "import pandas as pd\n",
        "from mlflow.tracking import MlflowClient\n",
        "\n",
        "# Conectar con el cliente de MLflow\n",
        "client = MlflowClient()\n",
        "\n",
        "# Crear listas para almacenar las métricas\n",
        "metrics_data = {\n",
        "    \"Modelo\": [],\n",
        "    \"Validación (Accuracy)\": [],\n",
        "    \"Prueba (Accuracy)\": [],\n",
        "    \"Weighted Precision\": [],\n",
        "    \"Weighted Recall\": [],\n",
        "    \"Weighted F1\": []\n",
        "}\n",
        "\n",
        "# Recuperar las métricas de cada modelo\n",
        "for model in models:\n",
        "    model_name = model[\"model_name\"]\n",
        "    version = model[\"version\"]\n",
        "    \n",
        "    # Obtener el 'run_id' de la versión del modelo\n",
        "    model_version = client.get_model_version(name=model_name, version=version)\n",
        "    run_id = model_version.run_id\n",
        "\n",
        "    # Obtener todas las métricas de la ejecución asociada\n",
        "    metrics = client.get_run(run_id).data.metrics\n",
        "\n",
        "    # Extraer las métricas específicas para cada modelo\n",
        "    val_accuracy = metrics.get(f\"{model_name}_val_accuracy\", None)\n",
        "    test_accuracy = metrics.get(f\"{model_name}_Wine_Data_test_accuracy\", None)\n",
        "    weighted_precision = metrics.get(f\"{model_name}_Wine_Data_weightedPrecision\", None)\n",
        "    weighted_recall = metrics.get(f\"{model_name}_Wine_Data_weightedRecall\", None)\n",
        "    weighted_f1 = metrics.get(f\"{model_name}_Wine_Data_f1\", None)\n",
        "\n",
        "    # Agregar métricas a la lista\n",
        "    metrics_data[\"Modelo\"].append(f\"{model_name} V{version}\")\n",
        "    metrics_data[\"Validación (Accuracy)\"].append(val_accuracy if val_accuracy is not None else \"N/A\")\n",
        "    metrics_data[\"Prueba (Accuracy)\"].append(test_accuracy if test_accuracy is not None else \"N/A\")\n",
        "    metrics_data[\"Weighted Precision\"].append(weighted_precision if weighted_precision is not None else \"N/A\")\n",
        "    metrics_data[\"Weighted Recall\"].append(weighted_recall if weighted_recall is not None else \"N/A\")\n",
        "    metrics_data[\"Weighted F1\"].append(weighted_f1 if weighted_f1 is not None else \"N/A\")\n",
        "\n",
        "# Convertir las métricas a un DataFrame de pandas para manejar mejor la visualización\n",
        "df_metrics = pd.DataFrame(metrics_data)\n",
        "\n",
        "# Imprimir las métricas para verificar los valores\n",
        "print(df_metrics)\n",
        "\n",
        "# Crear gráficos para las métricas principales\n",
        "fig, axes = plt.subplots(2, 2, figsize=(14, 12))\n",
        "\n",
        "# Gráfico de Validación (Accuracy)\n",
        "axes[0, 0].bar(df_metrics[\"Modelo\"], df_metrics[\"Validación (Accuracy)\"].apply(lambda x: float(x) if x != \"N/A\" else 0), color='skyblue')\n",
        "axes[0, 0].set_title(\"Validación (Accuracy)\")\n",
        "axes[0, 0].set_ylabel(\"Valor\")\n",
        "axes[0, 0].set_xlabel(\"Modelo\")\n",
        "\n",
        "# Gráfico de Prueba (Accuracy)\n",
        "axes[0, 1].bar(df_metrics[\"Modelo\"], df_metrics[\"Prueba (Accuracy)\"].apply(lambda x: float(x) if x != \"N/A\" else 0), color='lightgreen')\n",
        "axes[0, 1].set_title(\"Prueba (Accuracy)\")\n",
        "axes[0, 1].set_ylabel(\"Valor\")\n",
        "axes[0, 1].set_xlabel(\"Modelo\")\n",
        "\n",
        "# Gráfico de Weighted Precision\n",
        "axes[1, 0].bar(df_metrics[\"Modelo\"], df_metrics[\"Weighted Precision\"].apply(lambda x: float(x) if x != \"N/A\" else 0), color='lightcoral')\n",
        "axes[1, 0].set_title(\"Weighted Precision\")\n",
        "axes[1, 0].set_ylabel(\"Valor\")\n",
        "axes[1, 0].set_xlabel(\"Modelo\")\n",
        "\n",
        "# Gráfico de Weighted Recall\n",
        "axes[1, 1].bar(df_metrics[\"Modelo\"], df_metrics[\"Weighted Recall\"].apply(lambda x: float(x) if x != \"N/A\" else 0), color='gold')\n",
        "axes[1, 1].set_title(\"Weighted Recall\")\n",
        "axes[1, 1].set_ylabel(\"Valor\")\n",
        "axes[1, 1].set_xlabel(\"Modelo\")\n",
        "\n",
        "plt.tight_layout()\n",
        "plt.show()\n",
        "\n",
        "# Determinar el modelo ganador basado en la métrica de Prueba (Accuracy)\n",
        "df_metrics[\"Prueba (Accuracy)\"] = pd.to_numeric(df_metrics[\"Prueba (Accuracy)\"], errors='coerce')\n",
        "best_model_test = df_metrics.loc[df_metrics[\"Prueba (Accuracy)\"].idxmax()]\n",
        "\n",
        "# Mostrar el modelo ganador\n",
        "print(f\"El modelo ganador basado en la métrica de prueba (accuracy) es: {best_model_test['Modelo']} \"\n",
        "      f\"con un Accuracy de {best_model_test['Prueba (Accuracy)']:.2f}\")\n"
      ],
      "outputs": [
        {
          "output_type": "stream",
          "name": "stdout",
          "text": "                        Modelo  Validación (Accuracy)  Prueba (Accuracy)  \\\n0             GBT_Model_OvR V6               0.857143           0.916667   \n1        RandomForest_Model V8               0.944444           0.954545   \n2  LogisticRegression_Model V8               0.944444           0.954545   \n\n  Weighted Precision Weighted Recall Weighted F1  \n0           0.933333        0.916667    0.912963  \n1                N/A             N/A         N/A  \n2                N/A             N/A         N/A  \n"
        },
        {
          "output_type": "display_data",
          "data": {
            "text/plain": "<Figure size 1400x1200 with 4 Axes>",
            "image/png": "[encoded data removed]"
          },
          "metadata": {}
        },
        {
          "output_type": "stream",
          "name": "stdout",
          "text": "El modelo ganador basado en la métrica de prueba (accuracy) es: RandomForest_Model V8 con un Accuracy de 0.95\n"
        }
      ],
      "execution_count": 29,
      "metadata": {
        "jupyter": {
          "source_hidden": false,
          "outputs_hidden": false
        },
        "nteract": {
          "transient": {
            "deleting": false
          }
        },
        "gather": {
          "logged": 1733518711445
        }
      }
    },
    {
      "cell_type": "code",
      "source": [
        "import pandas as pd\n",
        "from mlflow.tracking import MlflowClient\n",
        "\n",
        "# Conectar con el cliente de MLflow\n",
        "client = MlflowClient()\n",
        "\n",
        "# Definir los modelos y versiones que quieres comparar\n",
        "models = [\n",
        "    {\"model_name\": \"GBT_Model_OvR\", \"version\": 6},\n",
        "    {\"model_name\": \"RandomForest_Model\", \"version\": 8},\n",
        "    {\"model_name\": \"LogisticRegression_Model\", \"version\": 8}\n",
        "]\n",
        "\n",
        "# Crear una lista para almacenar las métricas de cada modelo\n",
        "metrics_data = []\n",
        "\n",
        "# Recuperar las métricas de cada modelo y convertirlas a pandas\n",
        "for model in models:\n",
        "    model_name = model[\"model_name\"]\n",
        "    version = model[\"version\"]\n",
        "    \n",
        "    # Obtener el 'run_id' de la versión del modelo\n",
        "    model_version = client.get_model_version(name=model_name, version=version)\n",
        "    run_id = model_version.run_id\n",
        "\n",
        "    # Obtener todas las métricas de la ejecución asociada\n",
        "    metrics = client.get_run(run_id).data.metrics\n",
        "\n",
        "    # Crear un diccionario para almacenar las métricas de este modelo\n",
        "    model_metrics = {\n",
        "        \"Modelo\": f\"{model_name} V{version}\",\n",
        "        \"Validación (Accuracy)\": metrics.get(f\"{model_name}_val_accuracy\", None),\n",
        "        \"Prueba (Accuracy)\": metrics.get(f\"{model_name}_Wine_Data_test_accuracy\", None),\n",
        "    }\n",
        "    \n",
        "    # Agregar métricas por clase\n",
        "    for class_label in range(1, 4):  # Suponiendo 3 clases\n",
        "        model_metrics[f\"Clase {class_label} Precision\"] = metrics.get(f\"{model_name}_class_{class_label}_precision\", None)\n",
        "        model_metrics[f\"Clase {class_label} Recall\"] = metrics.get(f\"{model_name}_class_{class_label}_recall\", None)\n",
        "        model_metrics[f\"Clase {class_label} F1\"] = metrics.get(f\"{model_name}_class_{class_label}_f1\", None)\n",
        "\n",
        "    # Agregar al conjunto de métricas\n",
        "    metrics_data.append(model_metrics)\n",
        "\n",
        "# Convertir todas las métricas a un DataFrame\n",
        "df_metrics = pd.DataFrame(metrics_data)\n",
        "\n",
        "# Calcular promedios para Precision, Recall y F1 directamente en pandas\n",
        "for metric in [\"Precision\", \"Recall\", \"F1\"]:\n",
        "    class_columns = [col for col in df_metrics.columns if metric in col]\n",
        "    df_metrics[f\"{metric} Promedio\"] = df_metrics[class_columns].mean(axis=1, skipna=True)\n",
        "\n",
        "# Calcular el Promedio General\n",
        "df_metrics[\"Promedio General\"] = df_metrics[[\"Precision Promedio\", \"Recall Promedio\", \"F1 Promedio\"]].mean(axis=1, skipna=True)\n",
        "\n",
        "# Imprimir las métricas en formato tabular\n",
        "print(df_metrics)\n",
        "\n",
        "# Determinar el modelo ganador basado en el Promedio General\n",
        "best_model = df_metrics.loc[df_metrics[\"Promedio General\"].idxmax()]\n",
        "\n",
        "# Mostrar el modelo ganador\n",
        "print(f\"El modelo ganador basado en el promedio general es: {best_model['Modelo']} \"\n",
        "      f\"con un Promedio General de {best_model['Promedio General']:.2f}\")\n",
        "\n",
        "# Crear un gráfico de barras para comparar las métricas promedio\n",
        "metrics_to_plot = [\"Precision Promedio\", \"Recall Promedio\", \"F1 Promedio\"]\n",
        "df_metrics_plot = df_metrics[[\"Modelo\"] + metrics_to_plot]\n",
        "\n",
        "# Crear el gráfico\n",
        "df_metrics_plot.set_index(\"Modelo\")[metrics_to_plot].plot(kind=\"bar\", figsize=(10, 6))\n",
        "\n",
        "# Configurar títulos y etiquetas\n",
        "plt.title(\"Comparación de Métricas Promedio entre Modelos\")\n",
        "plt.ylabel(\"Valor Promedio\")\n",
        "plt.xlabel(\"Modelo\")\n",
        "plt.xticks(rotation=45)\n",
        "plt.legend(title=\"Métrica\")\n",
        "plt.tight_layout()\n",
        "\n",
        "# Mostrar el gráfico\n",
        "plt.show()"
      ],
      "outputs": [
        {
          "output_type": "stream",
          "name": "stdout",
          "text": "                        Modelo  Validación (Accuracy)  Prueba (Accuracy)  \\\n0             GBT_Model_OvR V6               0.857143           0.916667   \n1        RandomForest_Model V8               0.944444           0.954545   \n2  LogisticRegression_Model V8               0.944444           0.954545   \n\n   Clase 1 Precision  Clase 1 Recall  Clase 1 F1  Clase 2 Precision  \\\n0                0.8             1.0    0.888889                1.0   \n1                1.0             1.0    1.000000                1.0   \n2                1.0             1.0    1.000000                1.0   \n\n   Clase 2 Recall  Clase 2 F1  Clase 3 Precision  Clase 3 Recall  Clase 3 F1  \\\n0        0.666667    0.800000           1.000000             1.0    1.000000   \n1        0.875000    0.933333           0.833333             1.0    0.909091   \n2        0.875000    0.933333           0.833333             1.0    0.909091   \n\n   Precision Promedio  Recall Promedio  F1 Promedio  Promedio General  \n0            0.933333         0.888889     0.896296          0.906173  \n1            0.944444         0.958333     0.947475          0.950084  \n2            0.944444         0.958333     0.947475          0.950084  \nEl modelo ganador basado en el promedio general es: RandomForest_Model V8 con un Promedio General de 0.95\n"
        },
        {
          "output_type": "display_data",
          "data": {
            "text/plain": "<Figure size 1000x600 with 1 Axes>",
            "image/png": "[encoded data removed]"
          },
          "metadata": {}
        }
      ],
      "execution_count": 30,
      "metadata": {
        "jupyter": {
          "source_hidden": false,
          "outputs_hidden": false
        },
        "nteract": {
          "transient": {
            "deleting": false
          }
        },
        "gather": {
          "logged": 1733518713353
        }
      }
    },
    {
      "cell_type": "code",
      "source": [
        "print('Finalizacion')"
      ],
      "outputs": [
        {
          "output_type": "stream",
          "name": "stdout",
          "text": "Finalizacion\n"
        }
      ],
      "execution_count": 31,
      "metadata": {
        "jupyter": {
          "source_hidden": false,
          "outputs_hidden": false
        },
        "nteract": {
          "transient": {
            "deleting": false
          }
        },
        "gather": {
          "logged": 1733518734726
        }
      }
    }
  ],
  "metadata": {
    "kernelspec": {
      "name": "python310-sdkv2",
      "language": "python",
      "display_name": "Python 3.10 - SDK v2"
    },
    "language_info": {
      "name": "python",
      "version": "3.10.14",
      "mimetype": "text/x-python",
      "codemirror_mode": {
        "name": "ipython",
        "version": 3
      },
      "pygments_lexer": "ipython3",
      "nbconvert_exporter": "python",
      "file_extension": ".py"
    },
    "microsoft": {
      "ms_spell_check": {
        "ms_spell_check_language": "es"
      },
      "host": {
        "AzureML": {
          "notebookHasBeenCompleted": true
        }
      }
    },
    "kernel_info": {
      "name": "python310-sdkv2"
    },
    "nteract": {
      "version": "nteract-front-end@1.0.0"
    }
  },
  "nbformat": 4,
  "nbformat_minor": 2
}