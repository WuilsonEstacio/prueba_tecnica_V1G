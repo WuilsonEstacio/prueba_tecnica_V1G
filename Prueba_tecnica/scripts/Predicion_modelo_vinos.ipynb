{
  "cells": [
    {
      "cell_type": "markdown",
      "source": [
        "\"\"\"\n",
        "*****************************************************************************\n",
        "* MLops                                                                     *\n",
        "* OBJETIVO: Preprocesamiento del modelo vinos                               * \n",
        "* INPUT: se crea la tata insumo para prediccion.csv                         *\n",
        "* OUTPUT: Predicciones                                                      *\n",
        "* FECHA CREACION: 05/12/2024                                                *\n",
        "* ***************************************************************************\n",
        "* MODIFICACIONES\n",
        "* NOMBRE WUILSON ESTACIO                    \n",
        "* FECHA 05/12/2024\n",
        "* VERSION 02\n",
        "* DESCRIPCION Realiza la Prediccion del modelo y empaque \n",
        "******************************************************************************\n",
        "\"\"\""
      ],
      "metadata": {
        "nteract": {
          "transient": {
            "deleting": false
          }
        }
      }
    },
    {
      "cell_type": "code",
      "source": [
        "# pip install azureml-sdk"
      ],
      "outputs": [
        {
          "output_type": "stream",
          "name": "stdout",
          "text": "Requirement already satisfied: azureml-sdk in /anaconda/envs/azureml_py310_sdkv2/lib/python3.10/site-packages (1.58.0)\nRequirement already satisfied: azureml-core~=1.58.0 in /anaconda/envs/azureml_py310_sdkv2/lib/python3.10/site-packages (from azureml-sdk) (1.58.0.post1)\nRequirement already satisfied: azureml-dataset-runtime~=1.58.0 in /anaconda/envs/azureml_py310_sdkv2/lib/python3.10/site-packages (from azureml-dataset-runtime[fuse]~=1.58.0->azureml-sdk) (1.58.0)\nRequirement already satisfied: azureml-train-core~=1.58.0 in /anaconda/envs/azureml_py310_sdkv2/lib/python3.10/site-packages (from azureml-sdk) (1.58.0)\nRequirement already satisfied: azureml-train-automl-client~=1.58.0 in /anaconda/envs/azureml_py310_sdkv2/lib/python3.10/site-packages (from azureml-sdk) (1.58.0)\nRequirement already satisfied: azureml-pipeline~=1.58.0 in /anaconda/envs/azureml_py310_sdkv2/lib/python3.10/site-packages (from azureml-sdk) (1.58.0)\nRequirement already satisfied: pytz in /anaconda/envs/azureml_py310_sdkv2/lib/python3.10/site-packages (from azureml-core~=1.58.0->azureml-sdk) (2024.2)\nRequirement already satisfied: backports.tempfile in /anaconda/envs/azureml_py310_sdkv2/lib/python3.10/site-packages (from azureml-core~=1.58.0->azureml-sdk) (1.0)\nRequirement already satisfied: pathspec<1.0.0 in /anaconda/envs/azureml_py310_sdkv2/lib/python3.10/site-packages (from azureml-core~=1.58.0->azureml-sdk) (0.12.1)\nRequirement already satisfied: requests<3.0.0,>=2.19.1 in /anaconda/envs/azureml_py310_sdkv2/lib/python3.10/site-packages (from requests[socks]<3.0.0,>=2.19.1->azureml-core~=1.58.0->azureml-sdk) (2.32.3)\nRequirement already satisfied: msal<2.0.0,>=1.15.0 in /anaconda/envs/azureml_py310_sdkv2/lib/python3.10/site-packages (from azureml-core~=1.58.0->azureml-sdk) (1.31.0)\nRequirement already satisfied: msal-extensions<=2.0.0,>=0.3.0 in /anaconda/envs/azureml_py310_sdkv2/lib/python3.10/site-packages (from azureml-core~=1.58.0->azureml-sdk) (1.2.0)\nRequirement already satisfied: knack<0.13.0 in /anaconda/envs/azureml_py310_sdkv2/lib/python3.10/site-packages (from azureml-core~=1.58.0->azureml-sdk) (0.11.0)\nRequirement already satisfied: azure-core<2.0.0 in /anaconda/envs/azureml_py310_sdkv2/lib/python3.10/site-packages (from azureml-core~=1.58.0->azureml-sdk) (1.31.0)\nRequirement already satisfied: pkginfo in /anaconda/envs/azureml_py310_sdkv2/lib/python3.10/site-packages (from azureml-core~=1.58.0->azureml-sdk) (1.11.1)\nRequirement already satisfied: argcomplete<4 in /anaconda/envs/azureml_py310_sdkv2/lib/python3.10/site-packages (from azureml-core~=1.58.0->azureml-sdk) (3.5.0)\nRequirement already satisfied: humanfriendly<11.0,>=4.7 in /anaconda/envs/azureml_py310_sdkv2/lib/python3.10/site-packages (from azureml-core~=1.58.0->azureml-sdk) (10.0)\nRequirement already satisfied: paramiko<4.0.0,>=2.0.8 in /anaconda/envs/azureml_py310_sdkv2/lib/python3.10/site-packages (from azureml-core~=1.58.0->azureml-sdk) (3.5.0)\nRequirement already satisfied: azure-mgmt-resource<=24.0.0,>=15.0.0 in /anaconda/envs/azureml_py310_sdkv2/lib/python3.10/site-packages (from azureml-core~=1.58.0->azureml-sdk) (23.1.1)\nRequirement already satisfied: azure-mgmt-containerregistry<11,>=8.2.0 in /anaconda/envs/azureml_py310_sdkv2/lib/python3.10/site-packages (from azureml-core~=1.58.0->azureml-sdk) (10.3.0)\nRequirement already satisfied: azure-mgmt-storage<=22.0.0,>=16.0.0 in /anaconda/envs/azureml_py310_sdkv2/lib/python3.10/site-packages (from azureml-core~=1.58.0->azureml-sdk) (21.2.1)\nRequirement already satisfied: azure-mgmt-keyvault<11.0.0,>=0.40.0 in /anaconda/envs/azureml_py310_sdkv2/lib/python3.10/site-packages (from azureml-core~=1.58.0->azureml-sdk) (10.3.1)\nRequirement already satisfied: azure-mgmt-authorization<5,>=0.40.0 in /anaconda/envs/azureml_py310_sdkv2/lib/python3.10/site-packages (from azureml-core~=1.58.0->azureml-sdk) (4.0.0)\nRequirement already satisfied: azure-mgmt-network<=28.0.0 in /anaconda/envs/azureml_py310_sdkv2/lib/python3.10/site-packages (from azureml-core~=1.58.0->azureml-sdk) (26.0.0)\nRequirement already satisfied: azure-graphrbac<1.0.0,>=0.40.0 in /anaconda/envs/azureml_py310_sdkv2/lib/python3.10/site-packages (from azureml-core~=1.58.0->azureml-sdk) (0.61.1)\nRequirement already satisfied: azure-common<2.0.0,>=1.1.12 in /anaconda/envs/azureml_py310_sdkv2/lib/python3.10/site-packages (from azureml-core~=1.58.0->azureml-sdk) (1.1.28)\nRequirement already satisfied: msrest<=0.7.1,>=0.5.1 in /anaconda/envs/azureml_py310_sdkv2/lib/python3.10/site-packages (from azureml-core~=1.58.0->azureml-sdk) (0.7.1)\nRequirement already satisfied: msrestazure<=0.7,>=0.4.33 in /anaconda/envs/azureml_py310_sdkv2/lib/python3.10/site-packages (from azureml-core~=1.58.0->azureml-sdk) (0.6.4.post1)\nRequirement already satisfied: urllib3<3.0.0,>1.26.17 in /anaconda/envs/azureml_py310_sdkv2/lib/python3.10/site-packages (from azureml-core~=1.58.0->azureml-sdk) (2.2.3)\nRequirement already satisfied: packaging<=25.0,>=20.0 in /anaconda/envs/azureml_py310_sdkv2/lib/python3.10/site-packages (from azureml-core~=1.58.0->azureml-sdk) (24.1)\nRequirement already satisfied: python-dateutil<3.0.0,>=2.7.3 in /anaconda/envs/azureml_py310_sdkv2/lib/python3.10/site-packages (from azureml-core~=1.58.0->azureml-sdk) (2.9.0)\nRequirement already satisfied: ndg-httpsclient<=0.5.1 in /anaconda/envs/azureml_py310_sdkv2/lib/python3.10/site-packages (from azureml-core~=1.58.0->azureml-sdk) (0.5.1)\nRequirement already satisfied: SecretStorage<4.0.0 in /anaconda/envs/azureml_py310_sdkv2/lib/python3.10/site-packages (from azureml-core~=1.58.0->azureml-sdk) (3.3.3)\nRequirement already satisfied: jsonpickle<4.0.0 in /anaconda/envs/azureml_py310_sdkv2/lib/python3.10/site-packages (from azureml-core~=1.58.0->azureml-sdk) (3.3.0)\nRequirement already satisfied: contextlib2<22.0.0 in /anaconda/envs/azureml_py310_sdkv2/lib/python3.10/site-packages (from azureml-core~=1.58.0->azureml-sdk) (21.6.0)\nRequirement already satisfied: docker<8.0.0 in /anaconda/envs/azureml_py310_sdkv2/lib/python3.10/site-packages (from azureml-core~=1.58.0->azureml-sdk) (7.1.0)\nRequirement already satisfied: PyJWT<3.0.0 in /anaconda/envs/azureml_py310_sdkv2/lib/python3.10/site-packages (from azureml-core~=1.58.0->azureml-sdk) (2.9.0)\nRequirement already satisfied: adal<=1.2.7,>=1.2.0 in /anaconda/envs/azureml_py310_sdkv2/lib/python3.10/site-packages (from azureml-core~=1.58.0->azureml-sdk) (1.2.7)\nRequirement already satisfied: pyopenssl<25.0.0 in /anaconda/envs/azureml_py310_sdkv2/lib/python3.10/site-packages (from azureml-core~=1.58.0->azureml-sdk) (24.2.1)\nRequirement already satisfied: jmespath<2.0.0 in /anaconda/envs/azureml_py310_sdkv2/lib/python3.10/site-packages (from azureml-core~=1.58.0->azureml-sdk) (1.0.1)\nRequirement already satisfied: azureml-dataprep<5.2.0a,>=5.1.0a in /anaconda/envs/azureml_py310_sdkv2/lib/python3.10/site-packages (from azureml-dataset-runtime~=1.58.0->azureml-dataset-runtime[fuse]~=1.58.0->azureml-sdk) (5.1.6)\nRequirement already satisfied: pyarrow>=0.17.0 in /anaconda/envs/azureml_py310_sdkv2/lib/python3.10/site-packages (from azureml-dataset-runtime~=1.58.0->azureml-dataset-runtime[fuse]~=1.58.0->azureml-sdk) (17.0.0)\nRequirement already satisfied: numpy!=1.19.3,<1.24 in /anaconda/envs/azureml_py310_sdkv2/lib/python3.10/site-packages (from azureml-dataset-runtime~=1.58.0->azureml-dataset-runtime[fuse]~=1.58.0->azureml-sdk) (1.23.5)\nRequirement already satisfied: fusepy<4.0.0,>=3.0.1 in /anaconda/envs/azureml_py310_sdkv2/lib/python3.10/site-packages (from azureml-dataset-runtime[fuse]~=1.58.0->azureml-sdk) (3.0.1)\nRequirement already satisfied: azureml-pipeline-core~=1.58.0 in /anaconda/envs/azureml_py310_sdkv2/lib/python3.10/site-packages (from azureml-pipeline~=1.58.0->azureml-sdk) (1.58.0)\nRequirement already satisfied: azureml-pipeline-steps~=1.58.0 in /anaconda/envs/azureml_py310_sdkv2/lib/python3.10/site-packages (from azureml-pipeline~=1.58.0->azureml-sdk) (1.58.0)\nRequirement already satisfied: azureml-automl-core~=1.58.0 in /anaconda/envs/azureml_py310_sdkv2/lib/python3.10/site-packages (from azureml-train-automl-client~=1.58.0->azureml-sdk) (1.58.0)\nRequirement already satisfied: azureml-telemetry~=1.58.0 in /anaconda/envs/azureml_py310_sdkv2/lib/python3.10/site-packages (from azureml-train-automl-client~=1.58.0->azureml-sdk) (1.58.0)\nRequirement already satisfied: azureml-train-restclients-hyperdrive~=1.58.0 in /anaconda/envs/azureml_py310_sdkv2/lib/python3.10/site-packages (from azureml-train-core~=1.58.0->azureml-sdk) (1.58.0)\nRequirement already satisfied: cryptography>=1.1.0 in /anaconda/envs/azureml_py310_sdkv2/lib/python3.10/site-packages (from adal<=1.2.7,>=1.2.0->azureml-core~=1.58.0->azureml-sdk) (43.0.1)\nRequirement already satisfied: six>=1.11.0 in /anaconda/envs/azureml_py310_sdkv2/lib/python3.10/site-packages (from azure-core<2.0.0->azureml-core~=1.58.0->azureml-sdk) (1.16.0)\nRequirement already satisfied: typing-extensions>=4.6.0 in /anaconda/envs/azureml_py310_sdkv2/lib/python3.10/site-packages (from azure-core<2.0.0->azureml-core~=1.58.0->azureml-sdk) (4.12.2)\nRequirement already satisfied: isodate<1.0.0,>=0.6.1 in /anaconda/envs/azureml_py310_sdkv2/lib/python3.10/site-packages (from azure-mgmt-authorization<5,>=0.40.0->azureml-core~=1.58.0->azureml-sdk) (0.6.1)\nRequirement already satisfied: azure-mgmt-core<2.0.0,>=1.3.2 in /anaconda/envs/azureml_py310_sdkv2/lib/python3.10/site-packages (from azure-mgmt-authorization<5,>=0.40.0->azureml-core~=1.58.0->azureml-sdk) (1.4.0)\nRequirement already satisfied: importlib-metadata<=8.2.0 in /anaconda/envs/azureml_py310_sdkv2/lib/python3.10/site-packages (from azureml-automl-core~=1.58.0->azureml-train-automl-client~=1.58.0->azureml-sdk) (8.2.0)\nRequirement already satisfied: importlib-resources<=6.4.0 in /anaconda/envs/azureml_py310_sdkv2/lib/python3.10/site-packages (from azureml-automl-core~=1.58.0->azureml-train-automl-client~=1.58.0->azureml-sdk) (6.4.0)\nRequirement already satisfied: azureml-dataprep-native<42.0.0,>=41.0.0 in /anaconda/envs/azureml_py310_sdkv2/lib/python3.10/site-packages (from azureml-dataprep<5.2.0a,>=5.1.0a->azureml-dataset-runtime~=1.58.0->azureml-dataset-runtime[fuse]~=1.58.0->azureml-sdk) (41.0.0)\nRequirement already satisfied: azureml-dataprep-rslex~=2.22.2dev0 in /anaconda/envs/azureml_py310_sdkv2/lib/python3.10/site-packages (from azureml-dataprep<5.2.0a,>=5.1.0a->azureml-dataset-runtime~=1.58.0->azureml-dataset-runtime[fuse]~=1.58.0->azureml-sdk) (2.22.4)\nRequirement already satisfied: cloudpickle<3.0.0,>=1.1.0 in /anaconda/envs/azureml_py310_sdkv2/lib/python3.10/site-packages (from azureml-dataprep<5.2.0a,>=5.1.0a->azureml-dataset-runtime~=1.58.0->azureml-dataset-runtime[fuse]~=1.58.0->azureml-sdk) (2.2.1)\nRequirement already satisfied: azure-identity>=1.7.0 in /anaconda/envs/azureml_py310_sdkv2/lib/python3.10/site-packages (from azureml-dataprep<5.2.0a,>=5.1.0a->azureml-dataset-runtime~=1.58.0->azureml-dataset-runtime[fuse]~=1.58.0->azureml-sdk) (1.18.0)\nRequirement already satisfied: jsonschema in /anaconda/envs/azureml_py310_sdkv2/lib/python3.10/site-packages (from azureml-dataprep<5.2.0a,>=5.1.0a->azureml-dataset-runtime~=1.58.0->azureml-dataset-runtime[fuse]~=1.58.0->azureml-sdk) (4.23.0)\nRequirement already satisfied: pyyaml<7.0.0,>=5.1.0 in /anaconda/envs/azureml_py310_sdkv2/lib/python3.10/site-packages (from azureml-dataprep<5.2.0a,>=5.1.0a->azureml-dataset-runtime~=1.58.0->azureml-dataset-runtime[fuse]~=1.58.0->azureml-sdk) (6.0.2)\nRequirement already satisfied: applicationinsights in /anaconda/envs/azureml_py310_sdkv2/lib/python3.10/site-packages (from azureml-telemetry~=1.58.0->azureml-train-automl-client~=1.58.0->azureml-sdk) (0.11.10)\nRequirement already satisfied: pygments in /anaconda/envs/azureml_py310_sdkv2/lib/python3.10/site-packages (from knack<0.13.0->azureml-core~=1.58.0->azureml-sdk) (2.18.0)\nRequirement already satisfied: tabulate in /anaconda/envs/azureml_py310_sdkv2/lib/python3.10/site-packages (from knack<0.13.0->azureml-core~=1.58.0->azureml-sdk) (0.9.0)\nRequirement already satisfied: portalocker<3,>=1.4 in /anaconda/envs/azureml_py310_sdkv2/lib/python3.10/site-packages (from msal-extensions<=2.0.0,>=0.3.0->azureml-core~=1.58.0->azureml-sdk) (2.10.1)\nRequirement already satisfied: certifi>=2017.4.17 in /anaconda/envs/azureml_py310_sdkv2/lib/python3.10/site-packages (from msrest<=0.7.1,>=0.5.1->azureml-core~=1.58.0->azureml-sdk) (2024.8.30)\nRequirement already satisfied: requests-oauthlib>=0.5.0 in /anaconda/envs/azureml_py310_sdkv2/lib/python3.10/site-packages (from msrest<=0.7.1,>=0.5.1->azureml-core~=1.58.0->azureml-sdk) (2.0.0)\nRequirement already satisfied: pyasn1>=0.1.1 in /anaconda/envs/azureml_py310_sdkv2/lib/python3.10/site-packages (from ndg-httpsclient<=0.5.1->azureml-core~=1.58.0->azureml-sdk) (0.6.1)\nRequirement already satisfied: bcrypt>=3.2 in /anaconda/envs/azureml_py310_sdkv2/lib/python3.10/site-packages (from paramiko<4.0.0,>=2.0.8->azureml-core~=1.58.0->azureml-sdk) (4.2.0)\nRequirement already satisfied: pynacl>=1.5 in /anaconda/envs/azureml_py310_sdkv2/lib/python3.10/site-packages (from paramiko<4.0.0,>=2.0.8->azureml-core~=1.58.0->azureml-sdk) (1.5.0)\nRequirement already satisfied: charset-normalizer<4,>=2 in /anaconda/envs/azureml_py310_sdkv2/lib/python3.10/site-packages (from requests<3.0.0,>=2.19.1->requests[socks]<3.0.0,>=2.19.1->azureml-core~=1.58.0->azureml-sdk) (3.3.2)\nRequirement already satisfied: idna<4,>=2.5 in /anaconda/envs/azureml_py310_sdkv2/lib/python3.10/site-packages (from requests<3.0.0,>=2.19.1->requests[socks]<3.0.0,>=2.19.1->azureml-core~=1.58.0->azureml-sdk) (3.10)\nRequirement already satisfied: PySocks!=1.5.7,>=1.5.6 in /anaconda/envs/azureml_py310_sdkv2/lib/python3.10/site-packages (from requests[socks]<3.0.0,>=2.19.1->azureml-core~=1.58.0->azureml-sdk) (1.7.1)\nRequirement already satisfied: jeepney>=0.6 in /anaconda/envs/azureml_py310_sdkv2/lib/python3.10/site-packages (from SecretStorage<4.0.0->azureml-core~=1.58.0->azureml-sdk) (0.8.0)\nRequirement already satisfied: backports.weakref in /anaconda/envs/azureml_py310_sdkv2/lib/python3.10/site-packages (from backports.tempfile->azureml-core~=1.58.0->azureml-sdk) (1.0.post1)\nRequirement already satisfied: cffi>=1.12 in /anaconda/envs/azureml_py310_sdkv2/lib/python3.10/site-packages (from cryptography>=1.1.0->adal<=1.2.7,>=1.2.0->azureml-core~=1.58.0->azureml-sdk) (1.17.1)\nRequirement already satisfied: zipp>=0.5 in /anaconda/envs/azureml_py310_sdkv2/lib/python3.10/site-packages (from importlib-metadata<=8.2.0->azureml-automl-core~=1.58.0->azureml-train-automl-client~=1.58.0->azureml-sdk) (3.20.2)\nRequirement already satisfied: oauthlib>=3.0.0 in /anaconda/envs/azureml_py310_sdkv2/lib/python3.10/site-packages (from requests-oauthlib>=0.5.0->msrest<=0.7.1,>=0.5.1->azureml-core~=1.58.0->azureml-sdk) (3.2.2)\nRequirement already satisfied: attrs>=22.2.0 in /anaconda/envs/azureml_py310_sdkv2/lib/python3.10/site-packages (from jsonschema->azureml-dataprep<5.2.0a,>=5.1.0a->azureml-dataset-runtime~=1.58.0->azureml-dataset-runtime[fuse]~=1.58.0->azureml-sdk) (24.2.0)\nRequirement already satisfied: jsonschema-specifications>=2023.03.6 in /anaconda/envs/azureml_py310_sdkv2/lib/python3.10/site-packages (from jsonschema->azureml-dataprep<5.2.0a,>=5.1.0a->azureml-dataset-runtime~=1.58.0->azureml-dataset-runtime[fuse]~=1.58.0->azureml-sdk) (2023.12.1)\nRequirement already satisfied: referencing>=0.28.4 in /anaconda/envs/azureml_py310_sdkv2/lib/python3.10/site-packages (from jsonschema->azureml-dataprep<5.2.0a,>=5.1.0a->azureml-dataset-runtime~=1.58.0->azureml-dataset-runtime[fuse]~=1.58.0->azureml-sdk) (0.35.1)\nRequirement already satisfied: rpds-py>=0.7.1 in /anaconda/envs/azureml_py310_sdkv2/lib/python3.10/site-packages (from jsonschema->azureml-dataprep<5.2.0a,>=5.1.0a->azureml-dataset-runtime~=1.58.0->azureml-dataset-runtime[fuse]~=1.58.0->azureml-sdk) (0.20.0)\nRequirement already satisfied: pycparser in /anaconda/envs/azureml_py310_sdkv2/lib/python3.10/site-packages (from cffi>=1.12->cryptography>=1.1.0->adal<=1.2.7,>=1.2.0->azureml-core~=1.58.0->azureml-sdk) (2.22)\nNote: you may need to restart the kernel to use updated packages.\n"
        }
      ],
      "execution_count": 35,
      "metadata": {
        "jupyter": {
          "source_hidden": false,
          "outputs_hidden": false
        },
        "nteract": {
          "transient": {
            "deleting": false
          }
        },
        "gather": {
          "logged": 1733518789149
        }
      }
    },
    {
      "cell_type": "code",
      "source": [
        "from azureml.core import Workspace\n",
        "from mlflow.tracking import MlflowClient\n",
        "\n",
        "# Conecta al workspace (ajusta los parámetros si usas un archivo config.json)\n",
        "workspace = Workspace.from_config()"
      ],
      "outputs": [],
      "execution_count": 36,
      "metadata": {
        "gather": {
          "logged": 1733518789490
        }
      }
    },
    {
      "cell_type": "code",
      "source": [
        "# Instalar librerias\n",
        "import subprocess\n",
        "\n",
        "# Lista de librerías a instalar\n",
        "librerias = ['pyspark','findspark','openpyxl','plotly','yellowbrick','jedi','seaborn','azureml-sdk']\n",
        "\n",
        "# Iterar sobre la lista de librerías y ejecutar el comando de instalación para cada una\n",
        "for libreria in librerias:\n",
        "    subprocess.run(['pip', 'install', libreria])"
      ],
      "outputs": [
        {
          "output_type": "stream",
          "name": "stdout",
          "text": "Requirement already satisfied: pyspark in /anaconda/envs/azureml_py38/lib/python3.10/site-packages (3.3.1)\nRequirement already satisfied: py4j==0.10.9.5 in /anaconda/envs/azureml_py38/lib/python3.10/site-packages (from pyspark) (0.10.9.5)\nRequirement already satisfied: findspark in /anaconda/envs/azureml_py38/lib/python3.10/site-packages (2.0.1)\nRequirement already satisfied: openpyxl in /anaconda/envs/azureml_py38/lib/python3.10/site-packages (3.1.5)\nRequirement already satisfied: et-xmlfile in /anaconda/envs/azureml_py38/lib/python3.10/site-packages (from openpyxl) (2.0.0)\nRequirement already satisfied: plotly in /anaconda/envs/azureml_py38/lib/python3.10/site-packages (5.24.1)\nRequirement already satisfied: packaging in /anaconda/envs/azureml_py38/lib/python3.10/site-packages (from plotly) (24.1)\nRequirement already satisfied: tenacity>=6.2.0 in /anaconda/envs/azureml_py38/lib/python3.10/site-packages (from plotly) (9.0.0)\nRequirement already satisfied: yellowbrick in /anaconda/envs/azureml_py38/lib/python3.10/site-packages (1.5)\nRequirement already satisfied: scipy>=1.0.0 in /anaconda/envs/azureml_py38/lib/python3.10/site-packages (from yellowbrick) (1.10.1)\nRequirement already satisfied: numpy>=1.16.0 in /anaconda/envs/azureml_py38/lib/python3.10/site-packages (from yellowbrick) (1.23.5)\nRequirement already satisfied: cycler>=0.10.0 in /anaconda/envs/azureml_py38/lib/python3.10/site-packages (from yellowbrick) (0.12.1)\nRequirement already satisfied: scikit-learn>=1.0.0 in /anaconda/envs/azureml_py38/lib/python3.10/site-packages (from yellowbrick) (1.5.1)\nRequirement already satisfied: matplotlib!=3.0.0,>=2.0.2 in /anaconda/envs/azureml_py38/lib/python3.10/site-packages (from yellowbrick) (3.6.3)\nRequirement already satisfied: kiwisolver>=1.0.1 in /anaconda/envs/azureml_py38/lib/python3.10/site-packages (from matplotlib!=3.0.0,>=2.0.2->yellowbrick) (1.4.5)\nRequirement already satisfied: contourpy>=1.0.1 in /anaconda/envs/azureml_py38/lib/python3.10/site-packages (from matplotlib!=3.0.0,>=2.0.2->yellowbrick) (1.2.1)\nRequirement already satisfied: python-dateutil>=2.7 in /anaconda/envs/azureml_py38/lib/python3.10/site-packages (from matplotlib!=3.0.0,>=2.0.2->yellowbrick) (2.9.0.post0)\nRequirement already satisfied: fonttools>=4.22.0 in /anaconda/envs/azureml_py38/lib/python3.10/site-packages (from matplotlib!=3.0.0,>=2.0.2->yellowbrick) (4.51.0)\nRequirement already satisfied: packaging>=20.0 in /anaconda/envs/azureml_py38/lib/python3.10/site-packages (from matplotlib!=3.0.0,>=2.0.2->yellowbrick) (24.1)\nRequirement already satisfied: pyparsing>=2.2.1 in /anaconda/envs/azureml_py38/lib/python3.10/site-packages (from matplotlib!=3.0.0,>=2.0.2->yellowbrick) (3.1.2)\nRequirement already satisfied: pillow>=6.2.0 in /anaconda/envs/azureml_py38/lib/python3.10/site-packages (from matplotlib!=3.0.0,>=2.0.2->yellowbrick) (9.2.0)\nRequirement already satisfied: threadpoolctl>=3.1.0 in /anaconda/envs/azureml_py38/lib/python3.10/site-packages (from scikit-learn>=1.0.0->yellowbrick) (3.5.0)\nRequirement already satisfied: joblib>=1.2.0 in /anaconda/envs/azureml_py38/lib/python3.10/site-packages (from scikit-learn>=1.0.0->yellowbrick) (1.2.0)\nRequirement already satisfied: six>=1.5 in /anaconda/envs/azureml_py38/lib/python3.10/site-packages (from python-dateutil>=2.7->matplotlib!=3.0.0,>=2.0.2->yellowbrick) (1.16.0)\nRequirement already satisfied: jedi in /anaconda/envs/azureml_py38/lib/python3.10/site-packages (0.18.0)\nRequirement already satisfied: parso<0.9.0,>=0.8.0 in /anaconda/envs/azureml_py38/lib/python3.10/site-packages (from jedi) (0.8.4)\nRequirement already satisfied: seaborn in /anaconda/envs/azureml_py38/lib/python3.10/site-packages (0.13.2)\nRequirement already satisfied: matplotlib!=3.6.1,>=3.4 in /anaconda/envs/azureml_py38/lib/python3.10/site-packages (from seaborn) (3.6.3)\nRequirement already satisfied: numpy!=1.24.0,>=1.20 in /anaconda/envs/azureml_py38/lib/python3.10/site-packages (from seaborn) (1.23.5)\nRequirement already satisfied: pandas>=1.2 in /anaconda/envs/azureml_py38/lib/python3.10/site-packages (from seaborn) (1.3.5)\nRequirement already satisfied: packaging>=20.0 in /anaconda/envs/azureml_py38/lib/python3.10/site-packages (from matplotlib!=3.6.1,>=3.4->seaborn) (24.1)\nRequirement already satisfied: python-dateutil>=2.7 in /anaconda/envs/azureml_py38/lib/python3.10/site-packages (from matplotlib!=3.6.1,>=3.4->seaborn) (2.9.0.post0)\nRequirement already satisfied: fonttools>=4.22.0 in /anaconda/envs/azureml_py38/lib/python3.10/site-packages (from matplotlib!=3.6.1,>=3.4->seaborn) (4.51.0)\nRequirement already satisfied: kiwisolver>=1.0.1 in /anaconda/envs/azureml_py38/lib/python3.10/site-packages (from matplotlib!=3.6.1,>=3.4->seaborn) (1.4.5)\nRequirement already satisfied: pyparsing>=2.2.1 in /anaconda/envs/azureml_py38/lib/python3.10/site-packages (from matplotlib!=3.6.1,>=3.4->seaborn) (3.1.2)\nRequirement already satisfied: pillow>=6.2.0 in /anaconda/envs/azureml_py38/lib/python3.10/site-packages (from matplotlib!=3.6.1,>=3.4->seaborn) (9.2.0)\nRequirement already satisfied: contourpy>=1.0.1 in /anaconda/envs/azureml_py38/lib/python3.10/site-packages (from matplotlib!=3.6.1,>=3.4->seaborn) (1.2.1)\nRequirement already satisfied: cycler>=0.10 in /anaconda/envs/azureml_py38/lib/python3.10/site-packages (from matplotlib!=3.6.1,>=3.4->seaborn) (0.12.1)\nRequirement already satisfied: pytz>=2017.3 in /anaconda/envs/azureml_py38/lib/python3.10/site-packages (from pandas>=1.2->seaborn) (2022.5)\nRequirement already satisfied: six>=1.5 in /anaconda/envs/azureml_py38/lib/python3.10/site-packages (from python-dateutil>=2.7->matplotlib!=3.6.1,>=3.4->seaborn) (1.16.0)\nRequirement already satisfied: azureml-sdk in /anaconda/envs/azureml_py38/lib/python3.10/site-packages (1.57.0)\nRequirement already satisfied: azureml-dataset-runtime[fuse]~=1.57.0 in /anaconda/envs/azureml_py38/lib/python3.10/site-packages (from azureml-sdk) (1.57.0)\nRequirement already satisfied: azureml-train-core~=1.57.0 in /anaconda/envs/azureml_py38/lib/python3.10/site-packages (from azureml-sdk) (1.57.0)\nRequirement already satisfied: azureml-core~=1.57.0 in /anaconda/envs/azureml_py38/lib/python3.10/site-packages (from azureml-sdk) (1.57.0)\nRequirement already satisfied: azureml-pipeline~=1.57.0 in /anaconda/envs/azureml_py38/lib/python3.10/site-packages (from azureml-sdk) (1.57.0)\nRequirement already satisfied: azureml-train-automl-client~=1.57.0 in /anaconda/envs/azureml_py38/lib/python3.10/site-packages (from azureml-sdk) (1.57.0)\nRequirement already satisfied: msal<2.0.0,>=1.15.0 in /anaconda/envs/azureml_py38/lib/python3.10/site-packages (from azureml-core~=1.57.0->azureml-sdk) (1.30.0)\nRequirement already satisfied: msrest<=0.7.1,>=0.5.1 in /anaconda/envs/azureml_py38/lib/python3.10/site-packages (from azureml-core~=1.57.0->azureml-sdk) (0.7.1)\nRequirement already satisfied: urllib3<3.0.0,>1.26.17 in /anaconda/envs/azureml_py38/lib/python3.10/site-packages (from azureml-core~=1.57.0->azureml-sdk) (1.26.19)\nRequirement already satisfied: humanfriendly<11.0,>=4.7 in /anaconda/envs/azureml_py38/lib/python3.10/site-packages (from azureml-core~=1.57.0->azureml-sdk) (10.0)\nRequirement already satisfied: azure-mgmt-authorization<5,>=0.40.0 in /anaconda/envs/azureml_py38/lib/python3.10/site-packages (from azureml-core~=1.57.0->azureml-sdk) (4.0.0)\nRequirement already satisfied: requests[socks]<3.0.0,>=2.19.1 in /anaconda/envs/azureml_py38/lib/python3.10/site-packages (from azureml-core~=1.57.0->azureml-sdk) (2.32.3)\nRequirement already satisfied: pathspec<1.0.0 in /anaconda/envs/azureml_py38/lib/python3.10/site-packages (from azureml-core~=1.57.0->azureml-sdk) (0.12.1)\nRequirement already satisfied: azure-mgmt-storage<=22.0.0,>=16.0.0 in /anaconda/envs/azureml_py38/lib/python3.10/site-packages (from azureml-core~=1.57.0->azureml-sdk) (21.2.0)\nRequirement already satisfied: azure-mgmt-keyvault<11.0.0,>=0.40.0 in /anaconda/envs/azureml_py38/lib/python3.10/site-packages (from azureml-core~=1.57.0->azureml-sdk) (10.3.0)\nRequirement already satisfied: packaging<=25.0,>=20.0 in /anaconda/envs/azureml_py38/lib/python3.10/site-packages (from azureml-core~=1.57.0->azureml-sdk) (24.1)\nRequirement already satisfied: azure-mgmt-resource<=24.0.0,>=15.0.0 in /anaconda/envs/azureml_py38/lib/python3.10/site-packages (from azureml-core~=1.57.0->azureml-sdk) (23.1.1)\nRequirement already satisfied: PyJWT<3.0.0 in /anaconda/envs/azureml_py38/lib/python3.10/site-packages (from azureml-core~=1.57.0->azureml-sdk) (2.4.0)\nRequirement already satisfied: ndg-httpsclient<=0.5.1 in /anaconda/envs/azureml_py38/lib/python3.10/site-packages (from azureml-core~=1.57.0->azureml-sdk) (0.5.1)\nRequirement already satisfied: SecretStorage<4.0.0 in /anaconda/envs/azureml_py38/lib/python3.10/site-packages (from azureml-core~=1.57.0->azureml-sdk) (3.3.3)\nRequirement already satisfied: docker<8.0.0 in /anaconda/envs/azureml_py38/lib/python3.10/site-packages (from azureml-core~=1.57.0->azureml-sdk) (7.1.0)\nRequirement already satisfied: contextlib2<22.0.0 in /anaconda/envs/azureml_py38/lib/python3.10/site-packages (from azureml-core~=1.57.0->azureml-sdk) (21.6.0)\nRequirement already satisfied: msrestazure<=0.7,>=0.4.33 in /anaconda/envs/azureml_py38/lib/python3.10/site-packages (from azureml-core~=1.57.0->azureml-sdk) (0.6.4.post1)\nRequirement already satisfied: pkginfo in /anaconda/envs/azureml_py38/lib/python3.10/site-packages (from azureml-core~=1.57.0->azureml-sdk) (1.11.1)\nRequirement already satisfied: msal-extensions<=2.0.0,>=0.3.0 in /anaconda/envs/azureml_py38/lib/python3.10/site-packages (from azureml-core~=1.57.0->azureml-sdk) (1.2.0)\nRequirement already satisfied: paramiko<4.0.0,>=2.0.8 in /anaconda/envs/azureml_py38/lib/python3.10/site-packages (from azureml-core~=1.57.0->azureml-sdk) (3.4.0)\nRequirement already satisfied: azure-mgmt-containerregistry<11,>=8.2.0 in /anaconda/envs/azureml_py38/lib/python3.10/site-packages (from azureml-core~=1.57.0->azureml-sdk) (10.3.0)\nRequirement already satisfied: argcomplete<4 in /anaconda/envs/azureml_py38/lib/python3.10/site-packages (from azureml-core~=1.57.0->azureml-sdk) (3.3.0)\nRequirement already satisfied: azure-graphrbac<1.0.0,>=0.40.0 in /anaconda/envs/azureml_py38/lib/python3.10/site-packages (from azureml-core~=1.57.0->azureml-sdk) (0.60.0)\nRequirement already satisfied: pytz in /anaconda/envs/azureml_py38/lib/python3.10/site-packages (from azureml-core~=1.57.0->azureml-sdk) (2022.5)\nRequirement already satisfied: adal<=1.2.7,>=1.2.0 in /anaconda/envs/azureml_py38/lib/python3.10/site-packages (from azureml-core~=1.57.0->azureml-sdk) (1.2.7)\nRequirement already satisfied: python-dateutil<3.0.0,>=2.7.3 in /anaconda/envs/azureml_py38/lib/python3.10/site-packages (from azureml-core~=1.57.0->azureml-sdk) (2.9.0.post0)\nRequirement already satisfied: knack<0.12.0 in /anaconda/envs/azureml_py38/lib/python3.10/site-packages (from azureml-core~=1.57.0->azureml-sdk) (0.11.0)\nRequirement already satisfied: azure-mgmt-network<=26.0.0 in /anaconda/envs/azureml_py38/lib/python3.10/site-packages (from azureml-core~=1.57.0->azureml-sdk) (25.1.0)\nRequirement already satisfied: jsonpickle<4.0.0 in /anaconda/envs/azureml_py38/lib/python3.10/site-packages (from azureml-core~=1.57.0->azureml-sdk) (3.2.2)\nRequirement already satisfied: pyopenssl<25.0.0 in /anaconda/envs/azureml_py38/lib/python3.10/site-packages (from azureml-core~=1.57.0->azureml-sdk) (23.0.0)\nRequirement already satisfied: jmespath<2.0.0 in /anaconda/envs/azureml_py38/lib/python3.10/site-packages (from azureml-core~=1.57.0->azureml-sdk) (0.10.0)\nRequirement already satisfied: azure-common<2.0.0,>=1.1.12 in /anaconda/envs/azureml_py38/lib/python3.10/site-packages (from azureml-core~=1.57.0->azureml-sdk) (1.1.28)\nRequirement already satisfied: backports.tempfile in /anaconda/envs/azureml_py38/lib/python3.10/site-packages (from azureml-core~=1.57.0->azureml-sdk) (1.0)\nRequirement already satisfied: azure-core<2.0.0 in /anaconda/envs/azureml_py38/lib/python3.10/site-packages (from azureml-core~=1.57.0->azureml-sdk) (1.30.2)\nRequirement already satisfied: numpy!=1.19.3,<1.24 in /anaconda/envs/azureml_py38/lib/python3.10/site-packages (from azureml-dataset-runtime[fuse]~=1.57.0->azureml-sdk) (1.23.5)\nRequirement already satisfied: azureml-dataprep<5.2.0a,>=5.1.0a in /anaconda/envs/azureml_py38/lib/python3.10/site-packages (from azureml-dataset-runtime[fuse]~=1.57.0->azureml-sdk) (5.1.6)\nRequirement already satisfied: pyarrow>=0.17.0 in /anaconda/envs/azureml_py38/lib/python3.10/site-packages (from azureml-dataset-runtime[fuse]~=1.57.0->azureml-sdk) (14.0.2)\nRequirement already satisfied: fusepy<4.0.0,>=3.0.1 in /anaconda/envs/azureml_py38/lib/python3.10/site-packages (from azureml-dataset-runtime[fuse]~=1.57.0->azureml-sdk) (3.0.1)\nRequirement already satisfied: azureml-pipeline-steps~=1.57.0 in /anaconda/envs/azureml_py38/lib/python3.10/site-packages (from azureml-pipeline~=1.57.0->azureml-sdk) (1.57.0)\nRequirement already satisfied: azureml-pipeline-core~=1.57.0 in /anaconda/envs/azureml_py38/lib/python3.10/site-packages (from azureml-pipeline~=1.57.0->azureml-sdk) (1.57.0)\nRequirement already satisfied: azureml-automl-core~=1.57.0 in /anaconda/envs/azureml_py38/lib/python3.10/site-packages (from azureml-train-automl-client~=1.57.0->azureml-sdk) (1.57.0)\nRequirement already satisfied: azureml-telemetry~=1.57.0 in /anaconda/envs/azureml_py38/lib/python3.10/site-packages (from azureml-train-automl-client~=1.57.0->azureml-sdk) (1.57.0)\nRequirement already satisfied: azureml-train-restclients-hyperdrive~=1.57.0 in /anaconda/envs/azureml_py38/lib/python3.10/site-packages (from azureml-train-core~=1.57.0->azureml-sdk) (1.57.0)\nRequirement already satisfied: cryptography>=1.1.0 in /anaconda/envs/azureml_py38/lib/python3.10/site-packages (from adal<=1.2.7,>=1.2.0->azureml-core~=1.57.0->azureml-sdk) (38.0.4)\nRequirement already satisfied: six>=1.11.0 in /anaconda/envs/azureml_py38/lib/python3.10/site-packages (from azure-core<2.0.0->azureml-core~=1.57.0->azureml-sdk) (1.16.0)\nRequirement already satisfied: typing-extensions>=4.6.0 in /anaconda/envs/azureml_py38/lib/python3.10/site-packages (from azure-core<2.0.0->azureml-core~=1.57.0->azureml-sdk) (4.12.2)\nRequirement already satisfied: isodate<1.0.0,>=0.6.1 in /anaconda/envs/azureml_py38/lib/python3.10/site-packages (from azure-mgmt-authorization<5,>=0.40.0->azureml-core~=1.57.0->azureml-sdk) (0.6.1)\nRequirement already satisfied: azure-mgmt-core<2.0.0,>=1.3.2 in /anaconda/envs/azureml_py38/lib/python3.10/site-packages (from azure-mgmt-authorization<5,>=0.40.0->azureml-core~=1.57.0->azureml-sdk) (1.4.0)\nRequirement already satisfied: importlib-metadata<=8.2.0 in /anaconda/envs/azureml_py38/lib/python3.10/site-packages (from azureml-automl-core~=1.57.0->azureml-train-automl-client~=1.57.0->azureml-sdk) (8.2.0)\nRequirement already satisfied: importlib-resources<=6.4.0 in /anaconda/envs/azureml_py38/lib/python3.10/site-packages (from azureml-automl-core~=1.57.0->azureml-train-automl-client~=1.57.0->azureml-sdk) (6.4.0)\nRequirement already satisfied: cloudpickle<3.0.0,>=1.1.0 in /anaconda/envs/azureml_py38/lib/python3.10/site-packages (from azureml-dataprep<5.2.0a,>=5.1.0a->azureml-dataset-runtime[fuse]~=1.57.0->azureml-sdk) (2.2.1)\nRequirement already satisfied: azureml-dataprep-native<42.0.0,>=41.0.0 in /anaconda/envs/azureml_py38/lib/python3.10/site-packages (from azureml-dataprep<5.2.0a,>=5.1.0a->azureml-dataset-runtime[fuse]~=1.57.0->azureml-sdk) (41.0.0)\nRequirement already satisfied: azureml-dataprep-rslex~=2.22.2dev0 in /anaconda/envs/azureml_py38/lib/python3.10/site-packages (from azureml-dataprep<5.2.0a,>=5.1.0a->azureml-dataset-runtime[fuse]~=1.57.0->azureml-sdk) (2.22.2)\nRequirement already satisfied: jsonschema in /anaconda/envs/azureml_py38/lib/python3.10/site-packages (from azureml-dataprep<5.2.0a,>=5.1.0a->azureml-dataset-runtime[fuse]~=1.57.0->azureml-sdk) (4.23.0)\nRequirement already satisfied: pyyaml<7.0.0,>=5.1.0 in /anaconda/envs/azureml_py38/lib/python3.10/site-packages (from azureml-dataprep<5.2.0a,>=5.1.0a->azureml-dataset-runtime[fuse]~=1.57.0->azureml-sdk) (6.0.1)\nRequirement already satisfied: azure-identity>=1.7.0 in /anaconda/envs/azureml_py38/lib/python3.10/site-packages (from azureml-dataprep<5.2.0a,>=5.1.0a->azureml-dataset-runtime[fuse]~=1.57.0->azureml-sdk) (1.17.1)\nRequirement already satisfied: applicationinsights in /anaconda/envs/azureml_py38/lib/python3.10/site-packages (from azureml-telemetry~=1.57.0->azureml-train-automl-client~=1.57.0->azureml-sdk) (0.11.10)\nRequirement already satisfied: pygments in /anaconda/envs/azureml_py38/lib/python3.10/site-packages (from knack<0.12.0->azureml-core~=1.57.0->azureml-sdk) (2.18.0)\nRequirement already satisfied: tabulate in /anaconda/envs/azureml_py38/lib/python3.10/site-packages (from knack<0.12.0->azureml-core~=1.57.0->azureml-sdk) (0.9.0)\nRequirement already satisfied: portalocker<3,>=1.4 in /anaconda/envs/azureml_py38/lib/python3.10/site-packages (from msal-extensions<=2.0.0,>=0.3.0->azureml-core~=1.57.0->azureml-sdk) (2.10.1)\nRequirement already satisfied: requests-oauthlib>=0.5.0 in /anaconda/envs/azureml_py38/lib/python3.10/site-packages (from msrest<=0.7.1,>=0.5.1->azureml-core~=1.57.0->azureml-sdk) (2.0.0)\nRequirement already satisfied: certifi>=2017.4.17 in /anaconda/envs/azureml_py38/lib/python3.10/site-packages (from msrest<=0.7.1,>=0.5.1->azureml-core~=1.57.0->azureml-sdk) (2024.8.30)\nRequirement already satisfied: pyasn1>=0.1.1 in /anaconda/envs/azureml_py38/lib/python3.10/site-packages (from ndg-httpsclient<=0.5.1->azureml-core~=1.57.0->azureml-sdk) (0.6.0)\nRequirement already satisfied: pynacl>=1.5 in /anaconda/envs/azureml_py38/lib/python3.10/site-packages (from paramiko<4.0.0,>=2.0.8->azureml-core~=1.57.0->azureml-sdk) (1.5.0)\nRequirement already satisfied: bcrypt>=3.2 in /anaconda/envs/azureml_py38/lib/python3.10/site-packages (from paramiko<4.0.0,>=2.0.8->azureml-core~=1.57.0->azureml-sdk) (4.2.0)\nRequirement already satisfied: idna<4,>=2.5 in /anaconda/envs/azureml_py38/lib/python3.10/site-packages (from requests[socks]<3.0.0,>=2.19.1->azureml-core~=1.57.0->azureml-sdk) (3.7)\nRequirement already satisfied: charset-normalizer<4,>=2 in /anaconda/envs/azureml_py38/lib/python3.10/site-packages (from requests[socks]<3.0.0,>=2.19.1->azureml-core~=1.57.0->azureml-sdk) (3.3.2)\nRequirement already satisfied: PySocks!=1.5.7,>=1.5.6 in /anaconda/envs/azureml_py38/lib/python3.10/site-packages (from requests[socks]<3.0.0,>=2.19.1->azureml-core~=1.57.0->azureml-sdk) (1.7.1)\nRequirement already satisfied: jeepney>=0.6 in /anaconda/envs/azureml_py38/lib/python3.10/site-packages (from SecretStorage<4.0.0->azureml-core~=1.57.0->azureml-sdk) (0.8.0)\nRequirement already satisfied: backports.weakref in /anaconda/envs/azureml_py38/lib/python3.10/site-packages (from backports.tempfile->azureml-core~=1.57.0->azureml-sdk) (1.0.post1)\nRequirement already satisfied: cffi>=1.12 in /anaconda/envs/azureml_py38/lib/python3.10/site-packages (from cryptography>=1.1.0->adal<=1.2.7,>=1.2.0->azureml-core~=1.57.0->azureml-sdk) (1.16.0)\nRequirement already satisfied: zipp>=0.5 in /anaconda/envs/azureml_py38/lib/python3.10/site-packages (from importlib-metadata<=8.2.0->azureml-automl-core~=1.57.0->azureml-train-automl-client~=1.57.0->azureml-sdk) (3.19.2)\nRequirement already satisfied: oauthlib>=3.0.0 in /anaconda/envs/azureml_py38/lib/python3.10/site-packages (from requests-oauthlib>=0.5.0->msrest<=0.7.1,>=0.5.1->azureml-core~=1.57.0->azureml-sdk) (3.2.2)\nRequirement already satisfied: rpds-py>=0.7.1 in /anaconda/envs/azureml_py38/lib/python3.10/site-packages (from jsonschema->azureml-dataprep<5.2.0a,>=5.1.0a->azureml-dataset-runtime[fuse]~=1.57.0->azureml-sdk) (0.19.1)\nRequirement already satisfied: referencing>=0.28.4 in /anaconda/envs/azureml_py38/lib/python3.10/site-packages (from jsonschema->azureml-dataprep<5.2.0a,>=5.1.0a->azureml-dataset-runtime[fuse]~=1.57.0->azureml-sdk) (0.35.1)\nRequirement already satisfied: attrs>=22.2.0 in /anaconda/envs/azureml_py38/lib/python3.10/site-packages (from jsonschema->azureml-dataprep<5.2.0a,>=5.1.0a->azureml-dataset-runtime[fuse]~=1.57.0->azureml-sdk) (24.2.0)\nRequirement already satisfied: jsonschema-specifications>=2023.03.6 in /anaconda/envs/azureml_py38/lib/python3.10/site-packages (from jsonschema->azureml-dataprep<5.2.0a,>=5.1.0a->azureml-dataset-runtime[fuse]~=1.57.0->azureml-sdk) (2023.12.1)\nRequirement already satisfied: pycparser in /anaconda/envs/azureml_py38/lib/python3.10/site-packages (from cffi>=1.12->cryptography>=1.1.0->adal<=1.2.7,>=1.2.0->azureml-core~=1.57.0->azureml-sdk) (2.22)\n"
        }
      ],
      "execution_count": 63,
      "metadata": {
        "jupyter": {
          "source_hidden": false,
          "outputs_hidden": false
        },
        "nteract": {
          "transient": {
            "deleting": false
          }
        },
        "gather": {
          "logged": 1733519544577
        }
      }
    },
    {
      "cell_type": "code",
      "source": [
        "%config IPCompleter.greedy=True"
      ],
      "outputs": [],
      "execution_count": 38,
      "metadata": {
        "jupyter": {
          "source_hidden": false,
          "outputs_hidden": false
        },
        "nteract": {
          "transient": {
            "deleting": false
          }
        }
      }
    },
    {
      "cell_type": "code",
      "source": [
        "import seaborn as sns\n",
        "import pandas as pd\n",
        "import seaborn as sns\n",
        "import matplotlib.pyplot as plt\n",
        "from sklearn.metrics import confusion_matrix\n",
        "from azureml.core.model import Model\n",
        "import sys\n",
        "import mlflow\n",
        "import mlflow.sklearn\n",
        "from pyspark.sql import SparkSession\n",
        "from pyspark.sql.functions import lit\n",
        "from pyspark.sql import functions as F\n",
        "from pyspark.sql.window import Window\n",
        "from pyspark.sql.functions import col, when, expr, asc, count, countDistinct, max, collect_list, sum, isnan, isnull, last\n",
        "from pyspark.sql.functions import col as col_null\n",
        "from pyspark.sql.types import StructType, StructField, IntegerType, DoubleType, StringType, DateType\n",
        "# Importar bibliotecas para normalización \n",
        "from sklearn.preprocessing import LabelEncoder\n",
        "from sklearn.preprocessing import StandardScaler\n",
        "# Importar bibliotecas para Modelos\n",
        "from pyspark.ml.classification import GBTClassifier\n",
        "from pyspark.ml.classification import RandomForestClassifier\n",
        "from pyspark.ml.feature import VectorAssembler, StringIndexer\n",
        "from pyspark.ml.linalg import Vectors\n",
        "from mlflow.tracking import MlflowClient"
      ],
      "outputs": [],
      "execution_count": 39,
      "metadata": {
        "jupyter": {
          "source_hidden": false,
          "outputs_hidden": false
        },
        "nteract": {
          "transient": {
            "deleting": false
          }
        },
        "gather": {
          "logged": 1733518823802
        }
      }
    },
    {
      "cell_type": "code",
      "source": [
        "# Importar bibliotecas visialización\n",
        "import matplotlib.pyplot as plt\n",
        "from matplotlib import colors\n",
        "import seaborn as sns\n",
        "import matplotlib"
      ],
      "outputs": [],
      "execution_count": 40,
      "metadata": {
        "jupyter": {
          "source_hidden": false,
          "outputs_hidden": false
        },
        "nteract": {
          "transient": {
            "deleting": false
          }
        },
        "gather": {
          "logged": 1733518824116
        }
      }
    },
    {
      "cell_type": "code",
      "source": [
        "# Crear una sesión de Spark\n",
        "spark = SparkSession.builder \\\n",
        "    .appName(\"MiAplicacion\") \\\n",
        "    .getOrCreate()"
      ],
      "outputs": [
        {
          "output_type": "stream",
          "name": "stderr",
          "text": "24/12/06 21:00:22 WARN SparkSession: Using an existing Spark session; only runtime SQL configurations will take effect.\n"
        }
      ],
      "execution_count": 41,
      "metadata": {
        "jupyter": {
          "source_hidden": false,
          "outputs_hidden": false
        },
        "nteract": {
          "transient": {
            "deleting": false
          }
        },
        "gather": {
          "logged": 1733518824426
        }
      }
    },
    {
      "cell_type": "markdown",
      "source": [
        "### Cargamos el mejor modelos"
      ],
      "metadata": {
        "nteract": {
          "transient": {
            "deleting": false
          }
        }
      }
    },
    {
      "cell_type": "code",
      "source": [
        "from azureml.core import Workspace, Model\n",
        "\n",
        "# Conectar al workspace\n",
        "workspace_name = \"Dbricksspace-war-123\"  # Cambia al nombre de tu workspace\n",
        "subscription_id = \"e2fce082-d0f5-42e6-892d-078f098b0d47\"\n",
        "resource_group = \"War-2025\"\n",
        "\n",
        "ws = Workspace.get(\n",
        "    name=workspace_name,\n",
        "    subscription_id=subscription_id,\n",
        "    resource_group=resource_group,\n",
        ")\n",
        "\n",
        "# Cargar el modelo desde el registro\n",
        "model_name = \"RandomForest_Model\"\n",
        "model_version = 8\n",
        "model = Model(ws, name=model_name, version=model_version)\n",
        "\n",
        "# Descargar los artefactos del modelo\n",
        "model.download(target_dir=\"./model\", exist_ok=True)\n",
        "print(f\"Modelo {model_name} descargado a './model'\")"
      ],
      "outputs": [
        {
          "output_type": "stream",
          "name": "stderr",
          "text": "WARNING:msrest.serialization:Ran into a deserialization error. Ignoring since this is failsafe deserialization\nTraceback (most recent call last):\n  File \"/anaconda/envs/azureml_py310_sdkv2/lib/python3.10/site-packages/msrest/serialization.py\", line 1509, in failsafe_deserialize\n    return self(target_obj, data, content_type=content_type)\n  File \"/anaconda/envs/azureml_py310_sdkv2/lib/python3.10/site-packages/msrest/serialization.py\", line 1375, in __call__\n    data = self._unpack_content(response_data, content_type)\n  File \"/anaconda/envs/azureml_py310_sdkv2/lib/python3.10/site-packages/msrest/serialization.py\", line 1543, in _unpack_content\n    raise ValueError(\"This pipeline didn't have the RawDeserializer policy; can't deserialize\")\nValueError: This pipeline didn't have the RawDeserializer policy; can't deserialize\nWARNING:msrest.serialization:Ran into a deserialization error. Ignoring since this is failsafe deserialization\nTraceback (most recent call last):\n  File \"/anaconda/envs/azureml_py310_sdkv2/lib/python3.10/site-packages/msrest/serialization.py\", line 1509, in failsafe_deserialize\n    return self(target_obj, data, content_type=content_type)\n  File \"/anaconda/envs/azureml_py310_sdkv2/lib/python3.10/site-packages/msrest/serialization.py\", line 1375, in __call__\n    data = self._unpack_content(response_data, content_type)\n  File \"/anaconda/envs/azureml_py310_sdkv2/lib/python3.10/site-packages/msrest/serialization.py\", line 1543, in _unpack_content\n    raise ValueError(\"This pipeline didn't have the RawDeserializer policy; can't deserialize\")\nValueError: This pipeline didn't have the RawDeserializer policy; can't deserialize\n"
        },
        {
          "output_type": "stream",
          "name": "stdout",
          "text": "Modelo RandomForest_Model descargado a './model'\n"
        }
      ],
      "execution_count": 42,
      "metadata": {
        "jupyter": {
          "source_hidden": false,
          "outputs_hidden": false
        },
        "nteract": {
          "transient": {
            "deleting": false
          }
        },
        "gather": {
          "logged": 1733518849172
        }
      }
    },
    {
      "cell_type": "code",
      "source": [
        "# from azureml.core import Workspace, Model\n",
        "\n",
        "# # Conectar al workspace\n",
        "# workspace_name = \"Dbricksspace-war-123\"  # Cambia al nombre de tu workspace\n",
        "# subscription_id = \"e2fce082-d0f5-42e6-892d-078f098b0d47\"\n",
        "# resource_group = \"War-2025\"\n",
        "\n",
        "# ws = Workspace.get(\n",
        "#     name=workspace_name,\n",
        "#     subscription_id=subscription_id,\n",
        "#     resource_group=resource_group,\n",
        "# )\n",
        "\n",
        "# # Cargar el modelo desde el registro\n",
        "# model_name = \"LogisticRegression_Model\"\n",
        "# model_version = 7\n",
        "# model = Model(ws, name=model_name, version=model_version)\n",
        "\n",
        "# # Descargar los artefactos del modelo\n",
        "# model.download(target_dir=\"./model\", exist_ok=True)\n",
        "# print(f\"Modelo {model_name} descargado a './model'\")"
      ],
      "outputs": [],
      "execution_count": 43,
      "metadata": {
        "jupyter": {
          "source_hidden": false,
          "outputs_hidden": false
        },
        "nteract": {
          "transient": {
            "deleting": false
          }
        },
        "gather": {
          "logged": 1733518849853
        }
      }
    },
    {
      "cell_type": "code",
      "source": [
        "# # Cargar el modelo con MLflow (como un modelo de pyfunc)\n",
        "# import mlflow.pyfunc\n",
        "\n",
        "# # Asumiendo que el modelo fue guardado con MLflow como 'pyfunc'\n",
        "# model_path = './model/LogisticRegression_Model'  # Ruta a la carpeta donde descargaste el modelo\n",
        "# model_loaded = mlflow.pyfunc.load_model(model_path)"
      ],
      "outputs": [],
      "execution_count": 44,
      "metadata": {
        "jupyter": {
          "source_hidden": false,
          "outputs_hidden": false
        },
        "nteract": {
          "transient": {
            "deleting": false
          }
        },
        "gather": {
          "logged": 1733518850111
        }
      }
    },
    {
      "cell_type": "code",
      "source": [
        "ls ./model"
      ],
      "outputs": [
        {
          "output_type": "stream",
          "name": "stdout",
          "text": "\u001b[0m\u001b[34;42mLogisticRegression_Model\u001b[0m/  \u001b[34;42mRandomForest_Model\u001b[0m/\r\n"
        }
      ],
      "execution_count": 45,
      "metadata": {
        "jupyter": {
          "source_hidden": false,
          "outputs_hidden": false
        },
        "nteract": {
          "transient": {
            "deleting": false
          }
        },
        "gather": {
          "logged": 1733518850423
        }
      }
    },
    {
      "cell_type": "code",
      "source": [
        "# Verificar archivos en la carpeta del modelo\n",
        "model_dir = \"./model\"\n",
        "print(\"Archivos en el directorio:\", os.listdir(model_dir))"
      ],
      "outputs": [
        {
          "output_type": "stream",
          "name": "stdout",
          "text": "Archivos en el directorio: ['LogisticRegression_Model', 'RandomForest_Model']\n"
        }
      ],
      "execution_count": 46,
      "metadata": {
        "jupyter": {
          "source_hidden": false,
          "outputs_hidden": false
        },
        "nteract": {
          "transient": {
            "deleting": false
          }
        },
        "gather": {
          "logged": 1733518850819
        }
      }
    },
    {
      "cell_type": "code",
      "source": [
        "# Ruta del directorio del modelo descargado\n",
        "model_subdir = \"./model/RandomForest_Model\"\n",
        "\n",
        "# Verificar archivos dentro del subdirectorio del modelo\n",
        "model_contents = os.listdir(model_subdir)\n",
        "model_contents"
      ],
      "outputs": [
        {
          "output_type": "execute_result",
          "execution_count": 47,
          "data": {
            "text/plain": "['conda.yaml',\n 'MLmodel',\n 'python_env.yaml',\n 'RandomForest_Model',\n 'requirements.txt',\n 'sparkml']"
          },
          "metadata": {}
        }
      ],
      "execution_count": 47,
      "metadata": {
        "jupyter": {
          "source_hidden": false,
          "outputs_hidden": false
        },
        "nteract": {
          "transient": {
            "deleting": false
          }
        },
        "gather": {
          "logged": 1733518852257
        }
      }
    },
    {
      "cell_type": "code",
      "source": [
        "# # Ruta del directorio del modelo descargado\n",
        "# model_subdir = \"./model/LogisticRegression_Model\"\n",
        "\n",
        "# # Verificar archivos dentro del subdirectorio del modelo\n",
        "# model_contents = os.listdir(model_subdir)\n",
        "# model_contents"
      ],
      "outputs": [],
      "execution_count": 48,
      "metadata": {
        "jupyter": {
          "source_hidden": false,
          "outputs_hidden": false
        },
        "nteract": {
          "transient": {
            "deleting": false
          }
        },
        "gather": {
          "logged": 1733518853756
        }
      }
    },
    {
      "cell_type": "code",
      "source": [
        "# # Verificar archivos en la carpeta principal del modelo\n",
        "# model_dir = \"./model/LogisticRegression_Model\"\n",
        "# print(\"Contenido en ./model:\", os.listdir(model_dir))"
      ],
      "outputs": [],
      "execution_count": 49,
      "metadata": {
        "jupyter": {
          "source_hidden": false,
          "outputs_hidden": false
        },
        "nteract": {
          "transient": {
            "deleting": false
          }
        },
        "gather": {
          "logged": 1733518854355
        }
      }
    },
    {
      "cell_type": "markdown",
      "source": [
        "* data: Este generalmente contiene los artefactos del modelo, como los pesos o estructuras específicas (por ejemplo, un archivo model.pkl).\n",
        "* metadata: Información adicional sobre el modelo (puede incluir la definición del modelo o detalles del entrenamiento).\n",
        "* treesMetadata: Específico para modelos basados en árboles, como RandomForest."
      ],
      "metadata": {
        "nteract": {
          "transient": {
            "deleting": false
          }
        }
      }
    },
    {
      "cell_type": "code",
      "source": [
        "# Ruta del subdirectorio del modelo\n",
        "# model_subdir = \"./model/RandomForest_Model\"\n",
        "model_subdir = \"./model/RandomForest_Model\"\n",
        "\n",
        "# Verificar archivos dentro del subdirectorio\n",
        "print(\"Archivos en RandomForest_Model:\", os.listdir(model_subdir))"
      ],
      "outputs": [
        {
          "output_type": "stream",
          "name": "stdout",
          "text": "Archivos en RandomForest_Model: ['conda.yaml', 'MLmodel', 'python_env.yaml', 'RandomForest_Model', 'requirements.txt', 'sparkml']\n"
        }
      ],
      "execution_count": 50,
      "metadata": {
        "jupyter": {
          "source_hidden": false,
          "outputs_hidden": false
        },
        "nteract": {
          "transient": {
            "deleting": false
          }
        },
        "gather": {
          "logged": 1733518857222
        }
      }
    },
    {
      "cell_type": "code",
      "source": [
        "# Revisar el contenido del directorio `data`\n",
        "data_dir = \"./model/RandomForest_Model\"\n",
        "print(\"Archivos en el directorio 'data':\", os.listdir(data_dir))"
      ],
      "outputs": [
        {
          "output_type": "stream",
          "name": "stdout",
          "text": "Archivos en el directorio 'data': ['conda.yaml', 'MLmodel', 'python_env.yaml', 'RandomForest_Model', 'requirements.txt', 'sparkml']\n"
        }
      ],
      "execution_count": 51,
      "metadata": {
        "jupyter": {
          "source_hidden": false,
          "outputs_hidden": false
        },
        "nteract": {
          "transient": {
            "deleting": false
          }
        },
        "gather": {
          "logged": 1733518861677
        }
      }
    },
    {
      "cell_type": "code",
      "source": [
        "# Ruta al modelo guardado\n",
        "model_path = \"./model/RandomForest_Model\"\n",
        "# Cargar el modelo usando mlflow.spark\n",
        "spark_model = mlflow.spark.load_model(model_path)"
      ],
      "outputs": [
        {
          "output_type": "stream",
          "name": "stderr",
          "text": "2024/12/06 21:01:02 INFO mlflow.spark: File './model/RandomForest_Model/sparkml' is already on DFS, copy is not necessary.\n"
        }
      ],
      "execution_count": 52,
      "metadata": {
        "jupyter": {
          "source_hidden": false,
          "outputs_hidden": false
        },
        "nteract": {
          "transient": {
            "deleting": false
          }
        },
        "gather": {
          "logged": 1733518865129
        }
      }
    },
    {
      "cell_type": "code",
      "source": [
        "# # Ruta del subdirectorio del modelo\n",
        "# # model_subdir = \"./model/RandomForest_Model\"\n",
        "# model_subdir = \"./model/LogisticRegression_Model\"\n",
        "\n",
        "# # Verificar archivos dentro del subdirectorio\n",
        "# print(\"Archivos en LogisticRegression_Model:\", os.listdir(model_subdir))\n",
        "\n",
        "# # Revisar el contenido del directorio `data`\n",
        "# data_dir = \"./model/LogisticRegression_Model\"\n",
        "# print(\"Archivos en el directorio 'data':\", os.listdir(data_dir))\n",
        "\n",
        "# # Ruta al modelo guardado\n",
        "# model_path = \"./model/LogisticRegression_Model\"\n",
        "\n",
        "# # Cargar el modelo usando mlflow.spark\n",
        "# spark_model = mlflow.spark.load_model(model_path)"
      ],
      "outputs": [],
      "execution_count": null,
      "metadata": {
        "jupyter": {
          "source_hidden": false,
          "outputs_hidden": false
        },
        "nteract": {
          "transient": {
            "deleting": false
          }
        },
        "gather": {
          "logged": 1733517522185
        }
      }
    },
    {
      "cell_type": "code",
      "source": [
        "# import os\n",
        "\n",
        "# # Verificar contenido del directorio del modelo\n",
        "# model_dir = \"./model/LogisticRegression_Model\"\n",
        "# print(\"Archivos en el directorio del modelo:\", os.listdir(model_dir))\n",
        "\n",
        "# # Si es necesario, también revisa subdirectorios\n",
        "# data_dir = os.path.join(model_dir, \"data\")\n",
        "# if os.path.exists(data_dir):\n",
        "#     print(\"Archivos en 'data':\", os.listdir(data_dir))\n"
      ],
      "outputs": [],
      "execution_count": null,
      "metadata": {
        "jupyter": {
          "source_hidden": false,
          "outputs_hidden": false
        },
        "nteract": {
          "transient": {
            "deleting": false
          }
        },
        "gather": {
          "logged": 1733517523147
        }
      }
    },
    {
      "cell_type": "code",
      "source": [
        "# # Cargar el modelo con MLflow\n",
        "# model = mlflow.pyfunc.load_model(model_dir)"
      ],
      "outputs": [],
      "execution_count": null,
      "metadata": {
        "jupyter": {
          "source_hidden": false,
          "outputs_hidden": false
        },
        "nteract": {
          "transient": {
            "deleting": false
          }
        },
        "gather": {
          "logged": 1733517524121
        }
      }
    },
    {
      "cell_type": "markdown",
      "source": [
        "### Lectura data prediccion"
      ],
      "metadata": {
        "nteract": {
          "transient": {
            "deleting": false
          }
        }
      }
    },
    {
      "cell_type": "code",
      "source": [
        "from pyspark.sql import SparkSession\n",
        "from pyspark.sql.types import StructType, StructField, DoubleType\n",
        "\n",
        "# Crear sesión de Spark\n",
        "spark = SparkSession.builder.appName(\"Ejemplo\").getOrCreate()\n",
        "\n",
        "\n",
        "data = [\n",
        "    [13.72, 1.43, 2.5, 16.7, 108.0, 3.4, 3.67, 0.19, 2.04, 6.8, 0.89, 2.87, 1285.0],\n",
        "    [12.37, 0.94, 1.36, 10.6, 88.0, 1.98, 0.57, 0.28, 0.42, 1.95, 1.05, 1.82, 520.0]\n",
        "]\n",
        "# Definir el esquema\n",
        "schema = StructType([\n",
        "    StructField(\"Alcohol\", DoubleType(), True),\n",
        "    StructField(\"Malic_acid\", DoubleType(), True),\n",
        "    StructField(\"Ash\", DoubleType(), True),\n",
        "    StructField(\"Alcalinity_of_ash\", DoubleType(), True),\n",
        "    StructField(\"Magnesium\", DoubleType(), True),\n",
        "    StructField(\"Total_phenols\", DoubleType(), True),\n",
        "    StructField(\"Flavanoids\", DoubleType(), True),\n",
        "    StructField(\"Nonflavanoid_phenols\", DoubleType(), True),\n",
        "    StructField(\"Proanthocyanins\", DoubleType(), True),\n",
        "    StructField(\"Color_intensity\", DoubleType(), True),\n",
        "    StructField(\"Hue\", DoubleType(), True),\n",
        "    StructField(\"OD315_diluted_wines\", DoubleType(), True),\n",
        "    StructField(\"Proline\", DoubleType(), True)\n",
        "])\n",
        "\n",
        "# Crear el DataFrame\n",
        "df = spark.createDataFrame(data, schema=schema)\n",
        "\n",
        "# Mostrar el contenido del DataFrame\n",
        "df.show()\n"
      ],
      "outputs": [
        {
          "output_type": "stream",
          "name": "stdout",
          "text": "+-------+----------+----+-----------------+---------+-------------+----------+--------------------+---------------+---------------+----+-------------------+-------+\n|Alcohol|Malic_acid| Ash|Alcalinity_of_ash|Magnesium|Total_phenols|Flavanoids|Nonflavanoid_phenols|Proanthocyanins|Color_intensity| Hue|OD315_diluted_wines|Proline|\n+-------+----------+----+-----------------+---------+-------------+----------+--------------------+---------------+---------------+----+-------------------+-------+\n|  13.72|      1.43| 2.5|             16.7|    108.0|          3.4|      3.67|                0.19|           2.04|            6.8|0.89|               2.87| 1285.0|\n|  12.37|      0.94|1.36|             10.6|     88.0|         1.98|      0.57|                0.28|           0.42|           1.95|1.05|               1.82|  520.0|\n+-------+----------+----+-----------------+---------+-------------+----------+--------------------+---------------+---------------+----+-------------------+-------+\n\n"
        }
      ],
      "execution_count": 53,
      "metadata": {
        "jupyter": {
          "source_hidden": false,
          "outputs_hidden": false
        },
        "nteract": {
          "transient": {
            "deleting": false
          }
        },
        "gather": {
          "logged": 1733518874516
        }
      }
    },
    {
      "cell_type": "code",
      "source": [
        "df.dtypes"
      ],
      "outputs": [
        {
          "output_type": "execute_result",
          "execution_count": 54,
          "data": {
            "text/plain": "[('Alcohol', 'double'),\n ('Malic_acid', 'double'),\n ('Ash', 'double'),\n ('Alcalinity_of_ash', 'double'),\n ('Magnesium', 'double'),\n ('Total_phenols', 'double'),\n ('Flavanoids', 'double'),\n ('Nonflavanoid_phenols', 'double'),\n ('Proanthocyanins', 'double'),\n ('Color_intensity', 'double'),\n ('Hue', 'double'),\n ('OD315_diluted_wines', 'double'),\n ('Proline', 'double')]"
          },
          "metadata": {}
        }
      ],
      "execution_count": 54,
      "metadata": {
        "jupyter": {
          "source_hidden": false,
          "outputs_hidden": false
        },
        "nteract": {
          "transient": {
            "deleting": false
          }
        },
        "gather": {
          "logged": 1733518875551
        }
      }
    },
    {
      "cell_type": "markdown",
      "source": [
        "## Escalamos"
      ],
      "metadata": {
        "nteract": {
          "transient": {
            "deleting": false
          }
        }
      }
    },
    {
      "cell_type": "code",
      "source": [
        "def escalar_columnas(df, columna_excluir=\"Target\"):\n",
        "    \"\"\"\n",
        "    Escala las columnas numéricas de un DataFrame, excluyendo la columna especificada.\n",
        "\n",
        "    Args:\n",
        "        df (pd.DataFrame): DataFrame a escalar.\n",
        "        columna_excluir (str): Nombre de la columna que no se escalará.\n",
        "\n",
        "    Returns:\n",
        "        pd.DataFrame: DataFrame con las columnas seleccionadas escaladas.\n",
        "    \"\"\"\n",
        "    # convierte a pandas\n",
        "    df = df.toPandas()\n",
        "    # Seleccionar las columnas a escalar\n",
        "    columnas_escala = [col for col in df.columns if col != columna_excluir]\n",
        "    \n",
        "    # Crear un objeto StandardScaler\n",
        "    scaler = StandardScaler()\n",
        "    \n",
        "    # Escalar las columnas seleccionadas\n",
        "    df[columnas_escala] = scaler.fit_transform(df[columnas_escala])\n",
        "        # convertimos a spark\n",
        "    df = spark.createDataFrame(df)\n",
        "    print(\"Columnas escaladas excluyendo:\", columna_excluir)\n",
        "    return df"
      ],
      "outputs": [],
      "execution_count": 55,
      "metadata": {
        "jupyter": {
          "source_hidden": false,
          "outputs_hidden": false
        },
        "nteract": {
          "transient": {
            "deleting": false
          }
        },
        "gather": {
          "logged": 1733518880839
        }
      }
    },
    {
      "cell_type": "code",
      "source": [
        "df_escalado = escalar_columnas(df, columna_excluir=\"Target\")"
      ],
      "outputs": [
        {
          "output_type": "stream",
          "name": "stdout",
          "text": "Columnas escaladas excluyendo: Target\n"
        }
      ],
      "execution_count": 56,
      "metadata": {
        "jupyter": {
          "source_hidden": false,
          "outputs_hidden": false
        },
        "nteract": {
          "transient": {
            "deleting": false
          }
        },
        "gather": {
          "logged": 1733518883255
        }
      }
    },
    {
      "cell_type": "code",
      "source": [
        "df_escalado.show()"
      ],
      "outputs": [
        {
          "output_type": "stream",
          "name": "stdout",
          "text": "+-------+-------------------+-------------------+-------------------+---------+-------------+-------------------+--------------------+---------------+---------------+-------------------+-------------------+-------+\n|Alcohol|         Malic_acid|                Ash|  Alcalinity_of_ash|Magnesium|Total_phenols|         Flavanoids|Nonflavanoid_phenols|Proanthocyanins|Color_intensity|                Hue|OD315_diluted_wines|Proline|\n+-------+-------------------+-------------------+-------------------+---------+-------------+-------------------+--------------------+---------------+---------------+-------------------+-------------------+-------+\n|    1.0| 0.9999999999999996| 0.9999999999999998| 1.0000000000000002|      1.0|          1.0| 0.9999999999999999|                -1.0|            1.0|            1.0|-0.9999999999999993| 0.9999999999999998|    1.0|\n|   -1.0|-1.0000000000000004|-1.0000000000000002|-0.9999999999999997|     -1.0|         -1.0|-1.0000000000000002|                 1.0|           -1.0|           -1.0| 1.0000000000000007|-1.0000000000000002|   -1.0|\n+-------+-------------------+-------------------+-------------------+---------+-------------+-------------------+--------------------+---------------+---------------+-------------------+-------------------+-------+\n\n"
        }
      ],
      "execution_count": 57,
      "metadata": {
        "jupyter": {
          "source_hidden": false,
          "outputs_hidden": false
        },
        "nteract": {
          "transient": {
            "deleting": false
          }
        },
        "gather": {
          "logged": 1733518885623
        }
      }
    },
    {
      "cell_type": "code",
      "source": [
        "# Eliminar la columna 'Ash' porque aporta menos de 1% a la implementacion de la variable Target\n",
        "df_escalado = df_escalado.drop('Ash')"
      ],
      "outputs": [],
      "execution_count": 58,
      "metadata": {
        "jupyter": {
          "source_hidden": false,
          "outputs_hidden": false
        },
        "nteract": {
          "transient": {
            "deleting": false
          }
        },
        "gather": {
          "logged": 1733518885953
        }
      }
    },
    {
      "cell_type": "markdown",
      "source": [
        "### Vectorizamos"
      ],
      "metadata": {
        "nteract": {
          "transient": {
            "deleting": false
          }
        }
      }
    },
    {
      "cell_type": "code",
      "source": [
        "from pyspark.ml.feature import VectorAssembler\n",
        "\n",
        "# if \"features\" in df_escalado.columns:\n",
        "#     df_escalado = df_escalado.drop(\"features\")\n",
        "\n",
        "assembler = VectorAssembler(inputCols=['Alcohol', 'Malic_acid','Alcalinity_of_ash', 'Magnesium', 'Total_phenols', 'Flavanoids', 'Nonflavanoid_phenols', 'Proanthocyanins',\n",
        " 'Color_intensity', 'Hue', 'OD315_diluted_wines', 'Proline'], outputCol=\"features\")\n",
        "df_escalado = assembler.transform(df_escalado)\n",
        "df_escalado.show(5)"
      ],
      "outputs": [
        {
          "output_type": "stream",
          "name": "stdout",
          "text": "+-------+-------------------+-------------------+---------+-------------+-------------------+--------------------+---------------+---------------+-------------------+-------------------+-------+--------------------+\n|Alcohol|         Malic_acid|  Alcalinity_of_ash|Magnesium|Total_phenols|         Flavanoids|Nonflavanoid_phenols|Proanthocyanins|Color_intensity|                Hue|OD315_diluted_wines|Proline|            features|\n+-------+-------------------+-------------------+---------+-------------+-------------------+--------------------+---------------+---------------+-------------------+-------------------+-------+--------------------+\n|    1.0| 0.9999999999999996| 1.0000000000000002|      1.0|          1.0| 0.9999999999999999|                -1.0|            1.0|            1.0|-0.9999999999999993| 0.9999999999999998|    1.0|[1.0,0.9999999999...|\n|   -1.0|-1.0000000000000004|-0.9999999999999997|     -1.0|         -1.0|-1.0000000000000002|                 1.0|           -1.0|           -1.0| 1.0000000000000007|-1.0000000000000002|   -1.0|[-1.0,-1.00000000...|\n+-------+-------------------+-------------------+---------+-------------+-------------------+--------------------+---------------+---------------+-------------------+-------------------+-------+--------------------+\n\n"
        }
      ],
      "execution_count": 59,
      "metadata": {
        "jupyter": {
          "source_hidden": false,
          "outputs_hidden": false
        },
        "nteract": {
          "transient": {
            "deleting": false
          }
        },
        "gather": {
          "logged": 1733518889446
        }
      }
    },
    {
      "cell_type": "code",
      "source": [
        "df_escalado=df_escalado.select('features')\n",
        "df_escalado.show()"
      ],
      "outputs": [
        {
          "output_type": "stream",
          "name": "stdout",
          "text": "+--------------------+\n|            features|\n+--------------------+\n|[1.0,0.9999999999...|\n|[-1.0,-1.00000000...|\n+--------------------+\n\n"
        }
      ],
      "execution_count": 60,
      "metadata": {
        "jupyter": {
          "source_hidden": false,
          "outputs_hidden": false
        },
        "nteract": {
          "transient": {
            "deleting": false
          }
        },
        "gather": {
          "logged": 1733518890244
        }
      }
    },
    {
      "cell_type": "code",
      "source": [
        "model"
      ],
      "outputs": [
        {
          "output_type": "execute_result",
          "execution_count": 61,
          "data": {
            "text/plain": "Model(workspace=Workspace.create(name='Dbricksspace-war-123', subscription_id='e2fce082-d0f5-42e6-892d-078f098b0d47', resource_group='War-2025'), name=RandomForest_Model, id=RandomForest_Model:8, version=8, tags={}, properties={'flavors.spark': '{\\n  \"pyspark_version\": \"3.5.3\",\\n  \"model_data\": \"sparkml\",\\n  \"code\": null,\\n  \"model_class\": \"pyspark.ml.pipeline.PipelineModel\"\\n}', 'flavors.python_function': '{\\n  \"loader_module\": \"mlflow.spark\",\\n  \"python_version\": \"3.10.14\",\\n  \"data\": \"sparkml\",\\n  \"env\": {\\n    \"conda\": \"conda.yaml\",\\n    \"virtualenv\": \"python_env.yaml\"\\n  }\\n}', 'flavors': 'spark,python_function', 'azureml.artifactPrefix': 'ExperimentRun/dcid.398ed832-d9a2-428b-9fd6-2b3108e44b61/RandomForest_Model', 'model_json': '{\"run_id\": \"398ed832-d9a2-428b-9fd6-2b3108e44b61\", \"artifact_path\": \"RandomForest_Model\", \"utc_time_created\": \"2024-12-06 20:52:20.718155\", \"model_uuid\": \"b3a0f719fcb04e06a0fcb28a03106ee4\", \"flavors\": {\"spark\": {\"pyspark_version\": \"3.5.3\", \"model_data\": \"sparkml\", \"code\": null, \"model_class\": \"pyspark.ml.pipeline.PipelineModel\"}, \"python_function\": {\"loader_module\": \"mlflow.spark\", \"python_version\": \"3.10.14\", \"data\": \"sparkml\", \"env\": {\"conda\": \"conda.yaml\", \"virtualenv\": \"python_env.yaml\"}}}}', 'azureml.storagePath': 'ExperimentRun/dcid.398ed832-d9a2-428b-9fd6-2b3108e44b61/RandomForest_Model', 'mlflow.modelSourceUri': 'azureml://eastus.api.azureml.ms/mlflow/v2.0/subscriptions/e2fce082-d0f5-42e6-892d-078f098b0d47/resourceGroups/War-2025/providers/Microsoft.MachineLearningServices/workspaces/Dbricksspace-war-123/experiments/0/runs/398ed832-d9a2-428b-9fd6-2b3108e44b61/artifacts/RandomForest_Model'})"
          },
          "metadata": {}
        }
      ],
      "execution_count": 61,
      "metadata": {
        "jupyter": {
          "source_hidden": false,
          "outputs_hidden": false
        },
        "nteract": {
          "transient": {
            "deleting": false
          }
        },
        "gather": {
          "logged": 1733518892160
        }
      }
    },
    {
      "cell_type": "markdown",
      "source": [
        "### Predecimos"
      ],
      "metadata": {
        "nteract": {
          "transient": {
            "deleting": false
          }
        }
      }
    },
    {
      "cell_type": "code",
      "source": [
        "# Realizar predicciones usando el modelo cargado\n",
        "from joblib import load\n",
        "predicciones = spark_model.transform(df_escalado)\n",
        "# Mostrar las predicciones\n",
        "predicciones.show()"
      ],
      "outputs": [
        {
          "output_type": "stream",
          "name": "stdout",
          "text": "+--------------------+-----------------+-----------------+----------+\n|            features|    rawPrediction|      probability|prediction|\n+--------------------+-----------------+-----------------+----------+\n|[1.0,0.9999999999...|[0.0,9.0,1.0,0.0]|[0.0,0.9,0.1,0.0]|       1.0|\n|[-1.0,-1.00000000...|[0.0,0.0,5.0,5.0]|[0.0,0.0,0.5,0.5]|       2.0|\n+--------------------+-----------------+-----------------+----------+\n\n"
        }
      ],
      "execution_count": 62,
      "metadata": {
        "jupyter": {
          "source_hidden": false,
          "outputs_hidden": false
        },
        "nteract": {
          "transient": {
            "deleting": false
          }
        },
        "gather": {
          "logged": 1733518895229
        }
      }
    },
    {
      "cell_type": "code",
      "source": [
        "print('fin prediccioens')"
      ],
      "outputs": [],
      "execution_count": null,
      "metadata": {
        "jupyter": {
          "source_hidden": false,
          "outputs_hidden": false
        },
        "nteract": {
          "transient": {
            "deleting": false
          }
        }
      }
    }
  ],
  "metadata": {
    "kernelspec": {
      "name": "python310-sdkv2",
      "language": "python",
      "display_name": "Python 3.10 - SDK v2"
    },
    "language_info": {
      "name": "python",
      "version": "3.10.14",
      "mimetype": "text/x-python",
      "codemirror_mode": {
        "name": "ipython",
        "version": 3
      },
      "pygments_lexer": "ipython3",
      "nbconvert_exporter": "python",
      "file_extension": ".py"
    },
    "microsoft": {
      "ms_spell_check": {
        "ms_spell_check_language": "es"
      },
      "host": {
        "AzureML": {
          "notebookHasBeenCompleted": true
        }
      }
    },
    "kernel_info": {
      "name": "python310-sdkv2"
    },
    "nteract": {
      "version": "nteract-front-end@1.0.0"
    }
  },
  "nbformat": 4,
  "nbformat_minor": 2
}